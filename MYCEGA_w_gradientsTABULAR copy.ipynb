{
 "cells": [
  {
   "cell_type": "code",
   "execution_count": 1,
   "id": "686b464a",
   "metadata": {},
   "outputs": [
    {
     "name": "stdout",
     "output_type": "stream",
     "text": [
      "calculating on: cuda:0\n",
      "tensor([[-0.9289,  1.4697,  0.3169,  ..., -0.5756, -1.0470, -0.1107],\n",
      "        [-0.6037,  2.2679,  0.5258,  ..., -0.1232, -0.6194, -0.2017],\n",
      "        [-0.6989,  2.0938,  0.7652,  ..., -0.1837, -0.8559, -0.1295],\n",
      "        ...,\n",
      "        [-0.5848,  2.2127,  0.5031,  ...,  0.0353, -0.7070, -0.0409],\n",
      "        [-0.6014,  1.8933,  0.8650,  ..., -0.6966, -0.6844,  0.6174],\n",
      "        [-0.4838,  2.2531, -0.6111,  ...,  0.2800, -0.5916,  0.3755]])\n",
      "train:shuffel = False\n",
      "eval:shuffel = False\n",
      "Epoch: 0\n",
      "      Training_acc: 0.6530944625407166\n",
      "-------------------\n",
      "\n",
      "Epoch: 1\n",
      "      Training_acc: 0.6530944625407166\n",
      "-------------------\n",
      "\n",
      "Epoch: 2\n",
      "      Training_acc: 0.6530944625407166\n",
      "-------------------\n",
      "\n",
      "Epoch: 3\n",
      "      Training_acc: 0.6530944625407166\n",
      "-------------------\n",
      "\n",
      "NOTE: THESE SAVED MODELS ARE BEEING OVERWRITTEN ON NEXT RUN\n",
      "./\n",
      "evaluating ...\n",
      "jo\n"
     ]
    },
    {
     "name": "stderr",
     "output_type": "stream",
     "text": [
      "0it [00:00, ?it/s]"
     ]
    },
    {
     "name": "stdout",
     "output_type": "stream",
     "text": [
      "not NLP\n",
      "not NLP\n",
      "not NLP\n",
      "not NLP\n",
      "not NLP\n",
      "(1, 26, 8)\n"
     ]
    },
    {
     "name": "stderr",
     "output_type": "stream",
     "text": [
      "1it [00:00,  5.30it/s]"
     ]
    },
    {
     "name": "stdout",
     "output_type": "stream",
     "text": [
      "not NLP\n",
      "not NLP\n",
      "not NLP\n",
      "not NLP\n",
      "not NLP\n",
      "(2, 26, 8)\n"
     ]
    },
    {
     "name": "stderr",
     "output_type": "stream",
     "text": [
      "2it [00:00,  5.30it/s]"
     ]
    },
    {
     "name": "stdout",
     "output_type": "stream",
     "text": [
      "not NLP\n",
      "not NLP\n",
      "not NLP\n",
      "not NLP\n",
      "not NLP\n",
      "(3, 26, 8)\n"
     ]
    },
    {
     "name": "stderr",
     "output_type": "stream",
     "text": [
      "3it [00:00,  5.16it/s]"
     ]
    },
    {
     "name": "stdout",
     "output_type": "stream",
     "text": [
      "not NLP\n",
      "not NLP\n",
      "not NLP\n",
      "not NLP\n",
      "not NLP\n",
      "(4, 26, 8)\n"
     ]
    },
    {
     "name": "stderr",
     "output_type": "stream",
     "text": [
      "4it [00:00,  5.16it/s]"
     ]
    },
    {
     "name": "stdout",
     "output_type": "stream",
     "text": [
      "not NLP\n",
      "not NLP\n",
      "not NLP\n",
      "not NLP\n",
      "not NLP\n",
      "(5, 26, 8)\n"
     ]
    },
    {
     "name": "stderr",
     "output_type": "stream",
     "text": [
      "5it [00:00,  5.21it/s]"
     ]
    },
    {
     "name": "stdout",
     "output_type": "stream",
     "text": [
      "not NLP\n",
      "not NLP\n",
      "not NLP\n",
      "not NLP\n",
      "not NLP\n",
      "(6, 26, 8)\n"
     ]
    },
    {
     "name": "stderr",
     "output_type": "stream",
     "text": [
      "6it [00:01,  4.82it/s]"
     ]
    },
    {
     "name": "stdout",
     "output_type": "stream",
     "text": [
      "not NLP\n",
      "not NLP\n",
      "not NLP\n",
      "not NLP\n",
      "not NLP\n",
      "(7, 26, 8)\n"
     ]
    },
    {
     "name": "stderr",
     "output_type": "stream",
     "text": [
      "7it [00:01,  4.72it/s]"
     ]
    },
    {
     "name": "stdout",
     "output_type": "stream",
     "text": [
      "not NLP\n",
      "not NLP\n",
      "not NLP\n",
      "not NLP\n",
      "not NLP\n",
      "(8, 26, 8)\n"
     ]
    },
    {
     "name": "stderr",
     "output_type": "stream",
     "text": [
      "8it [00:01,  4.73it/s]"
     ]
    },
    {
     "name": "stdout",
     "output_type": "stream",
     "text": [
      "not NLP\n",
      "not NLP\n",
      "not NLP\n",
      "not NLP\n",
      "not NLP\n",
      "(9, 26, 8)\n"
     ]
    },
    {
     "name": "stderr",
     "output_type": "stream",
     "text": [
      "9it [00:01,  4.87it/s]"
     ]
    },
    {
     "name": "stdout",
     "output_type": "stream",
     "text": [
      "not NLP\n",
      "not NLP\n",
      "not NLP\n",
      "not NLP\n",
      "not NLP\n",
      "(10, 26, 8)\n"
     ]
    },
    {
     "name": "stderr",
     "output_type": "stream",
     "text": [
      "10it [00:02,  4.90it/s]"
     ]
    },
    {
     "name": "stdout",
     "output_type": "stream",
     "text": [
      "not NLP\n",
      "not NLP\n",
      "not NLP\n",
      "not NLP\n",
      "not NLP\n",
      "(11, 26, 8)\n"
     ]
    },
    {
     "name": "stderr",
     "output_type": "stream",
     "text": [
      "11it [00:02,  4.87it/s]"
     ]
    },
    {
     "name": "stdout",
     "output_type": "stream",
     "text": [
      "not NLP\n",
      "not NLP\n",
      "not NLP\n",
      "not NLP\n",
      "not NLP\n",
      "(12, 26, 8)\n"
     ]
    },
    {
     "name": "stderr",
     "output_type": "stream",
     "text": [
      "12it [00:02,  4.90it/s]"
     ]
    },
    {
     "name": "stdout",
     "output_type": "stream",
     "text": [
      "not NLP\n",
      "not NLP\n",
      "not NLP\n",
      "not NLP\n",
      "not NLP\n",
      "(13, 26, 8)\n"
     ]
    },
    {
     "name": "stderr",
     "output_type": "stream",
     "text": [
      "13it [00:02,  4.87it/s]"
     ]
    },
    {
     "name": "stdout",
     "output_type": "stream",
     "text": [
      "not NLP\n",
      "not NLP\n",
      "not NLP\n",
      "not NLP\n",
      "not NLP\n",
      "(14, 26, 8)\n"
     ]
    },
    {
     "name": "stderr",
     "output_type": "stream",
     "text": [
      "14it [00:02,  4.90it/s]"
     ]
    },
    {
     "name": "stdout",
     "output_type": "stream",
     "text": [
      "not NLP\n",
      "not NLP\n",
      "not NLP\n",
      "not NLP\n",
      "not NLP\n",
      "(15, 26, 8)\n"
     ]
    },
    {
     "name": "stderr",
     "output_type": "stream",
     "text": [
      "15it [00:03,  4.78it/s]"
     ]
    },
    {
     "name": "stdout",
     "output_type": "stream",
     "text": [
      "not NLP\n",
      "not NLP\n",
      "not NLP\n",
      "not NLP\n",
      "not NLP\n",
      "(16, 26, 8)\n"
     ]
    },
    {
     "name": "stderr",
     "output_type": "stream",
     "text": [
      "16it [00:03,  4.93it/s]"
     ]
    },
    {
     "name": "stdout",
     "output_type": "stream",
     "text": [
      "not NLP\n",
      "not NLP\n",
      "not NLP\n",
      "not NLP\n",
      "not NLP\n",
      "(17, 26, 8)\n"
     ]
    },
    {
     "name": "stderr",
     "output_type": "stream",
     "text": [
      "17it [00:03,  5.05it/s]"
     ]
    },
    {
     "name": "stdout",
     "output_type": "stream",
     "text": [
      "not NLP\n",
      "not NLP\n",
      "not NLP\n",
      "not NLP\n",
      "not NLP\n",
      "(18, 26, 8)\n"
     ]
    },
    {
     "name": "stderr",
     "output_type": "stream",
     "text": [
      "18it [00:03,  5.12it/s]"
     ]
    },
    {
     "name": "stdout",
     "output_type": "stream",
     "text": [
      "not NLP\n",
      "not NLP\n",
      "not NLP\n",
      "not NLP\n",
      "not NLP\n",
      "(19, 26, 8)\n"
     ]
    },
    {
     "name": "stderr",
     "output_type": "stream",
     "text": [
      "19it [00:03,  5.09it/s]"
     ]
    },
    {
     "name": "stdout",
     "output_type": "stream",
     "text": [
      "not NLP\n",
      "not NLP\n",
      "not NLP\n",
      "not NLP\n",
      "not NLP\n",
      "(20, 26, 8)\n"
     ]
    },
    {
     "name": "stderr",
     "output_type": "stream",
     "text": [
      "20it [00:04,  5.18it/s]"
     ]
    },
    {
     "name": "stdout",
     "output_type": "stream",
     "text": [
      "Progess: 23.75%\n",
      "test acc: 64.29%\n",
      "test Loss: 0.67\n",
      "-------------------\n",
      "not NLP\n",
      "not NLP\n",
      "not NLP\n",
      "not NLP\n",
      "not NLP\n",
      "(21, 26, 8)\n"
     ]
    },
    {
     "name": "stderr",
     "output_type": "stream",
     "text": [
      "21it [00:04,  5.21it/s]"
     ]
    },
    {
     "name": "stdout",
     "output_type": "stream",
     "text": [
      "not NLP\n",
      "not NLP\n",
      "not NLP\n",
      "not NLP\n",
      "not NLP\n",
      "(22, 26, 8)\n"
     ]
    },
    {
     "name": "stderr",
     "output_type": "stream",
     "text": [
      "22it [00:04,  5.22it/s]"
     ]
    },
    {
     "name": "stdout",
     "output_type": "stream",
     "text": [
      "not NLP\n",
      "not NLP\n",
      "not NLP\n",
      "not NLP\n",
      "not NLP\n",
      "(23, 26, 8)\n"
     ]
    },
    {
     "name": "stderr",
     "output_type": "stream",
     "text": [
      "23it [00:04,  5.14it/s]"
     ]
    },
    {
     "name": "stdout",
     "output_type": "stream",
     "text": [
      "not NLP\n",
      "not NLP\n",
      "not NLP\n",
      "not NLP\n",
      "not NLP\n",
      "(24, 26, 8)\n"
     ]
    },
    {
     "name": "stderr",
     "output_type": "stream",
     "text": [
      "24it [00:04,  5.10it/s]"
     ]
    },
    {
     "name": "stdout",
     "output_type": "stream",
     "text": [
      "not NLP\n",
      "not NLP\n",
      "not NLP\n",
      "not NLP\n",
      "not NLP\n",
      "(25, 26, 8)\n"
     ]
    },
    {
     "name": "stderr",
     "output_type": "stream",
     "text": [
      "25it [00:04,  5.17it/s]"
     ]
    },
    {
     "name": "stdout",
     "output_type": "stream",
     "text": [
      "not NLP\n",
      "not NLP\n",
      "not NLP\n",
      "not NLP\n",
      "not NLP\n",
      "(26, 26, 8)\n"
     ]
    },
    {
     "name": "stderr",
     "output_type": "stream",
     "text": [
      "26it [00:05,  5.25it/s]"
     ]
    },
    {
     "name": "stdout",
     "output_type": "stream",
     "text": [
      "not NLP\n",
      "not NLP\n",
      "not NLP\n",
      "not NLP\n",
      "not NLP\n",
      "(27, 26, 8)\n"
     ]
    },
    {
     "name": "stderr",
     "output_type": "stream",
     "text": [
      "27it [00:05,  5.22it/s]"
     ]
    },
    {
     "name": "stdout",
     "output_type": "stream",
     "text": [
      "not NLP\n",
      "not NLP\n",
      "not NLP\n",
      "not NLP\n",
      "not NLP\n",
      "(28, 26, 8)\n"
     ]
    },
    {
     "name": "stderr",
     "output_type": "stream",
     "text": [
      "28it [00:05,  5.24it/s]"
     ]
    },
    {
     "name": "stdout",
     "output_type": "stream",
     "text": [
      "not NLP\n",
      "not NLP\n",
      "not NLP\n",
      "not NLP\n",
      "not NLP\n",
      "(29, 26, 8)\n"
     ]
    },
    {
     "name": "stderr",
     "output_type": "stream",
     "text": [
      "29it [00:05,  5.19it/s]"
     ]
    },
    {
     "name": "stdout",
     "output_type": "stream",
     "text": [
      "not NLP\n",
      "not NLP\n",
      "not NLP\n",
      "not NLP\n",
      "not NLP\n",
      "(30, 26, 8)\n"
     ]
    },
    {
     "name": "stderr",
     "output_type": "stream",
     "text": [
      "30it [00:05,  5.22it/s]"
     ]
    },
    {
     "name": "stdout",
     "output_type": "stream",
     "text": [
      "not NLP\n",
      "not NLP\n",
      "not NLP\n",
      "not NLP\n",
      "not NLP\n",
      "(31, 26, 8)\n"
     ]
    },
    {
     "name": "stderr",
     "output_type": "stream",
     "text": [
      "31it [00:06,  5.15it/s]"
     ]
    },
    {
     "name": "stdout",
     "output_type": "stream",
     "text": [
      "not NLP\n",
      "not NLP\n",
      "not NLP\n",
      "not NLP\n",
      "not NLP\n",
      "(32, 26, 8)\n"
     ]
    },
    {
     "name": "stderr",
     "output_type": "stream",
     "text": [
      "32it [00:06,  5.10it/s]"
     ]
    },
    {
     "name": "stdout",
     "output_type": "stream",
     "text": [
      "not NLP\n",
      "not NLP\n",
      "not NLP\n",
      "not NLP\n",
      "not NLP\n",
      "(33, 26, 8)\n"
     ]
    },
    {
     "name": "stderr",
     "output_type": "stream",
     "text": [
      "33it [00:06,  5.15it/s]"
     ]
    },
    {
     "name": "stdout",
     "output_type": "stream",
     "text": [
      "not NLP\n",
      "not NLP\n",
      "not NLP\n",
      "not NLP\n",
      "not NLP\n",
      "(34, 26, 8)\n"
     ]
    },
    {
     "name": "stderr",
     "output_type": "stream",
     "text": [
      "34it [00:06,  5.14it/s]"
     ]
    },
    {
     "name": "stdout",
     "output_type": "stream",
     "text": [
      "not NLP\n",
      "not NLP\n",
      "not NLP\n",
      "not NLP\n",
      "not NLP\n",
      "(35, 26, 8)\n"
     ]
    },
    {
     "name": "stderr",
     "output_type": "stream",
     "text": [
      "35it [00:06,  5.18it/s]"
     ]
    },
    {
     "name": "stdout",
     "output_type": "stream",
     "text": [
      "not NLP\n",
      "not NLP\n",
      "not NLP\n",
      "not NLP\n",
      "not NLP\n",
      "(36, 26, 8)\n"
     ]
    },
    {
     "name": "stderr",
     "output_type": "stream",
     "text": [
      "36it [00:07,  5.26it/s]"
     ]
    },
    {
     "name": "stdout",
     "output_type": "stream",
     "text": [
      "not NLP\n",
      "not NLP\n",
      "not NLP\n",
      "not NLP\n",
      "not NLP\n",
      "(37, 26, 8)\n"
     ]
    },
    {
     "name": "stderr",
     "output_type": "stream",
     "text": [
      "37it [00:07,  5.34it/s]"
     ]
    },
    {
     "name": "stdout",
     "output_type": "stream",
     "text": [
      "not NLP\n",
      "not NLP\n",
      "not NLP\n",
      "not NLP\n",
      "not NLP\n",
      "(38, 26, 8)\n"
     ]
    },
    {
     "name": "stderr",
     "output_type": "stream",
     "text": [
      "38it [00:07,  5.34it/s]"
     ]
    },
    {
     "name": "stdout",
     "output_type": "stream",
     "text": [
      "not NLP\n",
      "not NLP\n",
      "not NLP\n",
      "not NLP\n",
      "not NLP\n",
      "(39, 26, 8)\n"
     ]
    },
    {
     "name": "stderr",
     "output_type": "stream",
     "text": [
      "39it [00:07,  5.40it/s]"
     ]
    },
    {
     "name": "stdout",
     "output_type": "stream",
     "text": [
      "not NLP\n",
      "not NLP\n",
      "not NLP\n",
      "not NLP\n",
      "not NLP\n",
      "(40, 26, 8)\n"
     ]
    },
    {
     "name": "stderr",
     "output_type": "stream",
     "text": [
      "40it [00:07,  5.48it/s]"
     ]
    },
    {
     "name": "stdout",
     "output_type": "stream",
     "text": [
      "Progess: 48.75%\n",
      "test acc: 64.29%\n",
      "test Loss: 0.66\n",
      "-------------------\n",
      "not NLP\n",
      "not NLP\n",
      "not NLP\n",
      "not NLP\n",
      "not NLP\n",
      "(41, 26, 8)\n"
     ]
    },
    {
     "name": "stderr",
     "output_type": "stream",
     "text": [
      "41it [00:08,  5.43it/s]"
     ]
    },
    {
     "name": "stdout",
     "output_type": "stream",
     "text": [
      "not NLP\n",
      "not NLP\n",
      "not NLP\n",
      "not NLP\n",
      "not NLP\n",
      "(42, 26, 8)\n"
     ]
    },
    {
     "name": "stderr",
     "output_type": "stream",
     "text": [
      "42it [00:08,  5.29it/s]"
     ]
    },
    {
     "name": "stdout",
     "output_type": "stream",
     "text": [
      "not NLP\n",
      "not NLP\n",
      "not NLP\n",
      "not NLP\n",
      "not NLP\n",
      "(43, 26, 8)\n"
     ]
    },
    {
     "name": "stderr",
     "output_type": "stream",
     "text": [
      "43it [00:08,  5.19it/s]"
     ]
    },
    {
     "name": "stdout",
     "output_type": "stream",
     "text": [
      "not NLP\n",
      "not NLP\n",
      "not NLP\n",
      "not NLP\n",
      "not NLP\n",
      "(44, 26, 8)\n"
     ]
    },
    {
     "name": "stderr",
     "output_type": "stream",
     "text": [
      "44it [00:08,  5.09it/s]"
     ]
    },
    {
     "name": "stdout",
     "output_type": "stream",
     "text": [
      "not NLP\n",
      "not NLP\n",
      "not NLP\n",
      "not NLP\n",
      "not NLP\n",
      "(45, 26, 8)\n"
     ]
    },
    {
     "name": "stderr",
     "output_type": "stream",
     "text": [
      "45it [00:08,  5.11it/s]"
     ]
    },
    {
     "name": "stdout",
     "output_type": "stream",
     "text": [
      "not NLP\n",
      "not NLP\n",
      "not NLP\n",
      "not NLP\n",
      "not NLP\n",
      "(46, 26, 8)\n"
     ]
    },
    {
     "name": "stderr",
     "output_type": "stream",
     "text": [
      "46it [00:09,  4.99it/s]"
     ]
    },
    {
     "name": "stdout",
     "output_type": "stream",
     "text": [
      "not NLP\n",
      "not NLP\n",
      "not NLP\n",
      "not NLP\n",
      "not NLP\n",
      "(47, 26, 8)\n"
     ]
    },
    {
     "name": "stderr",
     "output_type": "stream",
     "text": [
      "47it [00:09,  4.90it/s]"
     ]
    },
    {
     "name": "stdout",
     "output_type": "stream",
     "text": [
      "not NLP\n",
      "not NLP\n",
      "not NLP\n",
      "not NLP\n",
      "not NLP\n",
      "(48, 26, 8)\n"
     ]
    },
    {
     "name": "stderr",
     "output_type": "stream",
     "text": [
      "48it [00:09,  4.81it/s]"
     ]
    },
    {
     "name": "stdout",
     "output_type": "stream",
     "text": [
      "not NLP\n",
      "not NLP\n",
      "not NLP\n",
      "not NLP\n",
      "not NLP\n",
      "(49, 26, 8)\n"
     ]
    },
    {
     "name": "stderr",
     "output_type": "stream",
     "text": [
      "49it [00:09,  5.01it/s]"
     ]
    },
    {
     "name": "stdout",
     "output_type": "stream",
     "text": [
      "not NLP\n",
      "not NLP\n",
      "not NLP\n",
      "not NLP\n",
      "not NLP\n",
      "(50, 26, 8)\n"
     ]
    },
    {
     "name": "stderr",
     "output_type": "stream",
     "text": [
      "50it [00:09,  5.04it/s]"
     ]
    },
    {
     "name": "stdout",
     "output_type": "stream",
     "text": [
      "not NLP\n",
      "not NLP\n",
      "not NLP\n",
      "not NLP\n",
      "not NLP\n",
      "(51, 26, 8)\n"
     ]
    },
    {
     "name": "stderr",
     "output_type": "stream",
     "text": [
      "51it [00:10,  4.87it/s]"
     ]
    },
    {
     "name": "stdout",
     "output_type": "stream",
     "text": [
      "not NLP\n",
      "not NLP\n",
      "not NLP\n",
      "not NLP\n",
      "not NLP\n",
      "(52, 26, 8)\n"
     ]
    },
    {
     "name": "stderr",
     "output_type": "stream",
     "text": [
      "52it [00:10,  4.57it/s]"
     ]
    },
    {
     "name": "stdout",
     "output_type": "stream",
     "text": [
      "not NLP\n",
      "not NLP\n",
      "not NLP\n",
      "not NLP\n",
      "not NLP\n",
      "(53, 26, 8)\n"
     ]
    },
    {
     "name": "stderr",
     "output_type": "stream",
     "text": [
      "53it [00:10,  4.56it/s]"
     ]
    },
    {
     "name": "stdout",
     "output_type": "stream",
     "text": [
      "not NLP\n",
      "not NLP\n",
      "not NLP\n",
      "not NLP\n",
      "not NLP\n",
      "(54, 26, 8)\n"
     ]
    },
    {
     "name": "stderr",
     "output_type": "stream",
     "text": [
      "54it [00:10,  4.57it/s]"
     ]
    },
    {
     "name": "stdout",
     "output_type": "stream",
     "text": [
      "not NLP\n",
      "not NLP\n",
      "not NLP\n",
      "not NLP\n",
      "not NLP\n",
      "(55, 26, 8)\n"
     ]
    },
    {
     "name": "stderr",
     "output_type": "stream",
     "text": [
      "55it [00:10,  4.54it/s]"
     ]
    },
    {
     "name": "stdout",
     "output_type": "stream",
     "text": [
      "not NLP\n",
      "not NLP\n",
      "not NLP\n",
      "not NLP\n",
      "not NLP\n",
      "(56, 26, 8)\n"
     ]
    },
    {
     "name": "stderr",
     "output_type": "stream",
     "text": [
      "56it [00:11,  4.52it/s]"
     ]
    },
    {
     "name": "stdout",
     "output_type": "stream",
     "text": [
      "not NLP\n",
      "not NLP\n",
      "not NLP\n",
      "not NLP\n",
      "not NLP\n",
      "(57, 26, 8)\n"
     ]
    },
    {
     "name": "stderr",
     "output_type": "stream",
     "text": [
      "57it [00:11,  4.53it/s]"
     ]
    },
    {
     "name": "stdout",
     "output_type": "stream",
     "text": [
      "not NLP\n",
      "not NLP\n",
      "not NLP\n",
      "not NLP\n",
      "not NLP\n",
      "(58, 26, 8)\n"
     ]
    },
    {
     "name": "stderr",
     "output_type": "stream",
     "text": [
      "58it [00:11,  4.55it/s]"
     ]
    },
    {
     "name": "stdout",
     "output_type": "stream",
     "text": [
      "not NLP\n",
      "not NLP\n",
      "not NLP\n",
      "not NLP\n",
      "not NLP\n",
      "(59, 26, 8)\n"
     ]
    },
    {
     "name": "stderr",
     "output_type": "stream",
     "text": [
      "59it [00:11,  4.59it/s]"
     ]
    },
    {
     "name": "stdout",
     "output_type": "stream",
     "text": [
      "not NLP\n",
      "not NLP\n",
      "not NLP\n",
      "not NLP\n",
      "not NLP\n",
      "(60, 26, 8)\n"
     ]
    },
    {
     "name": "stderr",
     "output_type": "stream",
     "text": [
      "60it [00:12,  4.45it/s]"
     ]
    },
    {
     "name": "stdout",
     "output_type": "stream",
     "text": [
      "Progess: 73.75%\n",
      "test acc: 64.29%\n",
      "test Loss: 0.66\n",
      "-------------------\n",
      "not NLP\n",
      "not NLP\n",
      "not NLP\n",
      "not NLP\n",
      "not NLP\n",
      "(61, 26, 8)\n"
     ]
    },
    {
     "name": "stderr",
     "output_type": "stream",
     "text": [
      "61it [00:12,  4.37it/s]"
     ]
    },
    {
     "name": "stdout",
     "output_type": "stream",
     "text": [
      "not NLP\n",
      "not NLP\n",
      "not NLP\n",
      "not NLP\n",
      "not NLP\n",
      "(62, 26, 8)\n"
     ]
    },
    {
     "name": "stderr",
     "output_type": "stream",
     "text": [
      "62it [00:12,  4.38it/s]"
     ]
    },
    {
     "name": "stdout",
     "output_type": "stream",
     "text": [
      "not NLP\n",
      "not NLP\n",
      "not NLP\n",
      "not NLP\n",
      "not NLP\n",
      "(63, 26, 8)\n"
     ]
    },
    {
     "name": "stderr",
     "output_type": "stream",
     "text": [
      "63it [00:12,  4.37it/s]"
     ]
    },
    {
     "name": "stdout",
     "output_type": "stream",
     "text": [
      "not NLP\n",
      "not NLP\n",
      "not NLP\n",
      "not NLP\n",
      "not NLP\n",
      "(64, 26, 8)\n"
     ]
    },
    {
     "name": "stderr",
     "output_type": "stream",
     "text": [
      "64it [00:12,  4.37it/s]"
     ]
    },
    {
     "name": "stdout",
     "output_type": "stream",
     "text": [
      "not NLP\n",
      "not NLP\n",
      "not NLP\n",
      "not NLP\n",
      "not NLP\n",
      "(65, 26, 8)\n"
     ]
    },
    {
     "name": "stderr",
     "output_type": "stream",
     "text": [
      "65it [00:13,  4.46it/s]"
     ]
    },
    {
     "name": "stdout",
     "output_type": "stream",
     "text": [
      "not NLP\n",
      "not NLP\n",
      "not NLP\n",
      "not NLP\n",
      "not NLP\n",
      "(66, 26, 8)\n"
     ]
    },
    {
     "name": "stderr",
     "output_type": "stream",
     "text": [
      "66it [00:13,  4.46it/s]"
     ]
    },
    {
     "name": "stdout",
     "output_type": "stream",
     "text": [
      "not NLP\n",
      "not NLP\n",
      "not NLP\n",
      "not NLP\n",
      "not NLP\n",
      "(67, 26, 8)\n"
     ]
    },
    {
     "name": "stderr",
     "output_type": "stream",
     "text": [
      "67it [00:13,  4.50it/s]"
     ]
    },
    {
     "name": "stdout",
     "output_type": "stream",
     "text": [
      "not NLP\n",
      "not NLP\n",
      "not NLP\n",
      "not NLP\n",
      "not NLP\n",
      "(68, 26, 8)\n"
     ]
    },
    {
     "name": "stderr",
     "output_type": "stream",
     "text": [
      "68it [00:13,  4.50it/s]"
     ]
    },
    {
     "name": "stdout",
     "output_type": "stream",
     "text": [
      "not NLP\n",
      "not NLP\n",
      "not NLP\n",
      "not NLP\n",
      "not NLP\n",
      "(69, 26, 8)\n"
     ]
    },
    {
     "name": "stderr",
     "output_type": "stream",
     "text": [
      "69it [00:14,  4.41it/s]"
     ]
    },
    {
     "name": "stdout",
     "output_type": "stream",
     "text": [
      "not NLP\n",
      "not NLP\n",
      "not NLP\n",
      "not NLP\n",
      "not NLP\n",
      "(70, 26, 8)\n"
     ]
    },
    {
     "name": "stderr",
     "output_type": "stream",
     "text": [
      "70it [00:14,  4.50it/s]"
     ]
    },
    {
     "name": "stdout",
     "output_type": "stream",
     "text": [
      "not NLP\n",
      "not NLP\n",
      "not NLP\n",
      "not NLP\n",
      "not NLP\n",
      "(71, 26, 8)\n"
     ]
    },
    {
     "name": "stderr",
     "output_type": "stream",
     "text": [
      "71it [00:14,  4.55it/s]"
     ]
    },
    {
     "name": "stdout",
     "output_type": "stream",
     "text": [
      "not NLP\n",
      "not NLP\n",
      "not NLP\n",
      "not NLP\n",
      "not NLP\n",
      "(72, 26, 8)\n"
     ]
    },
    {
     "name": "stderr",
     "output_type": "stream",
     "text": [
      "72it [00:14,  4.41it/s]"
     ]
    },
    {
     "name": "stdout",
     "output_type": "stream",
     "text": [
      "not NLP\n",
      "not NLP\n",
      "not NLP\n",
      "not NLP\n",
      "not NLP\n",
      "(73, 26, 8)\n"
     ]
    },
    {
     "name": "stderr",
     "output_type": "stream",
     "text": [
      "73it [00:14,  4.54it/s]"
     ]
    },
    {
     "name": "stdout",
     "output_type": "stream",
     "text": [
      "not NLP\n",
      "not NLP\n",
      "not NLP\n",
      "not NLP\n",
      "not NLP\n",
      "(74, 26, 8)\n"
     ]
    },
    {
     "name": "stderr",
     "output_type": "stream",
     "text": [
      "74it [00:15,  4.75it/s]"
     ]
    },
    {
     "name": "stdout",
     "output_type": "stream",
     "text": [
      "not NLP\n",
      "not NLP\n",
      "not NLP\n",
      "not NLP\n",
      "not NLP\n",
      "(75, 26, 8)\n"
     ]
    },
    {
     "name": "stderr",
     "output_type": "stream",
     "text": [
      "75it [00:15,  4.83it/s]"
     ]
    },
    {
     "name": "stdout",
     "output_type": "stream",
     "text": [
      "not NLP\n",
      "not NLP\n",
      "not NLP\n",
      "not NLP\n",
      "not NLP\n",
      "(76, 26, 8)\n"
     ]
    },
    {
     "name": "stderr",
     "output_type": "stream",
     "text": [
      "76it [00:15,  5.00it/s]"
     ]
    },
    {
     "name": "stdout",
     "output_type": "stream",
     "text": [
      "not NLP\n",
      "not NLP\n",
      "not NLP\n",
      "not NLP\n",
      "not NLP\n",
      "(77, 26, 8)\n"
     ]
    },
    {
     "name": "stderr",
     "output_type": "stream",
     "text": [
      "77it [00:15,  4.91it/s]"
     ]
    },
    {
     "name": "stdout",
     "output_type": "stream",
     "text": [
      "not NLP\n",
      "not NLP\n",
      "not NLP\n",
      "not NLP\n",
      "not NLP\n",
      "(78, 26, 8)\n"
     ]
    },
    {
     "name": "stderr",
     "output_type": "stream",
     "text": [
      "78it [00:15,  4.84it/s]"
     ]
    },
    {
     "name": "stdout",
     "output_type": "stream",
     "text": [
      "not NLP\n",
      "not NLP\n",
      "not NLP\n",
      "not NLP\n",
      "not NLP\n",
      "(79, 26, 8)\n"
     ]
    },
    {
     "name": "stderr",
     "output_type": "stream",
     "text": [
      "79it [00:16,  4.93it/s]"
     ]
    },
    {
     "name": "stdout",
     "output_type": "stream",
     "text": [
      "not NLP\n",
      "not NLP\n",
      "not NLP\n",
      "not NLP\n",
      "not NLP\n",
      "(80, 26, 8)\n"
     ]
    },
    {
     "name": "stderr",
     "output_type": "stream",
     "text": [
      "80it [00:16,  4.89it/s]\n"
     ]
    },
    {
     "name": "stdout",
     "output_type": "stream",
     "text": [
      "Progess: 98.75%\n",
      "test acc: 64.29%\n",
      "test Loss: 0.66\n",
      "-------------------\n",
      "(4, 26, 8)\n",
      "./Models\n"
     ]
    }
   ],
   "source": [
    "%load_ext autoreload\n",
    "%autoreload 2\n",
    "\n",
    "import torch\n",
    "from torch import nn\n",
    "\n",
    "import train\n",
    "import TorchRandomSeed\n",
    "import modelClass\n",
    "import dataloader\n",
    "from torch.utils.data import SubsetRandomSampler\n",
    "\n",
    "seed =1\n",
    "seedObject = TorchRandomSeed.TorchRandomSeed(seed=1) \n",
    "\n",
    "with seedObject:\n",
    "    droplist = []#[\"BloodPressure\", \"Pregnancies\", \"Age\", \"SkinThickness\"]\n",
    "    num_epochs =4\n",
    "    batch_size = 32\n",
    "    test_size = 0.2 # is going to be split again in eval and test\n",
    "    device = \"cuda:0\" if torch.cuda.is_available() else \"cpu\"\n",
    "    #dirPath = \"/home/rosario/explainable/Bachelor/\"# root\n",
    "    dirPath= \"./\" \n",
    "\n",
    "    modelsDirPath = dirPath+ \"Models\"\n",
    "\n",
    "    print(\"calculating on: \" +str(device))\n",
    "    lr =0.1 # 0.001 slowed learningrate\n",
    "\n",
    "    # load data\n",
    "  \n",
    "    trainloader ,random_indices_train, testloader,random_indices_test,X_train , X_test,  y_train , y_test, inputFeatures, outputFeatures, datasetName, featureNames, datasetType= dataloader.load_kaggle_diabetes_dataset(batch_size=batch_size)\n",
    "    #trainloader ,random_indices_train, testloader,random_indices_test,X_train , X_test,  y_train , y_test, inputFeatures, outputFeatures, datasetName, featureNames= dataloader.BreastCancerUCI(batch_size= batch_size, droplist=droplist, test_size=test_size)\n",
    "    #trainloader ,random_indices_train, testloader,random_indices_test,X_train , X_test,  y_train , y_test, inputFeatures, outputFeatures, datasetName, featureNames= dataloader.dryBeanUCI(batch_size=batch_size , droplist= droplist)\n",
    "    \n",
    "    #model = modelClass.Net(inputFeatures= inputFeatures, out_features=outputFeatures)\n",
    "    model= modelClass.BinaryClassification2HL64N(inputFeatures= inputFeatures, outputFeatures= outputFeatures)\n",
    "    modelName = model.modelName\n",
    "    \n",
    "    #print(random_indices_test)\n",
    "\n",
    "    #for i,c in testloader:\n",
    "    #    print(i[0])\n",
    "    #    print(X_test[random_indices_test[0]])\n",
    "    #    break\n",
    "    \n",
    "    # Backward Propergation - loss and optimizer\n",
    "    loss_function = nn.CrossEntropyLoss()\n",
    "    #optimizer = torch.optim.SGD(model.parameters(),lr=lr)\n",
    "    optimizer = torch.optim.Adam(model.parameters())\n",
    "    #grads = train.train(trainloader, model, num_epochs, device, y_train,loss_function, optimizer)    \n",
    "    grads =  train.train(trainloader,random_indices_train, testloader,random_indices_test, model, num_epochs, device, y_train, y_test, loss_function, optimizer)\n",
    " \n",
    "    #train.train(trainloader,random_indices_train, testloader,random_indices_test, model, num_epochs, device, y_train, y_test, loss_function, optimizer)\n",
    "    print(dirPath)\n",
    "\n",
    "    import evalModel\n",
    "    import plotResults\n",
    "    from matplotlib import pyplot as plt\n",
    "    print(\"evaluating ...\")\n",
    "    loaderList = [testloader]\n",
    "    nameList = [\"test\"]\n",
    "    yList = [y_test]\n",
    "    evalModel.doALLeval(model, modelsDirPath, dirPath, loaderList, device,optimizer, loss_function, num_epochs, nameList, yList, inputFeatures, random_indices_test)\n",
    "    #print(dirPath)\n",
    "    print(modelsDirPath)"
   ]
  },
  {
   "cell_type": "code",
   "execution_count": 2,
   "id": "ff2b7308",
   "metadata": {},
   "outputs": [
    {
     "name": "stdout",
     "output_type": "stream",
     "text": [
      "plotting...\n",
      "cosine_similarity\n"
     ]
    },
    {
     "data": {
      "image/png": "[encoded data removed]",
      "text/plain": [
       "<Figure size 640x480 with 1 Axes>"
      ]
     },
     "metadata": {},
     "output_type": "display_data"
    },
    {
     "name": "stdout",
     "output_type": "stream",
     "text": [
      "percentageWeightsSignDifference3\n"
     ]
    },
    {
     "data": {
      "image/png": "[encoded data removed]",
      "text/plain": [
       "<Figure size 640x480 with 1 Axes>"
      ]
     },
     "metadata": {},
     "output_type": "display_data"
    },
    {
     "name": "stdout",
     "output_type": "stream",
     "text": [
      "weightsMagnitude3\n"
     ]
    },
    {
     "data": {
      "image/png": "[encoded data removed]",
      "text/plain": [
       "<Figure size 640x480 with 1 Axes>"
      ]
     },
     "metadata": {},
     "output_type": "display_data"
    },
    {
     "name": "stdout",
     "output_type": "stream",
     "text": [
      "L2Distance3\n"
     ]
    },
    {
     "data": {
      "image/png": "[encoded data removed]",
      "text/plain": [
       "<Figure size 640x480 with 1 Axes>"
      ]
     },
     "metadata": {},
     "output_type": "display_data"
    },
    {
     "name": "stdout",
     "output_type": "stream",
     "text": [
      "weightTrace3\n"
     ]
    },
    {
     "data": {
      "image/png": "[encoded data removed]",
      "text/plain": [
       "<Figure size 640x480 with 1 Axes>"
      ]
     },
     "metadata": {},
     "output_type": "display_data"
    },
    {
     "name": "stdout",
     "output_type": "stream",
     "text": [
      "averageGradientMagnitude3\n",
      "plotting: GM GradientMagnitude averaged over features\n"
     ]
    },
    {
     "data": {
      "image/png": "[encoded data removed]",
      "text/plain": [
       "<Figure size 640x480 with 1 Axes>"
      ]
     },
     "metadata": {},
     "output_type": "display_data"
    },
    {
     "name": "stdout",
     "output_type": "stream",
     "text": [
      "GradientMagnitudePerFeature3\n",
      "plotting: GM GradientMagnitude PerFeature\n"
     ]
    },
    {
     "data": {
      "image/png": "[encoded data removed]",
      "text/plain": [
       "<Figure size 640x480 with 8 Axes>"
      ]
     },
     "metadata": {},
     "output_type": "display_data"
    }
   ],
   "source": [
    "dataPath= dirPath+ \"Results/Trainingresults/\"\n",
    "print(\"plotting...\")\n",
    "import utils \n",
    "import numpy as np\n",
    "\n",
    "#unpackedGradiends = utils.unpackingGradients(inputFeatures, grads)\n",
    "#averagedGradientMagnitude = np.average(np.absolute(unpackedGradiends), axis=0) \n",
    "#gradientMagnitudePerFeature = np.absolute(unpackedGradiends)\n",
    "#utils.appendToNPZ(dirPath+ \"data.npz\", \"test\" + \"GradientsPerFeature\", unpackedGradiends)\n",
    "#utils.appendToNPZ(dirPath+ \"data.npz\", \"test\" + \"GradientMagnitudePerFeature\", gradientMagnitudePerFeature)\n",
    "#utils.appendToNPZ(dirPath+ \"data.npz\", \"test\" + \"AveragedGradientMagnitude\", averagedGradientMagnitude)\n",
    "#plotResults.plotCosineSimilarity(dirPath, \"cosine_simialarity\", set=\"train\")\n",
    "#plotResults.plotCosineSimilarity(dirPath, \"cosine_simialarity\", set=\"eval\")\n",
    "print(\"cosine_similarity\")\n",
    "plotResults.plotCosineSimilarity(dataPath, \"cosine_simialarity\", set=\"test\")\n",
    "plt.show()\n",
    "#plotResults.plotWeightSignDifferences(dirPath, \"percentageWeightsSignDifference1\" , \"train\")\n",
    "#plotResults.plotWeightSignDifferences(dirPath, \"percentageWeightsSignDifference2\" , \"eval\")\n",
    "print(\"percentageWeightsSignDifference3\")\n",
    "plotResults.plotWeightSignDifferences(dataPath, \"percentageWeightsSignDifference3\" , \"test\")\n",
    "plt.show()\n",
    "print(\"weightsMagnitude3\")\n",
    "#plotResults.plotWeightMagnitude(dirPath, \"weightsMagnitude1\",\"train\")\n",
    "#plotResults.plotWeightMagnitude(dirPath, \"weightsMagnitude2\",\"eval\")\n",
    "plotResults.plotWeightMagnitude(dataPath, \"weightsMagnitude3\",\"test\")\n",
    "plt.show()\n",
    "print(\"L2Distance3\")\n",
    "#plotResults.plotL2Distance(dirPath, \"L2Distance1\",\"train\")\n",
    "#plotResults.plotL2Distance(dirPath, \"L2Distance2\",\"eval\")\n",
    "plotResults.plotL2Distance(dataPath, \"L2Distance3\",\"test\")\n",
    "plt.show()\n",
    "print(\"weightTrace3\")\n",
    "#plotResults.plotWeightTrace(dirPath, \"weightTrace1\",\"train\")\n",
    "#plotResults.plotWeightTrace(dirPath, \"weightTrace2\",\"eval\")\n",
    "plotResults.plotWeightTrace(dataPath, \"weightTrace3\",\"test\")    \n",
    "plt.show()\n",
    "#plotResults.plotGradientsPerFeature(dirPath,\"gradientsPerFeature1\" ,False)\n",
    "#plotResults.plotGradientsPerFeature(dirPath,\"gradientsPerFeature2\" ,True )\n",
    "#plt.show()\n",
    "print(\"averageGradientMagnitude3\")\n",
    "#plotResults.plotGradientMagnitude(dirPath, \"averageGradientMagnitude1\",\"train\", perFeature=False)\n",
    "#plotResults.plotGradientMagnitude(dirPath, \"averageGradientMagnitude2\",\"eval\", perFeature=False)\n",
    "plotResults.plotGradientMagnitude(dataPath, \"averageGradientMagnitude3\",\"test\", perFeature=False)\n",
    "plt.show()\n",
    "print(\"GradientMagnitudePerFeature3\")\n",
    "#plotResults.plotGradientMagnitude(dirPath, \"GradientMagnitudePerFeature1\",\"train\", perFeature=True)\n",
    "#plotResults.plotGradientMagnitude(dirPath, \"GradientMagnitudePerFeature2\",\"eval\", perFeature=True)\n",
    "plotResults.plotGradientMagnitude(dataPath, \"GradientMagnitudePerFeature3\",\"test\", perFeature=True)\n",
    "plt.show()\n",
    "#plotResults.plotLoss_Acc(dirPath,\"loss_acc1\", False)\n",
    "#plotResults.plotLoss_Acc(dirPath,\"loss_acc2\",True)\n",
    "#plt.show()\n",
    "#print(\"confusionMatrix3\")\n",
    "#plotResults.plotConfusionMatrix(dirPath, \"confusionMatrix1\", set=\"train\")\n",
    "#plotResults.plotConfusionMatrix(dirPath, \"confusionMatrix2\", set=\"eval\")\n",
    "#plotResults.plotConfusionMatrix(dataPath, \"confusionMatrix3\", set=\"test\")\n",
    "#plt.show()"
   ]
  },
  {
   "cell_type": "code",
   "execution_count": 3,
   "id": "fb5e6b8d",
   "metadata": {},
   "outputs": [
    {
     "name": "stdout",
     "output_type": "stream",
     "text": [
      "y_test\n",
      "inputFeatures\n",
      "testLossPerEpochList\n",
      "testLossPerIterationList\n",
      "testAccPerEpochList\n",
      "testAccPerIterationList\n",
      "testPredictionList\n",
      "testCosine_similarity_toInitialList\n",
      "testCosine_similarity_toFinalList\n",
      "testPercentageWeightSignDifferences_toInitialList\n",
      "testPercentageWeightSignDifferences_toFinalList\n",
      "testAbsoluteIterationWeightsList\n",
      "testL2Dist_toInitialList\n",
      "testL2Dist_toFinalList\n",
      "testRandom10WeightsList\n",
      "testGradientsPerSamplePerFeature\n",
      "testGradientsPerFeature\n",
      "testGradientMagnitudePerFeature\n",
      "testAveragedGradientMagnitude\n",
      "testGradientsPerSamplePerFeature_iteration\n",
      "testGradientsPerFeature_iteration\n",
      "testGradientMagnitudePerFeature_iteration\n",
      "testAveragedGradientMagnitude_iteration\n"
     ]
    },
    {
     "data": {
      "image/png": "[encoded data removed]",
      "text/plain": [
       "<Figure size 640x480 with 1 Axes>"
      ]
     },
     "metadata": {},
     "output_type": "display_data"
    }
   ],
   "source": [
    "data = utils.loadData(dataPath+ \"data.npz\")\n",
    "\n",
    "for i in data:\n",
    "    print(i)\n",
    "\n",
    "np.shape(data[\"testGradientsPerSamplePerFeature_iteration\"])\n",
    "\n",
    "plt.plot(data[\"testAccPerIterationList\"])\n",
    "plt.show()"
   ]
  },
  {
   "cell_type": "code",
   "execution_count": 4,
   "id": "c66ac5a2",
   "metadata": {},
   "outputs": [
    {
     "name": "stdout",
     "output_type": "stream",
     "text": [
      "numerical\n"
     ]
    },
    {
     "name": "stderr",
     "output_type": "stream",
     "text": [
      "  0%|          | 0/80 [00:00<?, ?it/s]"
     ]
    },
    {
     "name": "stdout",
     "output_type": "stream",
     "text": [
      "0\n"
     ]
    },
    {
     "name": "stderr",
     "output_type": "stream",
     "text": [
      "100%|██████████| 26/26 [00:00<00:00, 332.49it/s]\n"
     ]
    },
    {
     "name": "stdout",
     "output_type": "stream",
     "text": [
      "1\n"
     ]
    },
    {
     "name": "stderr",
     "output_type": "stream",
     "text": [
      "100%|██████████| 26/26 [00:00<00:00, 384.51it/s]\n",
      "  2%|▎         | 2/80 [00:00<00:05, 13.29it/s]"
     ]
    },
    {
     "name": "stdout",
     "output_type": "stream",
     "text": [
      "2\n"
     ]
    },
    {
     "name": "stderr",
     "output_type": "stream",
     "text": [
      "100%|██████████| 26/26 [00:00<00:00, 391.96it/s]\n"
     ]
    },
    {
     "name": "stdout",
     "output_type": "stream",
     "text": [
      "3\n"
     ]
    },
    {
     "name": "stderr",
     "output_type": "stream",
     "text": [
      "100%|██████████| 26/26 [00:00<00:00, 397.66it/s]\n",
      "  5%|▌         | 4/80 [00:00<00:05, 14.04it/s]"
     ]
    },
    {
     "name": "stdout",
     "output_type": "stream",
     "text": [
      "4\n"
     ]
    },
    {
     "name": "stderr",
     "output_type": "stream",
     "text": [
      "100%|██████████| 26/26 [00:00<00:00, 392.95it/s]\n"
     ]
    },
    {
     "name": "stdout",
     "output_type": "stream",
     "text": [
      "5\n"
     ]
    },
    {
     "name": "stderr",
     "output_type": "stream",
     "text": [
      "100%|██████████| 26/26 [00:00<00:00, 441.55it/s]\n",
      "  8%|▊         | 6/80 [00:00<00:05, 14.61it/s]"
     ]
    },
    {
     "name": "stdout",
     "output_type": "stream",
     "text": [
      "6\n"
     ]
    },
    {
     "name": "stderr",
     "output_type": "stream",
     "text": [
      "100%|██████████| 26/26 [00:00<00:00, 429.37it/s]\n"
     ]
    },
    {
     "name": "stdout",
     "output_type": "stream",
     "text": [
      "7\n"
     ]
    },
    {
     "name": "stderr",
     "output_type": "stream",
     "text": [
      "100%|██████████| 26/26 [00:00<00:00, 384.14it/s]\n",
      " 10%|█         | 8/80 [00:00<00:04, 14.74it/s]"
     ]
    },
    {
     "name": "stdout",
     "output_type": "stream",
     "text": [
      "8\n"
     ]
    },
    {
     "name": "stderr",
     "output_type": "stream",
     "text": [
      "100%|██████████| 26/26 [00:00<00:00, 361.02it/s]\n"
     ]
    },
    {
     "name": "stdout",
     "output_type": "stream",
     "text": [
      "9\n"
     ]
    },
    {
     "name": "stderr",
     "output_type": "stream",
     "text": [
      "100%|██████████| 26/26 [00:00<00:00, 424.89it/s]\n",
      " 12%|█▎        | 10/80 [00:00<00:04, 14.62it/s]"
     ]
    },
    {
     "name": "stdout",
     "output_type": "stream",
     "text": [
      "10\n"
     ]
    },
    {
     "name": "stderr",
     "output_type": "stream",
     "text": [
      "100%|██████████| 26/26 [00:00<00:00, 415.38it/s]\n"
     ]
    },
    {
     "name": "stdout",
     "output_type": "stream",
     "text": [
      "11\n"
     ]
    },
    {
     "name": "stderr",
     "output_type": "stream",
     "text": [
      "100%|██████████| 26/26 [00:00<00:00, 394.05it/s]\n",
      " 15%|█▌        | 12/80 [00:00<00:04, 14.74it/s]"
     ]
    },
    {
     "name": "stdout",
     "output_type": "stream",
     "text": [
      "12\n"
     ]
    },
    {
     "name": "stderr",
     "output_type": "stream",
     "text": [
      "100%|██████████| 26/26 [00:00<00:00, 403.79it/s]\n"
     ]
    },
    {
     "name": "stdout",
     "output_type": "stream",
     "text": [
      "13\n"
     ]
    },
    {
     "name": "stderr",
     "output_type": "stream",
     "text": [
      "100%|██████████| 26/26 [00:00<00:00, 373.36it/s]\n",
      " 18%|█▊        | 14/80 [00:00<00:04, 14.60it/s]"
     ]
    },
    {
     "name": "stdout",
     "output_type": "stream",
     "text": [
      "14\n"
     ]
    },
    {
     "name": "stderr",
     "output_type": "stream",
     "text": [
      "100%|██████████| 26/26 [00:00<00:00, 414.18it/s]\n"
     ]
    },
    {
     "name": "stdout",
     "output_type": "stream",
     "text": [
      "15\n"
     ]
    },
    {
     "name": "stderr",
     "output_type": "stream",
     "text": [
      "100%|██████████| 26/26 [00:00<00:00, 387.93it/s]\n",
      " 20%|██        | 16/80 [00:01<00:04, 14.69it/s]"
     ]
    },
    {
     "name": "stdout",
     "output_type": "stream",
     "text": [
      "16\n"
     ]
    },
    {
     "name": "stderr",
     "output_type": "stream",
     "text": [
      "100%|██████████| 26/26 [00:00<00:00, 395.93it/s]\n"
     ]
    },
    {
     "name": "stdout",
     "output_type": "stream",
     "text": [
      "17\n"
     ]
    },
    {
     "name": "stderr",
     "output_type": "stream",
     "text": [
      "100%|██████████| 26/26 [00:00<00:00, 411.22it/s]\n",
      " 22%|██▎       | 18/80 [00:01<00:04, 14.76it/s]"
     ]
    },
    {
     "name": "stdout",
     "output_type": "stream",
     "text": [
      "18\n"
     ]
    },
    {
     "name": "stderr",
     "output_type": "stream",
     "text": [
      "100%|██████████| 26/26 [00:00<00:00, 437.18it/s]\n"
     ]
    },
    {
     "name": "stdout",
     "output_type": "stream",
     "text": [
      "19\n"
     ]
    },
    {
     "name": "stderr",
     "output_type": "stream",
     "text": [
      "100%|██████████| 26/26 [00:00<00:00, 415.78it/s]\n",
      " 25%|██▌       | 20/80 [00:01<00:03, 15.05it/s]"
     ]
    },
    {
     "name": "stdout",
     "output_type": "stream",
     "text": [
      "20\n"
     ]
    },
    {
     "name": "stderr",
     "output_type": "stream",
     "text": [
      "100%|██████████| 26/26 [00:00<00:00, 428.27it/s]\n"
     ]
    },
    {
     "name": "stdout",
     "output_type": "stream",
     "text": [
      "21\n"
     ]
    },
    {
     "name": "stderr",
     "output_type": "stream",
     "text": [
      "100%|██████████| 26/26 [00:00<00:00, 409.44it/s]\n",
      " 28%|██▊       | 22/80 [00:01<00:03, 15.20it/s]"
     ]
    },
    {
     "name": "stdout",
     "output_type": "stream",
     "text": [
      "22\n"
     ]
    },
    {
     "name": "stderr",
     "output_type": "stream",
     "text": [
      "100%|██████████| 26/26 [00:00<00:00, 399.68it/s]\n"
     ]
    },
    {
     "name": "stdout",
     "output_type": "stream",
     "text": [
      "23\n"
     ]
    },
    {
     "name": "stderr",
     "output_type": "stream",
     "text": [
      "100%|██████████| 26/26 [00:00<00:00, 418.53it/s]\n",
      " 30%|███       | 24/80 [00:01<00:03, 15.18it/s]"
     ]
    },
    {
     "name": "stdout",
     "output_type": "stream",
     "text": [
      "24\n"
     ]
    },
    {
     "name": "stderr",
     "output_type": "stream",
     "text": [
      "100%|██████████| 26/26 [00:00<00:00, 377.03it/s]\n"
     ]
    },
    {
     "name": "stdout",
     "output_type": "stream",
     "text": [
      "25\n"
     ]
    },
    {
     "name": "stderr",
     "output_type": "stream",
     "text": [
      "100%|██████████| 26/26 [00:00<00:00, 417.43it/s]\n",
      " 32%|███▎      | 26/80 [00:01<00:03, 15.03it/s]"
     ]
    },
    {
     "name": "stdout",
     "output_type": "stream",
     "text": [
      "26\n"
     ]
    },
    {
     "name": "stderr",
     "output_type": "stream",
     "text": [
      "100%|██████████| 26/26 [00:00<00:00, 412.59it/s]\n"
     ]
    },
    {
     "name": "stdout",
     "output_type": "stream",
     "text": [
      "27\n"
     ]
    },
    {
     "name": "stderr",
     "output_type": "stream",
     "text": [
      "100%|██████████| 26/26 [00:00<00:00, 416.47it/s]\n",
      " 35%|███▌      | 28/80 [00:01<00:03, 15.11it/s]"
     ]
    },
    {
     "name": "stdout",
     "output_type": "stream",
     "text": [
      "28\n"
     ]
    },
    {
     "name": "stderr",
     "output_type": "stream",
     "text": [
      "100%|██████████| 26/26 [00:00<00:00, 407.15it/s]\n"
     ]
    },
    {
     "name": "stdout",
     "output_type": "stream",
     "text": [
      "29\n"
     ]
    },
    {
     "name": "stderr",
     "output_type": "stream",
     "text": [
      "100%|██████████| 26/26 [00:00<00:00, 414.18it/s]\n",
      " 38%|███▊      | 30/80 [00:02<00:03, 15.13it/s]"
     ]
    },
    {
     "name": "stdout",
     "output_type": "stream",
     "text": [
      "30\n"
     ]
    },
    {
     "name": "stderr",
     "output_type": "stream",
     "text": [
      "100%|██████████| 26/26 [00:00<00:00, 408.34it/s]\n"
     ]
    },
    {
     "name": "stdout",
     "output_type": "stream",
     "text": [
      "31\n"
     ]
    },
    {
     "name": "stderr",
     "output_type": "stream",
     "text": [
      "100%|██████████| 26/26 [00:00<00:00, 395.68it/s]\n",
      " 40%|████      | 32/80 [00:02<00:03, 15.05it/s]"
     ]
    },
    {
     "name": "stdout",
     "output_type": "stream",
     "text": [
      "32\n"
     ]
    },
    {
     "name": "stderr",
     "output_type": "stream",
     "text": [
      "100%|██████████| 26/26 [00:00<00:00, 377.40it/s]\n"
     ]
    },
    {
     "name": "stdout",
     "output_type": "stream",
     "text": [
      "33\n"
     ]
    },
    {
     "name": "stderr",
     "output_type": "stream",
     "text": [
      "100%|██████████| 26/26 [00:00<00:00, 397.43it/s]\n",
      " 42%|████▎     | 34/80 [00:02<00:03, 14.85it/s]"
     ]
    },
    {
     "name": "stdout",
     "output_type": "stream",
     "text": [
      "34\n"
     ]
    },
    {
     "name": "stderr",
     "output_type": "stream",
     "text": [
      "100%|██████████| 26/26 [00:00<00:00, 377.90it/s]\n"
     ]
    },
    {
     "name": "stdout",
     "output_type": "stream",
     "text": [
      "35\n"
     ]
    },
    {
     "name": "stderr",
     "output_type": "stream",
     "text": [
      "100%|██████████| 26/26 [00:00<00:00, 434.31it/s]\n",
      " 45%|████▌     | 36/80 [00:02<00:02, 14.88it/s]"
     ]
    },
    {
     "name": "stdout",
     "output_type": "stream",
     "text": [
      "36\n"
     ]
    },
    {
     "name": "stderr",
     "output_type": "stream",
     "text": [
      "100%|██████████| 26/26 [00:00<00:00, 417.88it/s]\n"
     ]
    },
    {
     "name": "stdout",
     "output_type": "stream",
     "text": [
      "37\n"
     ]
    },
    {
     "name": "stderr",
     "output_type": "stream",
     "text": [
      "100%|██████████| 26/26 [00:00<00:00, 397.07it/s]\n",
      " 48%|████▊     | 38/80 [00:02<00:02, 14.93it/s]"
     ]
    },
    {
     "name": "stdout",
     "output_type": "stream",
     "text": [
      "38\n"
     ]
    },
    {
     "name": "stderr",
     "output_type": "stream",
     "text": [
      "100%|██████████| 26/26 [00:00<00:00, 408.45it/s]\n"
     ]
    },
    {
     "name": "stdout",
     "output_type": "stream",
     "text": [
      "39\n"
     ]
    },
    {
     "name": "stderr",
     "output_type": "stream",
     "text": [
      "100%|██████████| 26/26 [00:00<00:00, 428.11it/s]\n",
      " 50%|█████     | 40/80 [00:02<00:02, 15.09it/s]"
     ]
    },
    {
     "name": "stdout",
     "output_type": "stream",
     "text": [
      "40\n"
     ]
    },
    {
     "name": "stderr",
     "output_type": "stream",
     "text": [
      "100%|██████████| 26/26 [00:00<00:00, 391.89it/s]\n"
     ]
    },
    {
     "name": "stdout",
     "output_type": "stream",
     "text": [
      "41\n"
     ]
    },
    {
     "name": "stderr",
     "output_type": "stream",
     "text": [
      "100%|██████████| 26/26 [00:00<00:00, 402.40it/s]\n",
      " 52%|█████▎    | 42/80 [00:02<00:02, 14.98it/s]"
     ]
    },
    {
     "name": "stdout",
     "output_type": "stream",
     "text": [
      "42\n"
     ]
    },
    {
     "name": "stderr",
     "output_type": "stream",
     "text": [
      "100%|██████████| 26/26 [00:00<00:00, 405.96it/s]\n"
     ]
    },
    {
     "name": "stdout",
     "output_type": "stream",
     "text": [
      "43\n"
     ]
    },
    {
     "name": "stderr",
     "output_type": "stream",
     "text": [
      "100%|██████████| 26/26 [00:00<00:00, 399.66it/s]\n",
      " 55%|█████▌    | 44/80 [00:02<00:02, 14.96it/s]"
     ]
    },
    {
     "name": "stdout",
     "output_type": "stream",
     "text": [
      "44\n"
     ]
    },
    {
     "name": "stderr",
     "output_type": "stream",
     "text": [
      "100%|██████████| 26/26 [00:00<00:00, 407.32it/s]\n"
     ]
    },
    {
     "name": "stdout",
     "output_type": "stream",
     "text": [
      "45\n"
     ]
    },
    {
     "name": "stderr",
     "output_type": "stream",
     "text": [
      "100%|██████████| 26/26 [00:00<00:00, 390.77it/s]\n",
      " 57%|█████▊    | 46/80 [00:03<00:02, 14.91it/s]"
     ]
    },
    {
     "name": "stdout",
     "output_type": "stream",
     "text": [
      "46\n"
     ]
    },
    {
     "name": "stderr",
     "output_type": "stream",
     "text": [
      "100%|██████████| 26/26 [00:00<00:00, 393.09it/s]\n"
     ]
    },
    {
     "name": "stdout",
     "output_type": "stream",
     "text": [
      "47\n"
     ]
    },
    {
     "name": "stderr",
     "output_type": "stream",
     "text": [
      "100%|██████████| 26/26 [00:00<00:00, 401.48it/s]\n",
      " 60%|██████    | 48/80 [00:03<00:02, 14.85it/s]"
     ]
    },
    {
     "name": "stdout",
     "output_type": "stream",
     "text": [
      "48\n"
     ]
    },
    {
     "name": "stderr",
     "output_type": "stream",
     "text": [
      "100%|██████████| 26/26 [00:00<00:00, 389.98it/s]\n"
     ]
    },
    {
     "name": "stdout",
     "output_type": "stream",
     "text": [
      "49\n"
     ]
    },
    {
     "name": "stderr",
     "output_type": "stream",
     "text": [
      "100%|██████████| 26/26 [00:00<00:00, 404.34it/s]\n",
      " 62%|██████▎   | 50/80 [00:03<00:02, 14.82it/s]"
     ]
    },
    {
     "name": "stdout",
     "output_type": "stream",
     "text": [
      "50\n"
     ]
    },
    {
     "name": "stderr",
     "output_type": "stream",
     "text": [
      "100%|██████████| 26/26 [00:00<00:00, 413.91it/s]\n"
     ]
    },
    {
     "name": "stdout",
     "output_type": "stream",
     "text": [
      "51\n"
     ]
    },
    {
     "name": "stderr",
     "output_type": "stream",
     "text": [
      "100%|██████████| 26/26 [00:00<00:00, 395.43it/s]\n",
      " 65%|██████▌   | 52/80 [00:03<00:01, 14.87it/s]"
     ]
    },
    {
     "name": "stdout",
     "output_type": "stream",
     "text": [
      "52\n"
     ]
    },
    {
     "name": "stderr",
     "output_type": "stream",
     "text": [
      "100%|██████████| 26/26 [00:00<00:00, 406.66it/s]\n"
     ]
    },
    {
     "name": "stdout",
     "output_type": "stream",
     "text": [
      "53\n"
     ]
    },
    {
     "name": "stderr",
     "output_type": "stream",
     "text": [
      "100%|██████████| 26/26 [00:00<00:00, 409.08it/s]\n",
      " 68%|██████▊   | 54/80 [00:03<00:01, 14.92it/s]"
     ]
    },
    {
     "name": "stdout",
     "output_type": "stream",
     "text": [
      "54\n"
     ]
    },
    {
     "name": "stderr",
     "output_type": "stream",
     "text": [
      "100%|██████████| 26/26 [00:00<00:00, 385.70it/s]\n"
     ]
    },
    {
     "name": "stdout",
     "output_type": "stream",
     "text": [
      "55\n"
     ]
    },
    {
     "name": "stderr",
     "output_type": "stream",
     "text": [
      "100%|██████████| 26/26 [00:00<00:00, 421.83it/s]\n",
      " 70%|███████   | 56/80 [00:03<00:01, 14.92it/s]"
     ]
    },
    {
     "name": "stdout",
     "output_type": "stream",
     "text": [
      "56\n"
     ]
    },
    {
     "name": "stderr",
     "output_type": "stream",
     "text": [
      "100%|██████████| 26/26 [00:00<00:00, 306.02it/s]\n"
     ]
    },
    {
     "name": "stdout",
     "output_type": "stream",
     "text": [
      "57\n"
     ]
    },
    {
     "name": "stderr",
     "output_type": "stream",
     "text": [
      "100%|██████████| 26/26 [00:00<00:00, 391.75it/s]\n",
      " 72%|███████▎  | 58/80 [00:03<00:01, 14.21it/s]"
     ]
    },
    {
     "name": "stdout",
     "output_type": "stream",
     "text": [
      "58\n"
     ]
    },
    {
     "name": "stderr",
     "output_type": "stream",
     "text": [
      "100%|██████████| 26/26 [00:00<00:00, 409.91it/s]\n"
     ]
    },
    {
     "name": "stdout",
     "output_type": "stream",
     "text": [
      "59\n"
     ]
    },
    {
     "name": "stderr",
     "output_type": "stream",
     "text": [
      "100%|██████████| 26/26 [00:00<00:00, 405.80it/s]\n",
      " 75%|███████▌  | 60/80 [00:04<00:01, 14.48it/s]"
     ]
    },
    {
     "name": "stdout",
     "output_type": "stream",
     "text": [
      "60\n"
     ]
    },
    {
     "name": "stderr",
     "output_type": "stream",
     "text": [
      "100%|██████████| 26/26 [00:00<00:00, 419.80it/s]\n"
     ]
    },
    {
     "name": "stdout",
     "output_type": "stream",
     "text": [
      "61\n"
     ]
    },
    {
     "name": "stderr",
     "output_type": "stream",
     "text": [
      "100%|██████████| 26/26 [00:00<00:00, 396.25it/s]\n",
      " 78%|███████▊  | 62/80 [00:04<00:01, 14.67it/s]"
     ]
    },
    {
     "name": "stdout",
     "output_type": "stream",
     "text": [
      "62\n"
     ]
    },
    {
     "name": "stderr",
     "output_type": "stream",
     "text": [
      "100%|██████████| 26/26 [00:00<00:00, 408.81it/s]\n"
     ]
    },
    {
     "name": "stdout",
     "output_type": "stream",
     "text": [
      "63\n"
     ]
    },
    {
     "name": "stderr",
     "output_type": "stream",
     "text": [
      "100%|██████████| 26/26 [00:00<00:00, 402.73it/s]\n",
      " 80%|████████  | 64/80 [00:04<00:01, 14.78it/s]"
     ]
    },
    {
     "name": "stdout",
     "output_type": "stream",
     "text": [
      "64\n"
     ]
    },
    {
     "name": "stderr",
     "output_type": "stream",
     "text": [
      "100%|██████████| 26/26 [00:00<00:00, 402.17it/s]\n"
     ]
    },
    {
     "name": "stdout",
     "output_type": "stream",
     "text": [
      "65\n"
     ]
    },
    {
     "name": "stderr",
     "output_type": "stream",
     "text": [
      "100%|██████████| 26/26 [00:00<00:00, 433.10it/s]\n",
      " 82%|████████▎ | 66/80 [00:04<00:00, 14.97it/s]"
     ]
    },
    {
     "name": "stdout",
     "output_type": "stream",
     "text": [
      "66\n"
     ]
    },
    {
     "name": "stderr",
     "output_type": "stream",
     "text": [
      "100%|██████████| 26/26 [00:00<00:00, 409.02it/s]\n"
     ]
    },
    {
     "name": "stdout",
     "output_type": "stream",
     "text": [
      "67\n"
     ]
    },
    {
     "name": "stderr",
     "output_type": "stream",
     "text": [
      "100%|██████████| 26/26 [00:00<00:00, 401.14it/s]\n",
      " 85%|████████▌ | 68/80 [00:04<00:00, 15.00it/s]"
     ]
    },
    {
     "name": "stdout",
     "output_type": "stream",
     "text": [
      "68\n"
     ]
    },
    {
     "name": "stderr",
     "output_type": "stream",
     "text": [
      "100%|██████████| 26/26 [00:00<00:00, 403.63it/s]\n"
     ]
    },
    {
     "name": "stdout",
     "output_type": "stream",
     "text": [
      "69\n"
     ]
    },
    {
     "name": "stderr",
     "output_type": "stream",
     "text": [
      "100%|██████████| 26/26 [00:00<00:00, 433.76it/s]\n",
      " 88%|████████▊ | 70/80 [00:04<00:00, 15.12it/s]"
     ]
    },
    {
     "name": "stdout",
     "output_type": "stream",
     "text": [
      "70\n"
     ]
    },
    {
     "name": "stderr",
     "output_type": "stream",
     "text": [
      "100%|██████████| 26/26 [00:00<00:00, 392.95it/s]\n"
     ]
    },
    {
     "name": "stdout",
     "output_type": "stream",
     "text": [
      "71\n"
     ]
    },
    {
     "name": "stderr",
     "output_type": "stream",
     "text": [
      "100%|██████████| 26/26 [00:00<00:00, 413.85it/s]\n",
      " 90%|█████████ | 72/80 [00:04<00:00, 15.04it/s]"
     ]
    },
    {
     "name": "stdout",
     "output_type": "stream",
     "text": [
      "72\n"
     ]
    },
    {
     "name": "stderr",
     "output_type": "stream",
     "text": [
      "100%|██████████| 26/26 [00:00<00:00, 387.68it/s]\n"
     ]
    },
    {
     "name": "stdout",
     "output_type": "stream",
     "text": [
      "73\n"
     ]
    },
    {
     "name": "stderr",
     "output_type": "stream",
     "text": [
      "100%|██████████| 26/26 [00:00<00:00, 390.81it/s]\n",
      " 92%|█████████▎| 74/80 [00:04<00:00, 14.69it/s]"
     ]
    },
    {
     "name": "stdout",
     "output_type": "stream",
     "text": [
      "74\n"
     ]
    },
    {
     "name": "stderr",
     "output_type": "stream",
     "text": [
      "100%|██████████| 26/26 [00:00<00:00, 370.24it/s]\n"
     ]
    },
    {
     "name": "stdout",
     "output_type": "stream",
     "text": [
      "75\n"
     ]
    },
    {
     "name": "stderr",
     "output_type": "stream",
     "text": [
      "100%|██████████| 26/26 [00:00<00:00, 396.59it/s]\n",
      " 95%|█████████▌| 76/80 [00:05<00:00, 14.53it/s]"
     ]
    },
    {
     "name": "stdout",
     "output_type": "stream",
     "text": [
      "76\n"
     ]
    },
    {
     "name": "stderr",
     "output_type": "stream",
     "text": [
      "100%|██████████| 26/26 [00:00<00:00, 398.22it/s]\n"
     ]
    },
    {
     "name": "stdout",
     "output_type": "stream",
     "text": [
      "77\n"
     ]
    },
    {
     "name": "stderr",
     "output_type": "stream",
     "text": [
      "100%|██████████| 26/26 [00:00<00:00, 415.24it/s]\n",
      " 98%|█████████▊| 78/80 [00:05<00:00, 14.70it/s]"
     ]
    },
    {
     "name": "stdout",
     "output_type": "stream",
     "text": [
      "78\n"
     ]
    },
    {
     "name": "stderr",
     "output_type": "stream",
     "text": [
      "100%|██████████| 26/26 [00:00<00:00, 421.48it/s]\n"
     ]
    },
    {
     "name": "stdout",
     "output_type": "stream",
     "text": [
      "79\n"
     ]
    },
    {
     "name": "stderr",
     "output_type": "stream",
     "text": [
      "100%|██████████| 26/26 [00:00<00:00, 406.49it/s]\n",
      "100%|██████████| 80/80 [00:05<00:00, 14.84it/s]\n"
     ]
    },
    {
     "data": {
      "text/plain": [
       "Index(['Pregnancies', 'Glucose', 'BloodPressure', 'SkinThickness', 'Insulin',\n",
       "       'BMI', 'DiabetesPedigreeFunction', 'Age'],\n",
       "      dtype='object')"
      ]
     },
     "execution_count": 4,
     "metadata": {},
     "output_type": "execute_result"
    }
   ],
   "source": [
    "import cega_utils\n",
    "\n",
    "#data \n",
    "trainedModelPrediction_Test = model.predict(X_test.to(\"cuda:0\"))\n",
    "                                    # data   \n",
    "#print(trainedModelPrediction_Test)\n",
    "print(datasetType)\n",
    "cega_utils.calculateAndSaveOHE_Rules(X_test, featureNames,trainedModelPrediction_Test, data[\"testGradientsPerSamplePerFeature_iteration\"], debug= False, datasetType=datasetType) #OHEresults\n"
   ]
  },
  {
   "cell_type": "code",
   "execution_count": 5,
   "id": "d1b2a5cb",
   "metadata": {},
   "outputs": [
    {
     "data": {
      "text/plain": [
       "1.0"
      ]
     },
     "execution_count": 5,
     "metadata": {},
     "output_type": "execute_result"
    }
   ],
   "source": [
    "cega_utils.jaccard_similarity([(1,2),(2,2),(2,2)],[(1,2),(2,2),(2,2)])"
   ]
  },
  {
   "cell_type": "code",
   "execution_count": 6,
   "id": "dd10aa67",
   "metadata": {},
   "outputs": [
    {
     "name": "stderr",
     "output_type": "stream",
     "text": [
      "  0%|          | 0/80 [00:00<?, ?it/s]"
     ]
    },
    {
     "name": "stdout",
     "output_type": "stream",
     "text": [
      "FIX fix prediction comparison list for GLOBAL support and precision\n",
      "1667\n",
      "0\n",
      "101\n",
      "[1.0]\n"
     ]
    },
    {
     "name": "stderr",
     "output_type": "stream",
     "text": [
      "  2%|▎         | 2/80 [00:01<00:51,  1.52it/s]"
     ]
    },
    {
     "name": "stdout",
     "output_type": "stream",
     "text": [
      "FIX fix prediction comparison list for GLOBAL support and precision\n",
      "1719\n",
      "0\n",
      "100\n",
      "[1.0]\n",
      "FIX fix prediction comparison list for GLOBAL support and precision\n"
     ]
    },
    {
     "name": "stderr",
     "output_type": "stream",
     "text": [
      "  4%|▍         | 3/80 [00:01<00:49,  1.54it/s]"
     ]
    },
    {
     "name": "stdout",
     "output_type": "stream",
     "text": [
      "1963\n",
      "68\n",
      "86\n",
      "[0.966518956179222]\n"
     ]
    },
    {
     "name": "stderr",
     "output_type": "stream",
     "text": [
      "  5%|▌         | 4/80 [00:02<00:46,  1.63it/s]"
     ]
    },
    {
     "name": "stdout",
     "output_type": "stream",
     "text": [
      "FIX fix prediction comparison list for GLOBAL support and precision\n",
      "1580\n",
      "68\n",
      "86\n",
      "[0.9587378640776699]\n"
     ]
    },
    {
     "name": "stderr",
     "output_type": "stream",
     "text": [
      "  6%|▋         | 5/80 [00:03<00:44,  1.69it/s]"
     ]
    },
    {
     "name": "stdout",
     "output_type": "stream",
     "text": [
      "FIX fix prediction comparison list for GLOBAL support and precision\n",
      "1473\n",
      "0\n",
      "103\n",
      "[1.0]\n",
      "FIX fix prediction comparison list for GLOBAL support and precision\n",
      "1536\n",
      "0\n",
      "97\n",
      "[1.0]\n"
     ]
    },
    {
     "name": "stderr",
     "output_type": "stream",
     "text": [
      "  9%|▉         | 7/80 [00:04<00:41,  1.78it/s]"
     ]
    },
    {
     "name": "stdout",
     "output_type": "stream",
     "text": [
      "FIX fix prediction comparison list for GLOBAL support and precision\n",
      "1192\n",
      "0\n",
      "103\n",
      "[1.0]\n"
     ]
    },
    {
     "name": "stderr",
     "output_type": "stream",
     "text": [
      " 10%|█         | 8/80 [00:04<00:39,  1.81it/s]"
     ]
    },
    {
     "name": "stdout",
     "output_type": "stream",
     "text": [
      "FIX fix prediction comparison list for GLOBAL support and precision\n",
      "1186\n",
      "0\n",
      "97\n",
      "[1.0]\n"
     ]
    },
    {
     "name": "stderr",
     "output_type": "stream",
     "text": [
      " 11%|█▏        | 9/80 [00:05<00:36,  1.93it/s]"
     ]
    },
    {
     "name": "stdout",
     "output_type": "stream",
     "text": [
      "FIX fix prediction comparison list for GLOBAL support and precision\n",
      "1090\n",
      "0\n",
      "103\n",
      "[1.0]\n"
     ]
    },
    {
     "name": "stderr",
     "output_type": "stream",
     "text": [
      " 12%|█▎        | 10/80 [00:05<00:36,  1.94it/s]"
     ]
    },
    {
     "name": "stdout",
     "output_type": "stream",
     "text": [
      "FIX fix prediction comparison list for GLOBAL support and precision\n",
      "1399\n",
      "0\n",
      "97\n",
      "[1.0]\n"
     ]
    },
    {
     "name": "stderr",
     "output_type": "stream",
     "text": [
      " 14%|█▍        | 11/80 [00:06<00:35,  1.94it/s]"
     ]
    },
    {
     "name": "stdout",
     "output_type": "stream",
     "text": [
      "FIX fix prediction comparison list for GLOBAL support and precision\n",
      "952\n",
      "0\n",
      "103\n",
      "[1.0]\n"
     ]
    },
    {
     "name": "stderr",
     "output_type": "stream",
     "text": [
      " 15%|█▌        | 12/80 [00:06<00:32,  2.12it/s]"
     ]
    },
    {
     "name": "stdout",
     "output_type": "stream",
     "text": [
      "FIX fix prediction comparison list for GLOBAL support and precision\n",
      "951\n",
      "0\n",
      "97\n",
      "[1.0]\n"
     ]
    },
    {
     "name": "stderr",
     "output_type": "stream",
     "text": [
      " 16%|█▋        | 13/80 [00:07<00:30,  2.19it/s]"
     ]
    },
    {
     "name": "stdout",
     "output_type": "stream",
     "text": [
      "FIX fix prediction comparison list for GLOBAL support and precision\n",
      "943\n",
      "0\n",
      "97\n",
      "[1.0]\n"
     ]
    },
    {
     "name": "stderr",
     "output_type": "stream",
     "text": [
      " 18%|█▊        | 14/80 [00:07<00:28,  2.28it/s]"
     ]
    },
    {
     "name": "stdout",
     "output_type": "stream",
     "text": [
      "FIX fix prediction comparison list for GLOBAL support and precision\n",
      "877\n",
      "0\n",
      "97\n",
      "[1.0]\n"
     ]
    },
    {
     "name": "stderr",
     "output_type": "stream",
     "text": [
      " 19%|█▉        | 15/80 [00:07<00:27,  2.39it/s]"
     ]
    },
    {
     "name": "stdout",
     "output_type": "stream",
     "text": [
      "FIX fix prediction comparison list for GLOBAL support and precision\n",
      "734\n",
      "0\n",
      "97\n",
      "[1.0]\n"
     ]
    },
    {
     "name": "stderr",
     "output_type": "stream",
     "text": [
      " 20%|██        | 16/80 [00:08<00:27,  2.31it/s]"
     ]
    },
    {
     "name": "stdout",
     "output_type": "stream",
     "text": [
      "FIX fix prediction comparison list for GLOBAL support and precision\n",
      "729\n",
      "0\n",
      "104\n",
      "[1.0]\n"
     ]
    },
    {
     "name": "stderr",
     "output_type": "stream",
     "text": [
      " 21%|██▏       | 17/80 [00:08<00:25,  2.43it/s]"
     ]
    },
    {
     "name": "stdout",
     "output_type": "stream",
     "text": [
      "FIX fix prediction comparison list for GLOBAL support and precision\n",
      "811\n",
      "0\n",
      "86\n",
      "[1.0]\n"
     ]
    },
    {
     "name": "stderr",
     "output_type": "stream",
     "text": [
      " 22%|██▎       | 18/80 [00:08<00:24,  2.53it/s]"
     ]
    },
    {
     "name": "stdout",
     "output_type": "stream",
     "text": [
      "FIX fix prediction comparison list for GLOBAL support and precision\n",
      "710\n",
      "0\n",
      "104\n",
      "[1.0]\n"
     ]
    },
    {
     "name": "stderr",
     "output_type": "stream",
     "text": [
      " 24%|██▍       | 19/80 [00:09<00:23,  2.59it/s]"
     ]
    },
    {
     "name": "stdout",
     "output_type": "stream",
     "text": [
      "FIX fix prediction comparison list for GLOBAL support and precision\n",
      "757\n",
      "0\n",
      "86\n",
      "[1.0]\n"
     ]
    },
    {
     "name": "stderr",
     "output_type": "stream",
     "text": [
      " 25%|██▌       | 20/80 [00:09<00:22,  2.63it/s]"
     ]
    },
    {
     "name": "stdout",
     "output_type": "stream",
     "text": [
      "FIX fix prediction comparison list for GLOBAL support and precision\n",
      "695\n",
      "0\n",
      "104\n",
      "[1.0]\n"
     ]
    },
    {
     "name": "stderr",
     "output_type": "stream",
     "text": [
      " 26%|██▋       | 21/80 [00:10<00:23,  2.46it/s]"
     ]
    },
    {
     "name": "stdout",
     "output_type": "stream",
     "text": [
      "FIX fix prediction comparison list for GLOBAL support and precision\n",
      "662\n",
      "0\n",
      "100\n",
      "[1.0]\n"
     ]
    },
    {
     "name": "stderr",
     "output_type": "stream",
     "text": [
      " 28%|██▊       | 22/80 [00:10<00:22,  2.58it/s]"
     ]
    },
    {
     "name": "stdout",
     "output_type": "stream",
     "text": [
      "FIX fix prediction comparison list for GLOBAL support and precision\n",
      "666\n",
      "0\n",
      "100\n",
      "[1.0]\n"
     ]
    },
    {
     "name": "stderr",
     "output_type": "stream",
     "text": [
      " 29%|██▉       | 23/80 [00:10<00:22,  2.53it/s]"
     ]
    },
    {
     "name": "stdout",
     "output_type": "stream",
     "text": [
      "FIX fix prediction comparison list for GLOBAL support and precision\n",
      "841\n",
      "0\n",
      "97\n",
      "[1.0]\n"
     ]
    },
    {
     "name": "stderr",
     "output_type": "stream",
     "text": [
      " 30%|███       | 24/80 [00:11<00:21,  2.64it/s]"
     ]
    },
    {
     "name": "stdout",
     "output_type": "stream",
     "text": [
      "FIX fix prediction comparison list for GLOBAL support and precision\n",
      "600\n",
      "0\n",
      "144\n",
      "[1.0]\n"
     ]
    },
    {
     "name": "stderr",
     "output_type": "stream",
     "text": [
      " 31%|███▏      | 25/80 [00:11<00:19,  2.78it/s]"
     ]
    },
    {
     "name": "stdout",
     "output_type": "stream",
     "text": [
      "FIX fix prediction comparison list for GLOBAL support and precision\n",
      "584\n",
      "0\n",
      "127\n",
      "[1.0]\n"
     ]
    },
    {
     "name": "stderr",
     "output_type": "stream",
     "text": [
      " 32%|███▎      | 26/80 [00:12<00:21,  2.55it/s]"
     ]
    },
    {
     "name": "stdout",
     "output_type": "stream",
     "text": [
      "FIX fix prediction comparison list for GLOBAL support and precision\n",
      "777\n",
      "0\n",
      "118\n",
      "[1.0]\n"
     ]
    },
    {
     "name": "stderr",
     "output_type": "stream",
     "text": [
      " 34%|███▍      | 27/80 [00:12<00:19,  2.68it/s]"
     ]
    },
    {
     "name": "stdout",
     "output_type": "stream",
     "text": [
      "FIX fix prediction comparison list for GLOBAL support and precision\n",
      "645\n",
      "0\n",
      "104\n",
      "[1.0]\n"
     ]
    },
    {
     "name": "stderr",
     "output_type": "stream",
     "text": [
      " 35%|███▌      | 28/80 [00:12<00:18,  2.78it/s]"
     ]
    },
    {
     "name": "stdout",
     "output_type": "stream",
     "text": [
      "FIX fix prediction comparison list for GLOBAL support and precision\n",
      "649\n",
      "0\n",
      "127\n",
      "[1.0]\n"
     ]
    },
    {
     "name": "stderr",
     "output_type": "stream",
     "text": [
      " 36%|███▋      | 29/80 [00:13<00:18,  2.80it/s]"
     ]
    },
    {
     "name": "stdout",
     "output_type": "stream",
     "text": [
      "FIX fix prediction comparison list for GLOBAL support and precision\n",
      "644\n",
      "53\n",
      "101\n",
      "[0.9239598278335724]\n"
     ]
    },
    {
     "name": "stderr",
     "output_type": "stream",
     "text": [
      " 38%|███▊      | 30/80 [00:13<00:17,  2.89it/s]"
     ]
    },
    {
     "name": "stdout",
     "output_type": "stream",
     "text": [
      "FIX fix prediction comparison list for GLOBAL support and precision\n",
      "663\n",
      "0\n",
      "86\n",
      "[1.0]\n"
     ]
    },
    {
     "name": "stderr",
     "output_type": "stream",
     "text": [
      " 39%|███▉      | 31/80 [00:13<00:18,  2.65it/s]"
     ]
    },
    {
     "name": "stdout",
     "output_type": "stream",
     "text": [
      "FIX fix prediction comparison list for GLOBAL support and precision\n",
      "648\n",
      "0\n",
      "86\n",
      "[1.0]\n"
     ]
    },
    {
     "name": "stderr",
     "output_type": "stream",
     "text": [
      " 40%|████      | 32/80 [00:14<00:17,  2.75it/s]"
     ]
    },
    {
     "name": "stdout",
     "output_type": "stream",
     "text": [
      "FIX fix prediction comparison list for GLOBAL support and precision\n",
      "649\n",
      "0\n",
      "86\n",
      "[1.0]\n"
     ]
    },
    {
     "name": "stderr",
     "output_type": "stream",
     "text": [
      " 41%|████▏     | 33/80 [00:14<00:16,  2.80it/s]"
     ]
    },
    {
     "name": "stdout",
     "output_type": "stream",
     "text": [
      "FIX fix prediction comparison list for GLOBAL support and precision\n",
      "704\n",
      "0\n",
      "100\n",
      "[1.0]\n"
     ]
    },
    {
     "name": "stderr",
     "output_type": "stream",
     "text": [
      " 42%|████▎     | 34/80 [00:14<00:16,  2.87it/s]"
     ]
    },
    {
     "name": "stdout",
     "output_type": "stream",
     "text": [
      "FIX fix prediction comparison list for GLOBAL support and precision\n",
      "744\n",
      "0\n",
      "97\n",
      "[1.0]\n"
     ]
    },
    {
     "name": "stderr",
     "output_type": "stream",
     "text": [
      " 44%|████▍     | 35/80 [00:15<00:16,  2.78it/s]"
     ]
    },
    {
     "name": "stdout",
     "output_type": "stream",
     "text": [
      "FIX fix prediction comparison list for GLOBAL support and precision\n",
      "778\n",
      "0\n",
      "86\n",
      "[1.0]\n"
     ]
    },
    {
     "name": "stderr",
     "output_type": "stream",
     "text": [
      " 45%|████▌     | 36/80 [00:15<00:17,  2.56it/s]"
     ]
    },
    {
     "name": "stdout",
     "output_type": "stream",
     "text": [
      "FIX fix prediction comparison list for GLOBAL support and precision\n",
      "738\n",
      "0\n",
      "100\n",
      "[1.0]\n"
     ]
    },
    {
     "name": "stderr",
     "output_type": "stream",
     "text": [
      " 46%|████▋     | 37/80 [00:16<00:16,  2.66it/s]"
     ]
    },
    {
     "name": "stdout",
     "output_type": "stream",
     "text": [
      "FIX fix prediction comparison list for GLOBAL support and precision\n",
      "673\n",
      "0\n",
      "118\n",
      "[1.0]\n"
     ]
    },
    {
     "name": "stderr",
     "output_type": "stream",
     "text": [
      " 48%|████▊     | 38/80 [00:16<00:15,  2.71it/s]"
     ]
    },
    {
     "name": "stdout",
     "output_type": "stream",
     "text": [
      "FIX fix prediction comparison list for GLOBAL support and precision\n",
      "751\n",
      "0\n",
      "100\n",
      "[1.0]\n"
     ]
    },
    {
     "name": "stderr",
     "output_type": "stream",
     "text": [
      " 49%|████▉     | 39/80 [00:16<00:15,  2.69it/s]"
     ]
    },
    {
     "name": "stdout",
     "output_type": "stream",
     "text": [
      "FIX fix prediction comparison list for GLOBAL support and precision\n",
      "788\n",
      "0\n",
      "97\n",
      "[1.0]\n"
     ]
    },
    {
     "name": "stderr",
     "output_type": "stream",
     "text": [
      " 50%|█████     | 40/80 [00:17<00:14,  2.69it/s]"
     ]
    },
    {
     "name": "stdout",
     "output_type": "stream",
     "text": [
      "FIX fix prediction comparison list for GLOBAL support and precision\n",
      "769\n",
      "0\n",
      "104\n",
      "[1.0]\n"
     ]
    },
    {
     "name": "stderr",
     "output_type": "stream",
     "text": [
      " 51%|█████▏    | 41/80 [00:17<00:15,  2.48it/s]"
     ]
    },
    {
     "name": "stdout",
     "output_type": "stream",
     "text": [
      "FIX fix prediction comparison list for GLOBAL support and precision\n",
      "801\n",
      "0\n",
      "97\n",
      "[1.0]\n"
     ]
    },
    {
     "name": "stderr",
     "output_type": "stream",
     "text": [
      " 52%|█████▎    | 42/80 [00:17<00:14,  2.59it/s]"
     ]
    },
    {
     "name": "stdout",
     "output_type": "stream",
     "text": [
      "FIX fix prediction comparison list for GLOBAL support and precision\n",
      "763\n",
      "0\n",
      "104\n",
      "[1.0]\n"
     ]
    },
    {
     "name": "stderr",
     "output_type": "stream",
     "text": [
      " 54%|█████▍    | 43/80 [00:18<00:14,  2.63it/s]"
     ]
    },
    {
     "name": "stdout",
     "output_type": "stream",
     "text": [
      "FIX fix prediction comparison list for GLOBAL support and precision\n",
      "928\n",
      "68\n",
      "86\n",
      "[0.9317269076305221]\n"
     ]
    },
    {
     "name": "stderr",
     "output_type": "stream",
     "text": [
      " 55%|█████▌    | 44/80 [00:18<00:13,  2.67it/s]"
     ]
    },
    {
     "name": "stdout",
     "output_type": "stream",
     "text": [
      "FIX fix prediction comparison list for GLOBAL support and precision\n",
      "883\n",
      "56\n",
      "98\n",
      "[0.9403620873269436]\n"
     ]
    },
    {
     "name": "stderr",
     "output_type": "stream",
     "text": [
      " 56%|█████▋    | 45/80 [00:19<00:12,  2.71it/s]"
     ]
    },
    {
     "name": "stdout",
     "output_type": "stream",
     "text": [
      "FIX fix prediction comparison list for GLOBAL support and precision\n",
      "828\n",
      "0\n",
      "131\n",
      "[1.0]\n"
     ]
    },
    {
     "name": "stderr",
     "output_type": "stream",
     "text": [
      " 57%|█████▊    | 46/80 [00:19<00:13,  2.55it/s]"
     ]
    },
    {
     "name": "stdout",
     "output_type": "stream",
     "text": [
      "FIX fix prediction comparison list for GLOBAL support and precision\n",
      "1153\n",
      "56\n",
      "98\n",
      "[0.9536807278742763]\n"
     ]
    },
    {
     "name": "stderr",
     "output_type": "stream",
     "text": [
      " 59%|█████▉    | 47/80 [00:20<00:14,  2.31it/s]"
     ]
    },
    {
     "name": "stdout",
     "output_type": "stream",
     "text": [
      "FIX fix prediction comparison list for GLOBAL support and precision\n",
      "1167\n",
      "53\n",
      "101\n",
      "[0.9565573770491803]\n"
     ]
    },
    {
     "name": "stderr",
     "output_type": "stream",
     "text": [
      " 60%|██████    | 48/80 [00:20<00:13,  2.38it/s]"
     ]
    },
    {
     "name": "stdout",
     "output_type": "stream",
     "text": [
      "FIX fix prediction comparison list for GLOBAL support and precision\n",
      "1067\n",
      "68\n",
      "86\n",
      "[0.9400881057268723]\n"
     ]
    },
    {
     "name": "stderr",
     "output_type": "stream",
     "text": [
      " 61%|██████▏   | 49/80 [00:20<00:12,  2.40it/s]"
     ]
    },
    {
     "name": "stdout",
     "output_type": "stream",
     "text": [
      "FIX fix prediction comparison list for GLOBAL support and precision\n",
      "1098\n",
      "53\n",
      "101\n",
      "[0.9539530842745438]\n"
     ]
    },
    {
     "name": "stderr",
     "output_type": "stream",
     "text": [
      " 62%|██████▎   | 50/80 [00:21<00:12,  2.42it/s]"
     ]
    },
    {
     "name": "stdout",
     "output_type": "stream",
     "text": [
      "FIX fix prediction comparison list for GLOBAL support and precision\n",
      "1037\n",
      "50\n",
      "104\n",
      "[0.954001839926403]\n"
     ]
    },
    {
     "name": "stderr",
     "output_type": "stream",
     "text": [
      " 64%|██████▍   | 51/80 [00:21<00:11,  2.47it/s]"
     ]
    },
    {
     "name": "stdout",
     "output_type": "stream",
     "text": [
      "FIX fix prediction comparison list for GLOBAL support and precision\n",
      "999\n",
      "0\n",
      "100\n",
      "[1.0]\n"
     ]
    },
    {
     "name": "stderr",
     "output_type": "stream",
     "text": [
      " 65%|██████▌   | 52/80 [00:22<00:11,  2.39it/s]"
     ]
    },
    {
     "name": "stdout",
     "output_type": "stream",
     "text": [
      "FIX fix prediction comparison list for GLOBAL support and precision\n",
      "1188\n",
      "0\n",
      "103\n",
      "[1.0]\n"
     ]
    },
    {
     "name": "stderr",
     "output_type": "stream",
     "text": [
      " 66%|██████▋   | 53/80 [00:22<00:12,  2.18it/s]"
     ]
    },
    {
     "name": "stdout",
     "output_type": "stream",
     "text": [
      "FIX fix prediction comparison list for GLOBAL support and precision\n",
      "1245\n",
      "53\n",
      "101\n",
      "[0.9591679506933745]\n"
     ]
    },
    {
     "name": "stderr",
     "output_type": "stream",
     "text": [
      " 68%|██████▊   | 54/80 [00:22<00:11,  2.27it/s]"
     ]
    },
    {
     "name": "stdout",
     "output_type": "stream",
     "text": [
      "FIX fix prediction comparison list for GLOBAL support and precision\n",
      "1022\n",
      "0\n",
      "131\n",
      "[1.0]\n"
     ]
    },
    {
     "name": "stderr",
     "output_type": "stream",
     "text": [
      " 69%|██████▉   | 55/80 [00:23<00:11,  2.22it/s]"
     ]
    },
    {
     "name": "stdout",
     "output_type": "stream",
     "text": [
      "FIX fix prediction comparison list for GLOBAL support and precision\n",
      "1382\n",
      "50\n",
      "104\n",
      "[0.9650837988826816]\n"
     ]
    },
    {
     "name": "stderr",
     "output_type": "stream",
     "text": [
      " 70%|███████   | 56/80 [00:23<00:10,  2.24it/s]"
     ]
    },
    {
     "name": "stdout",
     "output_type": "stream",
     "text": [
      "FIX fix prediction comparison list for GLOBAL support and precision\n",
      "1180\n",
      "57\n",
      "97\n",
      "[0.9539207760711399]\n"
     ]
    },
    {
     "name": "stderr",
     "output_type": "stream",
     "text": [
      " 71%|███████▏  | 57/80 [00:24<00:09,  2.31it/s]"
     ]
    },
    {
     "name": "stdout",
     "output_type": "stream",
     "text": [
      "FIX fix prediction comparison list for GLOBAL support and precision\n",
      "1043\n",
      "56\n",
      "98\n",
      "[0.9490445859872612]\n"
     ]
    },
    {
     "name": "stderr",
     "output_type": "stream",
     "text": [
      " 72%|███████▎  | 58/80 [00:24<00:09,  2.29it/s]"
     ]
    },
    {
     "name": "stdout",
     "output_type": "stream",
     "text": [
      "FIX fix prediction comparison list for GLOBAL support and precision\n",
      "1116\n",
      "23\n",
      "131\n",
      "[0.9798068481123793]\n"
     ]
    },
    {
     "name": "stderr",
     "output_type": "stream",
     "text": [
      " 74%|███████▍  | 59/80 [00:25<00:09,  2.18it/s]"
     ]
    },
    {
     "name": "stdout",
     "output_type": "stream",
     "text": [
      "FIX fix prediction comparison list for GLOBAL support and precision\n",
      "928\n",
      "27\n",
      "127\n",
      "[0.9717277486910995]\n"
     ]
    },
    {
     "name": "stderr",
     "output_type": "stream",
     "text": [
      " 75%|███████▌  | 60/80 [00:25<00:08,  2.28it/s]"
     ]
    },
    {
     "name": "stdout",
     "output_type": "stream",
     "text": [
      "FIX fix prediction comparison list for GLOBAL support and precision\n",
      "1110\n",
      "57\n",
      "97\n",
      "[0.9511568123393316]\n"
     ]
    },
    {
     "name": "stderr",
     "output_type": "stream",
     "text": [
      " 76%|███████▋  | 61/80 [00:26<00:08,  2.37it/s]"
     ]
    },
    {
     "name": "stdout",
     "output_type": "stream",
     "text": [
      "FIX fix prediction comparison list for GLOBAL support and precision\n",
      "935\n",
      "27\n",
      "127\n",
      "[0.9719334719334719]\n"
     ]
    },
    {
     "name": "stderr",
     "output_type": "stream",
     "text": [
      " 78%|███████▊  | 62/80 [00:26<00:07,  2.40it/s]"
     ]
    },
    {
     "name": "stdout",
     "output_type": "stream",
     "text": [
      "FIX fix prediction comparison list for GLOBAL support and precision\n",
      "951\n",
      "0\n",
      "101\n",
      "[1.0]\n"
     ]
    },
    {
     "name": "stderr",
     "output_type": "stream",
     "text": [
      " 79%|███████▉  | 63/80 [00:26<00:06,  2.44it/s]"
     ]
    },
    {
     "name": "stdout",
     "output_type": "stream",
     "text": [
      "FIX fix prediction comparison list for GLOBAL support and precision\n",
      "1067\n",
      "54\n",
      "100\n",
      "[0.951828724353256]\n"
     ]
    },
    {
     "name": "stderr",
     "output_type": "stream",
     "text": [
      " 80%|████████  | 64/80 [00:27<00:07,  2.24it/s]"
     ]
    },
    {
     "name": "stdout",
     "output_type": "stream",
     "text": [
      "FIX fix prediction comparison list for GLOBAL support and precision\n",
      "1134\n",
      "57\n",
      "97\n",
      "[0.9521410579345088]\n"
     ]
    },
    {
     "name": "stderr",
     "output_type": "stream",
     "text": [
      " 81%|████████▏ | 65/80 [00:27<00:06,  2.37it/s]"
     ]
    },
    {
     "name": "stdout",
     "output_type": "stream",
     "text": [
      "FIX fix prediction comparison list for GLOBAL support and precision\n",
      "881\n",
      "54\n",
      "100\n",
      "[0.9422459893048128]\n"
     ]
    },
    {
     "name": "stderr",
     "output_type": "stream",
     "text": [
      " 82%|████████▎ | 66/80 [00:28<00:05,  2.46it/s]"
     ]
    },
    {
     "name": "stdout",
     "output_type": "stream",
     "text": [
      "FIX fix prediction comparison list for GLOBAL support and precision\n",
      "856\n",
      "57\n",
      "97\n",
      "[0.9375684556407448]\n"
     ]
    },
    {
     "name": "stderr",
     "output_type": "stream",
     "text": [
      " 84%|████████▍ | 67/80 [00:28<00:05,  2.52it/s]"
     ]
    },
    {
     "name": "stdout",
     "output_type": "stream",
     "text": [
      "FIX fix prediction comparison list for GLOBAL support and precision\n",
      "932\n",
      "57\n",
      "97\n",
      "[0.942366026289181]\n"
     ]
    },
    {
     "name": "stderr",
     "output_type": "stream",
     "text": [
      " 85%|████████▌ | 68/80 [00:28<00:04,  2.58it/s]"
     ]
    },
    {
     "name": "stdout",
     "output_type": "stream",
     "text": [
      "FIX fix prediction comparison list for GLOBAL support and precision\n",
      "911\n",
      "57\n",
      "97\n",
      "[0.9411157024793388]\n"
     ]
    },
    {
     "name": "stderr",
     "output_type": "stream",
     "text": [
      " 86%|████████▋ | 69/80 [00:29<00:04,  2.64it/s]"
     ]
    },
    {
     "name": "stdout",
     "output_type": "stream",
     "text": [
      "FIX fix prediction comparison list for GLOBAL support and precision\n",
      "914\n",
      "50\n",
      "104\n",
      "[0.9481327800829875]\n"
     ]
    },
    {
     "name": "stderr",
     "output_type": "stream",
     "text": [
      " 88%|████████▊ | 70/80 [00:29<00:04,  2.41it/s]"
     ]
    },
    {
     "name": "stdout",
     "output_type": "stream",
     "text": [
      "FIX fix prediction comparison list for GLOBAL support and precision\n",
      "885\n",
      "68\n",
      "86\n",
      "[0.9286463798530955]\n"
     ]
    },
    {
     "name": "stderr",
     "output_type": "stream",
     "text": [
      " 89%|████████▉ | 71/80 [00:30<00:03,  2.52it/s]"
     ]
    },
    {
     "name": "stdout",
     "output_type": "stream",
     "text": [
      "FIX fix prediction comparison list for GLOBAL support and precision\n",
      "890\n",
      "57\n",
      "97\n",
      "[0.9398099260823654]\n"
     ]
    },
    {
     "name": "stderr",
     "output_type": "stream",
     "text": [
      " 90%|█████████ | 72/80 [00:30<00:03,  2.51it/s]"
     ]
    },
    {
     "name": "stdout",
     "output_type": "stream",
     "text": [
      "FIX fix prediction comparison list for GLOBAL support and precision\n",
      "947\n",
      "54\n",
      "100\n",
      "[0.9460539460539461]\n"
     ]
    },
    {
     "name": "stderr",
     "output_type": "stream",
     "text": [
      " 91%|█████████▏| 73/80 [00:30<00:02,  2.55it/s]"
     ]
    },
    {
     "name": "stdout",
     "output_type": "stream",
     "text": [
      "FIX fix prediction comparison list for GLOBAL support and precision\n",
      "968\n",
      "68\n",
      "86\n",
      "[0.9343629343629344]\n"
     ]
    },
    {
     "name": "stderr",
     "output_type": "stream",
     "text": [
      " 92%|█████████▎| 74/80 [00:31<00:02,  2.62it/s]"
     ]
    },
    {
     "name": "stdout",
     "output_type": "stream",
     "text": [
      "FIX fix prediction comparison list for GLOBAL support and precision\n",
      "862\n",
      "57\n",
      "97\n",
      "[0.9379760609357998]\n"
     ]
    },
    {
     "name": "stderr",
     "output_type": "stream",
     "text": [
      " 94%|█████████▍| 75/80 [00:31<00:01,  2.59it/s]"
     ]
    },
    {
     "name": "stdout",
     "output_type": "stream",
     "text": [
      "FIX fix prediction comparison list for GLOBAL support and precision\n",
      "1004\n",
      "0\n",
      "101\n",
      "[1.0]\n"
     ]
    },
    {
     "name": "stderr",
     "output_type": "stream",
     "text": [
      " 95%|█████████▌| 76/80 [00:32<00:01,  2.43it/s]"
     ]
    },
    {
     "name": "stdout",
     "output_type": "stream",
     "text": [
      "FIX fix prediction comparison list for GLOBAL support and precision\n",
      "868\n",
      "36\n",
      "118\n",
      "[0.9601769911504425]\n"
     ]
    },
    {
     "name": "stderr",
     "output_type": "stream",
     "text": [
      " 96%|█████████▋| 77/80 [00:32<00:01,  2.55it/s]"
     ]
    },
    {
     "name": "stdout",
     "output_type": "stream",
     "text": [
      "FIX fix prediction comparison list for GLOBAL support and precision\n",
      "779\n",
      "57\n",
      "97\n",
      "[0.9318181818181818]\n"
     ]
    },
    {
     "name": "stderr",
     "output_type": "stream",
     "text": [
      " 98%|█████████▊| 78/80 [00:32<00:00,  2.59it/s]"
     ]
    },
    {
     "name": "stdout",
     "output_type": "stream",
     "text": [
      "FIX fix prediction comparison list for GLOBAL support and precision\n",
      "893\n",
      "68\n",
      "86\n",
      "[0.9292403746097815]\n"
     ]
    },
    {
     "name": "stderr",
     "output_type": "stream",
     "text": [
      " 99%|█████████▉| 79/80 [00:33<00:00,  2.60it/s]"
     ]
    },
    {
     "name": "stdout",
     "output_type": "stream",
     "text": [
      "FIX fix prediction comparison list for GLOBAL support and precision\n",
      "880\n",
      "57\n",
      "97\n",
      "[0.9391675560298826]\n"
     ]
    },
    {
     "name": "stderr",
     "output_type": "stream",
     "text": [
      "100%|██████████| 80/80 [00:33<00:00,  2.39it/s]"
     ]
    },
    {
     "name": "stdout",
     "output_type": "stream",
     "text": [
      "FIX fix prediction comparison list for GLOBAL support and precision\n",
      "876\n",
      "57\n",
      "97\n",
      "[0.9389067524115756]\n",
      "./Results/rulesResults/discriminative_rules/_2023-08-04_09:33:29.npz\n"
     ]
    },
    {
     "name": "stderr",
     "output_type": "stream",
     "text": [
      "\n"
     ]
    },
    {
     "name": "stdout",
     "output_type": "stream",
     "text": [
      "rules_list_overIterations\n",
      "labelList_rules_overIterations\n",
      "rulePrecisionList_overIterations\n",
      "predictionComparisonList_overIterations\n",
      "rulesComplexityList_overIterations\n",
      "globalCoverageList_overIterations\n",
      "ruleSupportList_overIterations\n",
      "numberOfGeneratedRules_overIterations\n",
      "jaccardSimilarity_overIterations\n",
      "cosineSimilarity_overIterations\n",
      "overlapSimilarity_overIterations\n",
      "diceSimilarity_overIterations\n",
      "raw_rules_overIterations\n",
      "numberOfGeneratedRulesRAW_overIterations\n",
      "rulePrecisionListPerRule_overIterations\n"
     ]
    }
   ],
   "source": [
    "import warnings\n",
    "warnings.filterwarnings('ignore')\n",
    "#     frequent_itemsets = apriori(basket_sets.astype('bool'), min_support=0.07, use_colnames=True) https://stackoverflow.com/questions/74114745/how-to-fix-deprecationwarning-dataframes-with-non-bool-types-result-in-worse-c\n",
    "debug = False\n",
    "\n",
    "import os \n",
    "from datetime import datetime\n",
    "\n",
    "pos_label = 1\n",
    "neg_label = 0\n",
    "\n",
    "\n",
    "rulesResultDataPath = dirPath + \"rulesResultData/\" \n",
    "\n",
    "featureDict= {'Pregnancies':0, 'Glucose':1, 'BloodPressure':2, 'SkinThickness':3, 'Insulin':4, \\\n",
    "              'BMI':5, 'DiabetesPedigreeFunction':6, 'Age':7}\n",
    "\n",
    "# Get the current date and time\n",
    "now = datetime.now()\n",
    "\n",
    "# Format the date and time as a string without leading zeros\n",
    "#date_time_string = now.strftime(\"%Y-%-m-%-d %-H:%-M:%-S\")\n",
    "\n",
    "date_time_string = now.strftime(\"%Y-%m-%d %H:%M:%S\")\n",
    "# Replace space with underscore\n",
    "date_time_string = date_time_string.replace(\" \", \"_\")\n",
    "\n",
    "\n",
    "discriminative_rules_overIterations = []\n",
    "characteristic_rules_overIterations = []\n",
    "rules_list_overIterations   = []\n",
    "labelList_rules_overIterations = []\n",
    "rulePrecisionList_overIterations =[]\n",
    "predictionComparisonList_overIterations = []\n",
    "rulesComplexityList_overIterations = []\n",
    "globalCoverageList_overIterations = []    \n",
    "ruleSupportList_overIterations = []\n",
    "numberOfGeneratedRules_overIterations = []\n",
    "jaccardSimilarity_overIterations = []\n",
    "cosineSimilarity_overIterations = []\n",
    "diceSimilarity_overIterations = []\n",
    "overlapSimilarity_overIterations = []\n",
    "raw_rules_overIterations = []\n",
    "numberOfGeneratedRulesRAW_overIterations =[]\n",
    "rulePrecisionListPerRule_overIterations = []\n",
    "\n",
    "\n",
    "tempRules_list = None\n",
    "from tqdm import tqdm\n",
    "for i in tqdm(range(len(os.listdir(\"./OHEresults/\")))):\n",
    "    ohe_df = cega_utils.loadOHE_Rules(i)\n",
    "    all_rules, pos_rules , neg_rules =  cega_utils.runApriori(ohe_df,len(X_test), pos_label ,neg_label)\n",
    "    discriminative_rules = cega_utils.getDiscriminativeRules(all_rules, pos_label, neg_label )\n",
    "    charachteristic_rules = cega_utils.getCharasteristicRules(pos_rules, pos_label, neg_rules,neg_label )\n",
    "    \n",
    "    resultName = \"discriminative_rules\"\n",
    "    #resultName = \"charachteristic_rules\"\n",
    "    #rules_list, labelList_rules, rulePrecisionList, predictionComparisonList, rulesComplexityList , coverageList,  ruleSupportList,   numberOfGeneratedRules,  =cega_utils.calculateRulesMetrics(discriminative_rules, resultName ,featureDict, testloader, trainedModelPrediction_Test, rulesResultDataPath)\n",
    "    rules_list, labelList_rules, rulePrecisionList, predictionComparisonList, rulesComplexityList , globalCoverage,  ruleSupportList,   numberOfGeneratedRules, raw_rules, rulePrecisionListPerRule  =cega_utils.calculateRulesMetrics(discriminative_rules, featureDict, testloader, trainedModelPrediction_Test, datasetType)\n",
    "    #resultName = \"charachteristic_rules\"\n",
    "    #rules_list, labelList_rules, rulePrecisionList, predictionComparisonList, rulesComplexityList , coverageList,  ruleSupportList,  = numberOfGeneratedRules,  =cega_utils.calculateRulesMetrics(charachteristic_rules, resultName ,featureDict, testloader, trainedModelPrediction_Test, rulesResultDataPath, debug=True )\n",
    "    rules_list_overIterations.append(rules_list)\n",
    "    labelList_rules_overIterations.append(labelList_rules)\n",
    "    rulePrecisionList_overIterations.append(rulePrecisionList)\n",
    "    predictionComparisonList_overIterations.append(predictionComparisonList)\n",
    "    rulesComplexityList_overIterations.append(rulesComplexityList)\n",
    "    globalCoverageList_overIterations.append(globalCoverage)\n",
    "    ruleSupportList_overIterations.append(ruleSupportList)\n",
    "    numberOfGeneratedRules_overIterations.append(numberOfGeneratedRules)\n",
    "    raw_rules_overIterations.append(raw_rules)\n",
    "    numberOfGeneratedRulesRAW_overIterations.append(len(raw_rules))\n",
    "    rulePrecisionListPerRule_overIterations.append(rulePrecisionListPerRule)\n",
    "\n",
    "    if tempRules_list is not None:\n",
    "        jaccardSimilarity_overIterations.append(cega_utils.jaccard_similarity(rules_list , tempRules_list))\n",
    "    tempRules_list = rules_list\n",
    "\n",
    "if debug:\n",
    "    pathToNPZ =  dirPath + f\"DEBUG.npz\"\n",
    "else:    \n",
    "    pathToNPZ =  dirPath +\"Results/rulesResults/\" f\"{resultName}/_{date_time_string}.npz\"\n",
    "print(pathToNPZ)\n",
    "np.savez(pathToNPZ ,rules_list_overIterations = rules_list_overIterations) \n",
    "utils.appendToNPZ(pathToNPZ, \"labelList_rules_overIterations\", labelList_rules_overIterations)\n",
    "utils.appendToNPZ(pathToNPZ, \"rulePrecisionList_overIterations\", rulePrecisionList_overIterations)\n",
    "utils.appendToNPZ(pathToNPZ, \"predictionComparisonList_overIterations\", predictionComparisonList_overIterations)\n",
    "utils.appendToNPZ(pathToNPZ, \"rulesComplexityList_overIterations\", rulesComplexityList_overIterations)\n",
    "utils.appendToNPZ(pathToNPZ, \"globalCoverageList_overIterations\", globalCoverageList_overIterations)\n",
    "utils.appendToNPZ(pathToNPZ, \"ruleSupportList_overIterations\", ruleSupportList_overIterations)\n",
    "utils.appendToNPZ(pathToNPZ, \"numberOfGeneratedRules_overIterations\", numberOfGeneratedRules_overIterations)\n",
    "utils.appendToNPZ(pathToNPZ, \"jaccardSimilarity_overIterations\", jaccardSimilarity_overIterations)\n",
    "utils.appendToNPZ(pathToNPZ, \"cosineSimilarity_overIterations\", cosineSimilarity_overIterations)\n",
    "utils.appendToNPZ(pathToNPZ, \"overlapSimilarity_overIterations\", overlapSimilarity_overIterations)\n",
    "utils.appendToNPZ(pathToNPZ, \"diceSimilarity_overIterations\", diceSimilarity_overIterations)\n",
    "utils.appendToNPZ(pathToNPZ, \"raw_rules_overIterations\", raw_rules_overIterations)\n",
    "utils.appendToNPZ(pathToNPZ, \"numberOfGeneratedRulesRAW_overIterations\", numberOfGeneratedRulesRAW_overIterations) \n",
    "utils.appendToNPZ(pathToNPZ, \"rulePrecisionListPerRule_overIterations\", rulePrecisionListPerRule_overIterations)\n",
    "\n",
    "#utils.appendToNPZ(rules_data)\n",
    "    #charachteristic_rules\n",
    "x = utils.loadData(pathToNPZ)\n",
    "for i in x:\n",
    "    print(i)\n",
    "\n",
    "#x[\"rulePrecisionList_overIterations\"]"
   ]
  },
  {
   "cell_type": "code",
   "execution_count": 7,
   "id": "75d18a8a",
   "metadata": {},
   "outputs": [
    {
     "name": "stdout",
     "output_type": "stream",
     "text": [
      "rules_list_overIterations\n",
      "labelList_rules_overIterations\n",
      "rulePrecisionList_overIterations\n",
      "predictionComparisonList_overIterations\n",
      "rulesComplexityList_overIterations\n",
      "globalCoverageList_overIterations\n",
      "ruleSupportList_overIterations\n",
      "numberOfGeneratedRules_overIterations\n",
      "jaccardSimilarity_overIterations\n",
      "cosineSimilarity_overIterations\n",
      "overlapSimilarity_overIterations\n",
      "diceSimilarity_overIterations\n",
      "raw_rules_overIterations\n",
      "numberOfGeneratedRulesRAW_overIterations\n",
      "rulePrecisionListPerRule_overIterations\n",
      "./Results/rulesResults/discriminative_rules/_2023-08-04_09:33:29.npz\n"
     ]
    }
   ],
   "source": [
    "rules_data = np.load(pathToNPZ , allow_pickle=True)\n",
    "\n",
    "for i in rules_data:\n",
    "    print(i)\n",
    "print(pathToNPZ)\n",
    "#print(rules_data[\"rulePrecisionList_overIterations\"])"
   ]
  },
  {
   "cell_type": "code",
   "execution_count": null,
   "id": "95e56e99",
   "metadata": {},
   "outputs": [],
   "source": []
  },
  {
   "cell_type": "code",
   "execution_count": 8,
   "id": "400d9536",
   "metadata": {},
   "outputs": [
    {
     "data": {
      "text/plain": [
       "[0, 3, 4.5]"
      ]
     },
     "execution_count": 8,
     "metadata": {},
     "output_type": "execute_result"
    }
   ],
   "source": [
    "import statistics\n",
    "\n",
    "\n",
    "def calculate_mean_of_lists(list_of_lists):\n",
    "    means = []\n",
    "    for sublist in list_of_lists:\n",
    "        try:\n",
    "            sublist_mean = statistics.mean(sublist)\n",
    "            means.append(sublist_mean)\n",
    "        except statistics.StatisticsError:\n",
    "            means.append(0)  # or any other value to indicate the empty sublist\n",
    "    return means\n",
    "\n",
    "test = calculate_mean_of_lists([[],[2,4],[3,6]])\n",
    "test"
   ]
  },
  {
   "cell_type": "code",
   "execution_count": 9,
   "id": "3439b395",
   "metadata": {},
   "outputs": [
    {
     "name": "stdout",
     "output_type": "stream",
     "text": [
      "['_2023-06-10_08:40:18.npz', '_2023-06-07_14:20:11.npz', '_2023-06-07_13:42:38.npz', '_2023-06-07_13:42:18.npz', '_2023-06-08_21:57:28.npz', '_2023-06-07_14:13:04.npz', '_2023-06-07_13:42:04.npz', '_2023-06-08_20:41:36.npz', '_2023-06-07_14:09:07.npz', '_2023-06-10_08:32:26.npz', '_2023-06-07_13:40:59.npz', '_2023-06-07_13:41:21.npz', '_2023-06-07_13:42:52.npz', '_2023-06-08_22:26:48.npz', '_2023-06-07_14:18:28.npz', '_2023-06-07_14:19:51.npz', '_2023-06-07_13:37:35.npz', '_2023-06-07_18:11:27.npz', '_2023-06-07_14:16:30.npz', '_2023-06-07_14:44:55.npz', '_2023-06-07_13:44:19.npz', '_2023-06-07_13:40:06.npz', '_2023-06-08_22:16:21.npz', '_2023-06-07_14:17:59.npz', '_2023-06-07_15:11:49.npz']\n",
      "_2023-06-10_08:40:18.npz\n",
      "/home/rosario/explainable/test/Bachelor/rulesResults/discriminative_rules/_2023-06-10_08:40:18.npz\n"
     ]
    },
    {
     "data": {
      "image/png": "[encoded data removed]",
      "text/plain": [
       "<Figure size 640x480 with 1 Axes>"
      ]
     },
     "metadata": {},
     "output_type": "display_data"
    },
    {
     "data": {
      "image/png": "[encoded data removed]",
      "text/plain": [
       "<Figure size 640x480 with 1 Axes>"
      ]
     },
     "metadata": {},
     "output_type": "display_data"
    },
    {
     "data": {
      "image/png": "[encoded data removed]",
      "text/plain": [
       "<Figure size 640x480 with 1 Axes>"
      ]
     },
     "metadata": {},
     "output_type": "display_data"
    },
    {
     "data": {
      "image/png": "[encoded data removed]",
      "text/plain": [
       "<Figure size 640x480 with 1 Axes>"
      ]
     },
     "metadata": {},
     "output_type": "display_data"
    },
    {
     "data": {
      "image/png": "[encoded data removed]",
      "text/plain": [
       "<Figure size 640x480 with 1 Axes>"
      ]
     },
     "metadata": {},
     "output_type": "display_data"
    },
    {
     "data": {
      "image/png": "[encoded data removed]",
      "text/plain": [
       "<Figure size 640x480 with 1 Axes>"
      ]
     },
     "metadata": {},
     "output_type": "display_data"
    }
   ],
   "source": [
    "import pickle\n",
    "\n",
    "#plot\n",
    "pathToDiscriminative_rules = \"/home/rosario/explainable/test/Bachelor/rulesResults/discriminative_rules/\"\n",
    "pathToCharachteristic_rules = \"/home/rosario/explainable/test/Bachelor/rulesResults/charachteristic_rules\"\n",
    "resultPaths_dicriminative_rules = os.listdir(pathToDiscriminative_rules)\n",
    "resultPaths_charachteristic_rules = os.listdir(pathToCharachteristic_rules)\n",
    "\n",
    "print(resultPaths_dicriminative_rules)\n",
    "resultPaths_dicriminative_rules= np.sort(resultPaths_dicriminative_rules)\n",
    "print(resultPaths_dicriminative_rules[-1])\n",
    "\n",
    "mostRecentResultPaths_discriminative = pathToDiscriminative_rules + (resultPaths_dicriminative_rules[-1])\n",
    "print(mostRecentResultPaths_discriminative)\n",
    "\n",
    "#/home/rosario/explainable/test/Bachelor/rulesResults/discriminative_rules/_2023-06-07 12:18:40.npz\n",
    "\n",
    "data = utils.loadData(mostRecentResultPaths_discriminative)\n",
    "#print(data[\"rulePrecisionList_overIterations\"])\n",
    "#rules_list_overIterations\n",
    "#labelList_rules_overIterations\n",
    "#rulePrecisionList_overIterations\n",
    "#predictionComparisonList_overIterations\n",
    "#rulesComplexityList_overIterations                  )\n",
    "\n",
    "pathToRulesResults = \"/home/rosario/explainable/test/Bachelor/rulesResults/\"\n",
    "\n",
    "#plt.show()\n",
    "fig1, axs1 = plt.subplots(nrows=1, ncols=1)\n",
    "\n",
    "\n",
    "axs1.plot(calculate_mean_of_lists(data[\"rulePrecisionList_overIterations\"]))\n",
    "axs1.set_title(\"rulePrecisionList_overIterations\")\n",
    "axs1.set_xlabel(\"iteration\")\n",
    "axs1.set_ylabel(\"precision\")\n",
    "\n",
    "#pickle_file_path = str(pathToRulesResults) + \"ruleSupportList_overIterations\"\n",
    "fig1.savefig(str(pathToRulesResults) + \"rulePrecisionList_overIterations\")    \n",
    "pickle.dump(fig1, open(pathToRulesResults + \"rulePrecisionList_overIterations\", 'wb'))\n",
    "fig1.show()\n",
    "\n",
    "fig2, axs2 = plt.subplots(nrows=1, ncols=1)\n",
    "\n",
    "axs2.plot(calculate_mean_of_lists(data[\"ruleSupportList_overIterations\"]))\n",
    "#pickle_file_path = str(pathToRulesResults) + \"ruleSupportList_overIterations\"\n",
    "axs2.set_title(\"ruleSupportList_overIterations\")\n",
    "axs2.set_xlabel(\"iteration\")\n",
    "axs2.set_ylabel(\"support\")\n",
    "\n",
    "fig2.savefig(str(pathToRulesResults) + \"ruleSupportList_overIterations\")    \n",
    "pickle.dump(fig2, open(pathToRulesResults + \"ruleSupportList_overIterations\", 'wb'))\n",
    "fig2.show()\n",
    "\n",
    "fig3, axs3 = plt.subplots(nrows=1, ncols=1)\n",
    "\n",
    "axs3.plot(calculate_mean_of_lists(data[\"rulesComplexityList_overIterations\"]))\n",
    "axs3.set_title(\"rulesComplexityList_overIterations\")\n",
    "axs3.set_xlabel(\"iteration\")\n",
    "axs3.set_ylabel(\"complexity\")\n",
    "\n",
    "fig3.savefig(str(pathToRulesResults) + \"rulesComplexityList_overIterations\")    \n",
    "pickle.dump(fig3, open(pathToRulesResults + \"rulesComplexityList_overIterations\", 'wb'))\n",
    "fig3.show()\n",
    "\n",
    "fig4, axs4 = plt.subplots(nrows=1, ncols=1)\n",
    "\n",
    "\n",
    "axs4.plot(data[\"coverageList_overIterations\"])\n",
    "axs4.set_title(\"rulesComplexityList_overIterations\")\n",
    "axs4.set_xlabel(\"iteration\")\n",
    "axs4.set_ylabel(\"coverage\")\n",
    "\n",
    "\n",
    "fig4.savefig(str(pathToRulesResults) + \"coverageList_overIterations\")    \n",
    "pickle.dump(fig4, open(pathToRulesResults + \"coverageList_overIterations\", 'wb'))\n",
    "fig4.show()\n",
    "\n",
    "\n",
    "fig5, axs5 = plt.subplots(nrows=1, ncols=1)\n",
    "axs5.plot(data[\"numberOfGeneratedRules_overIterations\"])\n",
    "axs5.set_title(\"numberOfGeneratedRules_overIterations\")\n",
    "axs5.set_xlabel(\"iteration\")\n",
    "axs5.set_ylabel(\"numGeneratedRules\")\n",
    "\n",
    "fig5.savefig(str(pathToRulesResults) + \"numberOfGeneratedRules_overIterations\")    \n",
    "pickle.dump(fig5, open(pathToRulesResults + \"numberOfGeneratedRules_overIterations\", 'wb'))\n",
    "fig5.show()\n",
    "\n",
    "fig6, axs6 = plt.subplots(nrows=1, ncols=1)\n",
    "\n",
    "\n",
    "axs6.plot(data[\"jaccardSimilarity_overIterations\"])\n",
    "fig6.savefig(str(pathToRulesResults) + \"jaccardSimilarity_overIterations\") \n",
    "axs6.set_title(\"jaccardSimilarity_overIterations\")\n",
    "axs6.set_xlabel(\"iteration\")\n",
    "axs6.set_ylabel(\"similarity\")\n",
    "\n",
    "pickle.dump(fig6, open(pathToRulesResults + \"jaccardSimilarity_overIterations\", 'wb'))\n",
    "\n",
    "fig6.show()"
   ]
  },
  {
   "cell_type": "code",
   "execution_count": 10,
   "id": "ee1c0ccb",
   "metadata": {},
   "outputs": [],
   "source": [
    "#charachteristic_rules = cega_utils.getCharasteristicRules(pos_rules, pos_label, neg_rules,neg_label )\n",
    "#charachteristic_rules\n",
    "\n"
   ]
  },
  {
   "cell_type": "code",
   "execution_count": 11,
   "id": "0f73926d",
   "metadata": {},
   "outputs": [],
   "source": [
    "#featureDict= {'Pregnancies':0, 'Glucose':1, 'BloodPressure':2, 'SkinThickness':3, 'Insulin':4,\n",
    "#                                        'BMI':5, 'DiabetesPedigreeFunction':6, 'Age':7}\n",
    "#rulesResultDataPath = dirPath + \"rulesResultData/\" \n",
    "\n",
    "#resultName = \"charachteristic_rules\"\n",
    "\n",
    "#rules_list, labelList_rules, rulePrecisionList, predictionComparisonList, rulesComplexityList , coverageList,  ruleSupportList,  = numberOfGeneratedRules,  =cega_utils.calculateRulesMetrics(charachteristic_rules, resultName ,featureDict, testloader, trainedModelPrediction_Test, rulesResultDataPath, debug=True )"
   ]
  },
  {
   "cell_type": "code",
   "execution_count": null,
   "id": "437e8ebe",
   "metadata": {},
   "outputs": [],
   "source": []
  },
  {
   "cell_type": "code",
   "execution_count": null,
   "id": "4c2e5127",
   "metadata": {},
   "outputs": [],
   "source": []
  },
  {
   "cell_type": "code",
   "execution_count": null,
   "id": "a0134efb",
   "metadata": {},
   "outputs": [],
   "source": []
  },
  {
   "cell_type": "code",
   "execution_count": null,
   "id": "265e4838",
   "metadata": {},
   "outputs": [],
   "source": []
  },
  {
   "cell_type": "code",
   "execution_count": 12,
   "id": "d07cfa44",
   "metadata": {},
   "outputs": [
    {
     "ename": "KeyError",
     "evalue": "'testGradientsPerSamplePerFeature_iteration is not a file in the archive'",
     "output_type": "error",
     "traceback": [
      "\u001b[0;31m---------------------------------------------------------------------------\u001b[0m",
      "\u001b[0;31mKeyError\u001b[0m                                  Traceback (most recent call last)",
      "Cell \u001b[0;32mIn[12], line 2\u001b[0m\n\u001b[1;32m      1\u001b[0m \u001b[39m#grads\u001b[39;00m\n\u001b[0;32m----> 2\u001b[0m grads1 \u001b[39m=\u001b[39m data[\u001b[39m\"\u001b[39;49m\u001b[39mtestGradientsPerSamplePerFeature_iteration\u001b[39;49m\u001b[39m\"\u001b[39;49m]\n\u001b[1;32m      3\u001b[0m grads2 \u001b[39m=\u001b[39m data[\u001b[39m\"\u001b[39m\u001b[39mtestGradientsPerFeature_iteration\u001b[39m\u001b[39m\"\u001b[39m]\n\u001b[1;32m      4\u001b[0m grads3 \u001b[39m=\u001b[39m data[\u001b[39m\"\u001b[39m\u001b[39mtestGradientsPerSamplePerFeature\u001b[39m\u001b[39m\"\u001b[39m]\n",
      "File \u001b[0;32m~/.local/lib/python3.10/site-packages/numpy/lib/npyio.py:260\u001b[0m, in \u001b[0;36mNpzFile.__getitem__\u001b[0;34m(self, key)\u001b[0m\n\u001b[1;32m    258\u001b[0m         \u001b[39mreturn\u001b[39;00m \u001b[39mself\u001b[39m\u001b[39m.\u001b[39mzip\u001b[39m.\u001b[39mread(key)\n\u001b[1;32m    259\u001b[0m \u001b[39melse\u001b[39;00m:\n\u001b[0;32m--> 260\u001b[0m     \u001b[39mraise\u001b[39;00m \u001b[39mKeyError\u001b[39;00m(\u001b[39m\"\u001b[39m\u001b[39m%s\u001b[39;00m\u001b[39m is not a file in the archive\u001b[39m\u001b[39m\"\u001b[39m \u001b[39m%\u001b[39m key)\n",
      "\u001b[0;31mKeyError\u001b[0m: 'testGradientsPerSamplePerFeature_iteration is not a file in the archive'"
     ]
    }
   ],
   "source": [
    "#grads\n",
    "grads1 = data[\"testGradientsPerSamplePerFeature_iteration\"]\n",
    "grads2 = data[\"testGradientsPerFeature_iteration\"]\n",
    "grads3 = data[\"testGradientsPerSamplePerFeature\"]\n",
    "grads4 = data[\"testGradientsPerFeature\"]\n",
    "\n",
    "\n",
    "\n",
    "#print(grads)"
   ]
  },
  {
   "cell_type": "code",
   "execution_count": null,
   "id": "fef76205",
   "metadata": {},
   "outputs": [
    {
     "name": "stdout",
     "output_type": "stream",
     "text": [
      "(40, 154, 8)\n",
      "(8, 6160)\n",
      "(2, 154, 8)\n",
      "(8, 308)\n",
      "\n",
      "(154, 8)\n",
      "(154, 8)\n",
      "(154, 8)\n",
      "(154, 8)\n",
      "(154, 8)\n",
      "(154, 8)\n",
      "(154, 8)\n",
      "(154, 8)\n",
      "(154, 8)\n",
      "(154, 8)\n",
      "(154, 8)\n",
      "(154, 8)\n",
      "(154, 8)\n",
      "(154, 8)\n",
      "(154, 8)\n",
      "(154, 8)\n",
      "(154, 8)\n",
      "(154, 8)\n",
      "(154, 8)\n",
      "(154, 8)\n",
      "(154, 8)\n",
      "(154, 8)\n",
      "(154, 8)\n",
      "(154, 8)\n",
      "(154, 8)\n",
      "(154, 8)\n",
      "(154, 8)\n",
      "(154, 8)\n",
      "(154, 8)\n",
      "(154, 8)\n",
      "(154, 8)\n",
      "(154, 8)\n",
      "(154, 8)\n",
      "(154, 8)\n",
      "(154, 8)\n",
      "(154, 8)\n",
      "(154, 8)\n",
      "(154, 8)\n",
      "(154, 8)\n",
      "(154, 8)\n"
     ]
    }
   ],
   "source": [
    "import numpy as np\n",
    "gradsOLDTRAIN = grads\n",
    "#print(np.shape(grads) ) #epochs, num samples , features\n",
    "print(np.shape(grads1) )# trainingsIterationen (Epochen* iteratipnProEpoche) , numsamples , numfeatures  \n",
    "print(np.shape(grads2) ) # gradients unpacked for each iteration [grads1 unpacked] # \n",
    "print(np.shape(grads3) ) # trainingsEpochen , numsamples , numfeatures\n",
    "print(np.shape(grads4) ) #gradients unpacked for each Epoch \n",
    "print()\n",
    "\n",
    "for i in grads1:\n",
    "    print(np.shape(i))\n",
    "\n"
   ]
  },
  {
   "cell_type": "code",
   "execution_count": null,
   "id": "37c297c1",
   "metadata": {},
   "outputs": [
    {
     "name": "stdout",
     "output_type": "stream",
     "text": [
      "(40, 154, 8)\n"
     ]
    }
   ],
   "source": [
    "grads =  grads1\n",
    "print(np.shape(grads))"
   ]
  },
  {
   "cell_type": "code",
   "execution_count": null,
   "id": "bc5abd48",
   "metadata": {},
   "outputs": [
    {
     "name": "stdout",
     "output_type": "stream",
     "text": [
      "(40, 154, 8)\n",
      "(154, 8)\n",
      "[[-9.3162380e-04 -3.2841815e-03 -8.3877334e-05 ...  2.4605729e-03\n",
      "   1.9583183e-03  5.8975205e-04]\n",
      " [ 5.4750271e-04 -1.1041617e-03  6.8767171e-04 ...  4.5737787e-03\n",
      "   4.4620959e-03  1.8397891e-03]\n",
      " [ 1.1752852e-03 -2.5347152e-03  3.9854078e-04 ...  5.2994373e-03\n",
      "   4.0180185e-03  6.9511111e-04]\n",
      " ...\n",
      " [ 8.4036012e-04 -1.6429188e-03  4.9080094e-04 ...  4.8838374e-03\n",
      "   5.2968962e-03  2.7640860e-03]\n",
      " [ 3.8396640e-04 -2.8041452e-03 -6.5994798e-04 ...  3.9295400e-03\n",
      "   5.2804509e-03  2.3647344e-03]\n",
      " [ 1.6338422e-03 -2.0254145e-03 -1.2722553e-03 ...  5.1425421e-03\n",
      "   4.1813711e-03  3.8768095e-03]]\n"
     ]
    }
   ],
   "source": [
    "import numpy as np\n",
    "#print(grads)\n",
    "#for i in grads:\n",
    "#    print(np.shape(i))\n",
    "#oldGrads = grads\n",
    "#grads = grads[299:300]\n",
    "##grads_forEachSample = np.concatenate(grads, axis=0).reshape(-1, 8)\n",
    "#print(np.shape(grads_forEachSample))\n",
    "\n",
    "print(np.shape(grads))\n",
    "print(np.shape(grads[0]))\n",
    "print(grads[0]) #epochs , # sampleSize , #batchsize , #input_featuresize\n",
    "\n",
    "#print(int(len(grads_forEachSample)/ batch_size))\n",
    "#grads_forEachSample.reshape(int(len(grads_forEachSample)/ batch_size) , batch_size)"
   ]
  },
  {
   "cell_type": "code",
   "execution_count": null,
   "id": "b21750c7",
   "metadata": {},
   "outputs": [
    {
     "name": "stdout",
     "output_type": "stream",
     "text": [
      "num of cores: 12\n"
     ]
    },
    {
     "data": {
      "text/html": [
       "<div>\n",
       "<style scoped>\n",
       "    .dataframe tbody tr th:only-of-type {\n",
       "        vertical-align: middle;\n",
       "    }\n",
       "\n",
       "    .dataframe tbody tr th {\n",
       "        vertical-align: top;\n",
       "    }\n",
       "\n",
       "    .dataframe thead th {\n",
       "        text-align: right;\n",
       "    }\n",
       "</style>\n",
       "<table border=\"1\" class=\"dataframe\">\n",
       "  <thead>\n",
       "    <tr style=\"text-align: right;\">\n",
       "      <th></th>\n",
       "      <th>Pregnancies</th>\n",
       "      <th>Glucose</th>\n",
       "      <th>BloodPressure</th>\n",
       "      <th>SkinThickness</th>\n",
       "      <th>Insulin</th>\n",
       "      <th>BMI</th>\n",
       "      <th>DiabetesPedigreeFunction</th>\n",
       "      <th>Age</th>\n",
       "    </tr>\n",
       "  </thead>\n",
       "  <tbody>\n",
       "    <tr>\n",
       "      <th>0</th>\n",
       "      <td>-0.928856</td>\n",
       "      <td>1.469709</td>\n",
       "      <td>0.316910</td>\n",
       "      <td>-0.575579</td>\n",
       "      <td>1.451115</td>\n",
       "      <td>-0.575579</td>\n",
       "      <td>-1.046981</td>\n",
       "      <td>-0.110741</td>\n",
       "    </tr>\n",
       "    <tr>\n",
       "      <th>1</th>\n",
       "      <td>-0.603717</td>\n",
       "      <td>2.267948</td>\n",
       "      <td>0.525804</td>\n",
       "      <td>-0.622862</td>\n",
       "      <td>-0.622862</td>\n",
       "      <td>-0.123192</td>\n",
       "      <td>-0.619435</td>\n",
       "      <td>-0.201684</td>\n",
       "    </tr>\n",
       "    <tr>\n",
       "      <th>2</th>\n",
       "      <td>-0.698853</td>\n",
       "      <td>2.093766</td>\n",
       "      <td>0.765239</td>\n",
       "      <td>-0.129484</td>\n",
       "      <td>-0.861530</td>\n",
       "      <td>-0.183710</td>\n",
       "      <td>-0.855945</td>\n",
       "      <td>-0.129484</td>\n",
       "    </tr>\n",
       "    <tr>\n",
       "      <th>3</th>\n",
       "      <td>-0.951097</td>\n",
       "      <td>0.962289</td>\n",
       "      <td>1.655067</td>\n",
       "      <td>-0.126362</td>\n",
       "      <td>-1.050066</td>\n",
       "      <td>0.084771</td>\n",
       "      <td>-1.042049</td>\n",
       "      <td>0.467448</td>\n",
       "    </tr>\n",
       "    <tr>\n",
       "      <th>4</th>\n",
       "      <td>-0.910719</td>\n",
       "      <td>0.920288</td>\n",
       "      <td>0.315260</td>\n",
       "      <td>-0.464909</td>\n",
       "      <td>1.939283</td>\n",
       "      <td>-0.351864</td>\n",
       "      <td>-0.918744</td>\n",
       "      <td>-0.528596</td>\n",
       "    </tr>\n",
       "    <tr>\n",
       "      <th>...</th>\n",
       "      <td>...</td>\n",
       "      <td>...</td>\n",
       "      <td>...</td>\n",
       "      <td>...</td>\n",
       "      <td>...</td>\n",
       "      <td>...</td>\n",
       "      <td>...</td>\n",
       "      <td>...</td>\n",
       "    </tr>\n",
       "    <tr>\n",
       "      <th>149</th>\n",
       "      <td>-0.958410</td>\n",
       "      <td>1.900715</td>\n",
       "      <td>0.701727</td>\n",
       "      <td>-0.558748</td>\n",
       "      <td>0.517267</td>\n",
       "      <td>-0.315876</td>\n",
       "      <td>-1.127591</td>\n",
       "      <td>-0.159085</td>\n",
       "    </tr>\n",
       "    <tr>\n",
       "      <th>150</th>\n",
       "      <td>-1.001330</td>\n",
       "      <td>1.212592</td>\n",
       "      <td>0.244001</td>\n",
       "      <td>-0.289713</td>\n",
       "      <td>1.706771</td>\n",
       "      <td>-0.307503</td>\n",
       "      <td>-1.057667</td>\n",
       "      <td>-0.507151</td>\n",
       "    </tr>\n",
       "    <tr>\n",
       "      <th>151</th>\n",
       "      <td>-0.584841</td>\n",
       "      <td>2.212725</td>\n",
       "      <td>0.503101</td>\n",
       "      <td>-0.709177</td>\n",
       "      <td>-0.709177</td>\n",
       "      <td>0.035286</td>\n",
       "      <td>-0.707048</td>\n",
       "      <td>-0.040870</td>\n",
       "    </tr>\n",
       "    <tr>\n",
       "      <th>152</th>\n",
       "      <td>-0.601401</td>\n",
       "      <td>1.893327</td>\n",
       "      <td>0.864966</td>\n",
       "      <td>-0.696620</td>\n",
       "      <td>-0.696620</td>\n",
       "      <td>-0.696620</td>\n",
       "      <td>-0.684432</td>\n",
       "      <td>0.617398</td>\n",
       "    </tr>\n",
       "    <tr>\n",
       "      <th>153</th>\n",
       "      <td>-0.483761</td>\n",
       "      <td>2.253082</td>\n",
       "      <td>-0.611056</td>\n",
       "      <td>-0.611056</td>\n",
       "      <td>-0.611056</td>\n",
       "      <td>0.280009</td>\n",
       "      <td>-0.591643</td>\n",
       "      <td>0.375480</td>\n",
       "    </tr>\n",
       "  </tbody>\n",
       "</table>\n",
       "<p>154 rows × 8 columns</p>\n",
       "</div>"
      ],
      "text/plain": [
       "     Pregnancies   Glucose  BloodPressure  SkinThickness   Insulin       BMI   \n",
       "0      -0.928856  1.469709       0.316910      -0.575579  1.451115 -0.575579  \\\n",
       "1      -0.603717  2.267948       0.525804      -0.622862 -0.622862 -0.123192   \n",
       "2      -0.698853  2.093766       0.765239      -0.129484 -0.861530 -0.183710   \n",
       "3      -0.951097  0.962289       1.655067      -0.126362 -1.050066  0.084771   \n",
       "4      -0.910719  0.920288       0.315260      -0.464909  1.939283 -0.351864   \n",
       "..           ...       ...            ...            ...       ...       ...   \n",
       "149    -0.958410  1.900715       0.701727      -0.558748  0.517267 -0.315876   \n",
       "150    -1.001330  1.212592       0.244001      -0.289713  1.706771 -0.307503   \n",
       "151    -0.584841  2.212725       0.503101      -0.709177 -0.709177  0.035286   \n",
       "152    -0.601401  1.893327       0.864966      -0.696620 -0.696620 -0.696620   \n",
       "153    -0.483761  2.253082      -0.611056      -0.611056 -0.611056  0.280009   \n",
       "\n",
       "     DiabetesPedigreeFunction       Age  \n",
       "0                   -1.046981 -0.110741  \n",
       "1                   -0.619435 -0.201684  \n",
       "2                   -0.855945 -0.129484  \n",
       "3                   -1.042049  0.467448  \n",
       "4                   -0.918744 -0.528596  \n",
       "..                        ...       ...  \n",
       "149                 -1.127591 -0.159085  \n",
       "150                 -1.057667 -0.507151  \n",
       "151                 -0.707048 -0.040870  \n",
       "152                 -0.684432  0.617398  \n",
       "153                 -0.591643  0.375480  \n",
       "\n",
       "[154 rows x 8 columns]"
      ]
     },
     "execution_count": 8,
     "metadata": {},
     "output_type": "execute_result"
    }
   ],
   "source": [
    "from multiprocessing import Pool, cpu_count, Queue\n",
    "from helper_func import *\n",
    "import pandas as pd\n",
    "\n",
    "X_test_DF = pd.DataFrame(X_test, columns=featureNames)\n",
    "num_cores = cpu_count()\n",
    "print(f'num of cores: {num_cores}')\n",
    "#print(X_train)\n",
    "if len(intervals_dict) == 0:\n",
    "        compute_intervals(intervals_dict, X_test_DF)\n",
    "\n",
    "#print(intervals_dict)\n",
    "X_test_DF"
   ]
  },
  {
   "cell_type": "code",
   "execution_count": null,
   "id": "3b6b2b84",
   "metadata": {},
   "outputs": [
    {
     "name": "stderr",
     "output_type": "stream",
     "text": [
      "100%|██████████| 40/40 [04:05<00:00,  6.13s/it]\n"
     ]
    }
   ],
   "source": [
    "from tqdm import tqdm\n",
    "import pickle\n",
    "import os\n",
    "#import shutil\n",
    "\n",
    "pred = model.predict(X_test.to(\"cuda:0\"))\n",
    "\n",
    "#print(pred)\n",
    "#print(clf.predict_proba)\n",
    "#print(pred)\n",
    "pos_label = '1'\n",
    "neg_label = '0'\n",
    "\n",
    "itemset = set()\n",
    "encoded_vals = []\n",
    "#summed_values = {}\n",
    "#num_features = X_train.shape[1]\n",
    "\n",
    "shap_threshold = 0.001\n",
    "\n",
    "p = Pool(num_cores)\n",
    "\n",
    "for feature in X_test_DF.columns.to_list(): # for NLP this must be the whole vocab \n",
    "    if feature in intervals_dict:\n",
    "        intervals = intervals_dict[feature]\n",
    "        for interval in intervals:\n",
    "            if interval != interval: continue\n",
    "            left = interval.left\n",
    "            right = interval.right\n",
    "            name = f'{left}<{feature}<={right}'\n",
    "            itemset.add(name)\n",
    "    else:\n",
    "        itemset.add(feature)\n",
    "\n",
    "itemset.add(pos_label)\n",
    "itemset.add(neg_label)\n",
    "\n",
    "#for batch in tqdm(grads):\n",
    "#    for sample in batch:\n",
    "#ohe_dfList = [] \n",
    "\n",
    "def CEGA(epoch): \n",
    "    #print(np.shape(epoch))\n",
    "    for indx in range(len(epoch)):#for indx in range(len(pred)):\n",
    "        pos_queue.put(pos_label)\n",
    "        neg_queue.put(neg_label)\n",
    "        exp = epoch[indx]#[item[indx] for item in sample] #normalize featureListALL ?\n",
    "        #print(\"exp\")\n",
    "        #print(np.shape(exp))\n",
    "        #print(exp)\n",
    "        \n",
    "        instance_features = X_test_DF.iloc[[indx]].to_dict(orient='records')[0]\n",
    "        feature_vals = [instance_features[name] for name in featureNames] #put here grads# feature values ?? \n",
    "\n",
    "        # GRADS AS LOCAL EXPLAINATION #\n",
    "        # \n",
    "        #print(\"eh\")\n",
    "\n",
    "        zipped = zip(exp, feature_vals,\n",
    "                     featureNames, [shap_threshold]*len(featureNames))\n",
    "\n",
    "\n",
    "        p.map(get_relevant_features, zipped)\n",
    "        append_to_encoded_vals(pos_queue, itemset, encoded_vals)\n",
    "        append_to_encoded_vals(neg_queue, itemset, encoded_vals)\n",
    "\n",
    "        ohe_df = pd.DataFrame(encoded_vals)\n",
    "        #print(ohe_df)\n",
    "        #exit()\n",
    "    return ohe_df #ohe_dfList.append(ohe_df)\n",
    "\n",
    "\n",
    "output_directory = './DEBUG/OHEresults/'\n",
    "output_base_filename = 'ohe@Iteration'\n",
    "counter = 0\n",
    "\n",
    "# Create the output directory if it doesn't exist\n",
    "if not os.path.exists(output_directory):\n",
    "    os.makedirs(output_directory)\n",
    "\n",
    "\n",
    "for i in tqdm (range(len(grads))):\n",
    "\n",
    "    epoch  = grads[i]\n",
    "    output_filename = f'{output_directory}{output_base_filename}_{counter}.pkl'\n",
    "    try:\n",
    "        with open(output_filename, 'xb') as f:\n",
    "            ohe_df = CEGA(epoch)\n",
    "            pickle.dump(ohe_df, f)\n",
    "            counter += 1\n",
    "    except FileExistsError:\n",
    "        # If the file already exists, increment the counter and try again\n",
    "        counter += 1\n",
    "# TAKES ~30 sec for 154 samples  \n"
   ]
  },
  {
   "cell_type": "code",
   "execution_count": null,
   "id": "e16a777c",
   "metadata": {},
   "outputs": [
    {
     "data": {
      "text/html": [
       "<div>\n",
       "<style scoped>\n",
       "    .dataframe tbody tr th:only-of-type {\n",
       "        vertical-align: middle;\n",
       "    }\n",
       "\n",
       "    .dataframe tbody tr th {\n",
       "        vertical-align: top;\n",
       "    }\n",
       "\n",
       "    .dataframe thead th {\n",
       "        text-align: right;\n",
       "    }\n",
       "</style>\n",
       "<table border=\"1\" class=\"dataframe\">\n",
       "  <thead>\n",
       "    <tr style=\"text-align: right;\">\n",
       "      <th></th>\n",
       "      <th>-1.074&lt;DiabetesPedigreeFunction&lt;=-0.864</th>\n",
       "      <th>-0.583&lt;BMI&lt;=-0.292</th>\n",
       "      <th>-0.292&lt;BMI&lt;=-0.00171</th>\n",
       "      <th>-0.942&lt;Glucose&lt;=-0.271</th>\n",
       "      <th>1.731&lt;Glucose&lt;=2.399</th>\n",
       "      <th>0.14&lt;Age&lt;=0.396</th>\n",
       "      <th>-0.398&lt;Insulin&lt;=0.297</th>\n",
       "      <th>0</th>\n",
       "      <th>-1.493&lt;DiabetesPedigreeFunction&lt;=-1.283</th>\n",
       "      <th>-0.778&lt;Pregnancies&lt;=-0.583</th>\n",
       "      <th>...</th>\n",
       "      <th>1.429&lt;BloodPressure&lt;=1.943</th>\n",
       "      <th>-0.543&lt;SkinThickness&lt;=-0.249</th>\n",
       "      <th>-0.655&lt;DiabetesPedigreeFunction&lt;=-0.445</th>\n",
       "      <th>-0.627&lt;BloodPressure&lt;=-0.111</th>\n",
       "      <th>0.396&lt;Glucose&lt;=1.064</th>\n",
       "      <th>-0.864&lt;DiabetesPedigreeFunction&lt;=-0.655</th>\n",
       "      <th>1.064&lt;Glucose&lt;=1.731</th>\n",
       "      <th>-0.111&lt;BloodPressure&lt;=0.403</th>\n",
       "      <th>0.992&lt;Insulin&lt;=1.687</th>\n",
       "      <th>1</th>\n",
       "    </tr>\n",
       "  </thead>\n",
       "  <tbody>\n",
       "    <tr>\n",
       "      <th>0</th>\n",
       "      <td>0</td>\n",
       "      <td>0</td>\n",
       "      <td>0</td>\n",
       "      <td>0</td>\n",
       "      <td>0</td>\n",
       "      <td>0</td>\n",
       "      <td>0</td>\n",
       "      <td>0</td>\n",
       "      <td>0</td>\n",
       "      <td>0</td>\n",
       "      <td>...</td>\n",
       "      <td>0</td>\n",
       "      <td>0</td>\n",
       "      <td>0</td>\n",
       "      <td>0</td>\n",
       "      <td>0</td>\n",
       "      <td>0</td>\n",
       "      <td>1</td>\n",
       "      <td>1</td>\n",
       "      <td>1</td>\n",
       "      <td>1</td>\n",
       "    </tr>\n",
       "    <tr>\n",
       "      <th>1</th>\n",
       "      <td>1</td>\n",
       "      <td>1</td>\n",
       "      <td>0</td>\n",
       "      <td>0</td>\n",
       "      <td>0</td>\n",
       "      <td>0</td>\n",
       "      <td>0</td>\n",
       "      <td>1</td>\n",
       "      <td>0</td>\n",
       "      <td>0</td>\n",
       "      <td>...</td>\n",
       "      <td>0</td>\n",
       "      <td>0</td>\n",
       "      <td>0</td>\n",
       "      <td>0</td>\n",
       "      <td>0</td>\n",
       "      <td>0</td>\n",
       "      <td>0</td>\n",
       "      <td>0</td>\n",
       "      <td>0</td>\n",
       "      <td>0</td>\n",
       "    </tr>\n",
       "    <tr>\n",
       "      <th>2</th>\n",
       "      <td>0</td>\n",
       "      <td>0</td>\n",
       "      <td>0</td>\n",
       "      <td>0</td>\n",
       "      <td>1</td>\n",
       "      <td>0</td>\n",
       "      <td>0</td>\n",
       "      <td>0</td>\n",
       "      <td>0</td>\n",
       "      <td>0</td>\n",
       "      <td>...</td>\n",
       "      <td>0</td>\n",
       "      <td>0</td>\n",
       "      <td>0</td>\n",
       "      <td>0</td>\n",
       "      <td>0</td>\n",
       "      <td>0</td>\n",
       "      <td>0</td>\n",
       "      <td>0</td>\n",
       "      <td>0</td>\n",
       "      <td>1</td>\n",
       "    </tr>\n",
       "    <tr>\n",
       "      <th>3</th>\n",
       "      <td>0</td>\n",
       "      <td>0</td>\n",
       "      <td>1</td>\n",
       "      <td>0</td>\n",
       "      <td>0</td>\n",
       "      <td>0</td>\n",
       "      <td>0</td>\n",
       "      <td>1</td>\n",
       "      <td>0</td>\n",
       "      <td>1</td>\n",
       "      <td>...</td>\n",
       "      <td>0</td>\n",
       "      <td>0</td>\n",
       "      <td>1</td>\n",
       "      <td>0</td>\n",
       "      <td>0</td>\n",
       "      <td>0</td>\n",
       "      <td>0</td>\n",
       "      <td>0</td>\n",
       "      <td>0</td>\n",
       "      <td>0</td>\n",
       "    </tr>\n",
       "    <tr>\n",
       "      <th>4</th>\n",
       "      <td>0</td>\n",
       "      <td>0</td>\n",
       "      <td>0</td>\n",
       "      <td>0</td>\n",
       "      <td>1</td>\n",
       "      <td>0</td>\n",
       "      <td>0</td>\n",
       "      <td>0</td>\n",
       "      <td>0</td>\n",
       "      <td>0</td>\n",
       "      <td>...</td>\n",
       "      <td>0</td>\n",
       "      <td>0</td>\n",
       "      <td>0</td>\n",
       "      <td>0</td>\n",
       "      <td>0</td>\n",
       "      <td>0</td>\n",
       "      <td>0</td>\n",
       "      <td>0</td>\n",
       "      <td>0</td>\n",
       "      <td>1</td>\n",
       "    </tr>\n",
       "    <tr>\n",
       "      <th>...</th>\n",
       "      <td>...</td>\n",
       "      <td>...</td>\n",
       "      <td>...</td>\n",
       "      <td>...</td>\n",
       "      <td>...</td>\n",
       "      <td>...</td>\n",
       "      <td>...</td>\n",
       "      <td>...</td>\n",
       "      <td>...</td>\n",
       "      <td>...</td>\n",
       "      <td>...</td>\n",
       "      <td>...</td>\n",
       "      <td>...</td>\n",
       "      <td>...</td>\n",
       "      <td>...</td>\n",
       "      <td>...</td>\n",
       "      <td>...</td>\n",
       "      <td>...</td>\n",
       "      <td>...</td>\n",
       "      <td>...</td>\n",
       "      <td>...</td>\n",
       "    </tr>\n",
       "    <tr>\n",
       "      <th>303</th>\n",
       "      <td>0</td>\n",
       "      <td>0</td>\n",
       "      <td>0</td>\n",
       "      <td>0</td>\n",
       "      <td>0</td>\n",
       "      <td>0</td>\n",
       "      <td>0</td>\n",
       "      <td>1</td>\n",
       "      <td>0</td>\n",
       "      <td>1</td>\n",
       "      <td>...</td>\n",
       "      <td>0</td>\n",
       "      <td>0</td>\n",
       "      <td>0</td>\n",
       "      <td>0</td>\n",
       "      <td>0</td>\n",
       "      <td>1</td>\n",
       "      <td>0</td>\n",
       "      <td>0</td>\n",
       "      <td>0</td>\n",
       "      <td>0</td>\n",
       "    </tr>\n",
       "    <tr>\n",
       "      <th>304</th>\n",
       "      <td>0</td>\n",
       "      <td>0</td>\n",
       "      <td>0</td>\n",
       "      <td>0</td>\n",
       "      <td>1</td>\n",
       "      <td>0</td>\n",
       "      <td>0</td>\n",
       "      <td>0</td>\n",
       "      <td>0</td>\n",
       "      <td>0</td>\n",
       "      <td>...</td>\n",
       "      <td>0</td>\n",
       "      <td>0</td>\n",
       "      <td>0</td>\n",
       "      <td>0</td>\n",
       "      <td>0</td>\n",
       "      <td>0</td>\n",
       "      <td>0</td>\n",
       "      <td>0</td>\n",
       "      <td>0</td>\n",
       "      <td>1</td>\n",
       "    </tr>\n",
       "    <tr>\n",
       "      <th>305</th>\n",
       "      <td>0</td>\n",
       "      <td>0</td>\n",
       "      <td>0</td>\n",
       "      <td>0</td>\n",
       "      <td>0</td>\n",
       "      <td>0</td>\n",
       "      <td>0</td>\n",
       "      <td>1</td>\n",
       "      <td>0</td>\n",
       "      <td>1</td>\n",
       "      <td>...</td>\n",
       "      <td>0</td>\n",
       "      <td>0</td>\n",
       "      <td>0</td>\n",
       "      <td>0</td>\n",
       "      <td>0</td>\n",
       "      <td>1</td>\n",
       "      <td>0</td>\n",
       "      <td>0</td>\n",
       "      <td>0</td>\n",
       "      <td>0</td>\n",
       "    </tr>\n",
       "    <tr>\n",
       "      <th>306</th>\n",
       "      <td>0</td>\n",
       "      <td>0</td>\n",
       "      <td>0</td>\n",
       "      <td>0</td>\n",
       "      <td>1</td>\n",
       "      <td>1</td>\n",
       "      <td>0</td>\n",
       "      <td>0</td>\n",
       "      <td>0</td>\n",
       "      <td>0</td>\n",
       "      <td>...</td>\n",
       "      <td>0</td>\n",
       "      <td>0</td>\n",
       "      <td>0</td>\n",
       "      <td>1</td>\n",
       "      <td>0</td>\n",
       "      <td>0</td>\n",
       "      <td>0</td>\n",
       "      <td>0</td>\n",
       "      <td>0</td>\n",
       "      <td>1</td>\n",
       "    </tr>\n",
       "    <tr>\n",
       "      <th>307</th>\n",
       "      <td>0</td>\n",
       "      <td>0</td>\n",
       "      <td>0</td>\n",
       "      <td>0</td>\n",
       "      <td>0</td>\n",
       "      <td>0</td>\n",
       "      <td>0</td>\n",
       "      <td>1</td>\n",
       "      <td>0</td>\n",
       "      <td>0</td>\n",
       "      <td>...</td>\n",
       "      <td>0</td>\n",
       "      <td>0</td>\n",
       "      <td>1</td>\n",
       "      <td>0</td>\n",
       "      <td>0</td>\n",
       "      <td>0</td>\n",
       "      <td>0</td>\n",
       "      <td>0</td>\n",
       "      <td>0</td>\n",
       "      <td>0</td>\n",
       "    </tr>\n",
       "  </tbody>\n",
       "</table>\n",
       "<p>308 rows × 42 columns</p>\n",
       "</div>"
      ],
      "text/plain": [
       "     -1.074<DiabetesPedigreeFunction<=-0.864  -0.583<BMI<=-0.292   \n",
       "0                                          0                   0  \\\n",
       "1                                          1                   1   \n",
       "2                                          0                   0   \n",
       "3                                          0                   0   \n",
       "4                                          0                   0   \n",
       "..                                       ...                 ...   \n",
       "303                                        0                   0   \n",
       "304                                        0                   0   \n",
       "305                                        0                   0   \n",
       "306                                        0                   0   \n",
       "307                                        0                   0   \n",
       "\n",
       "     -0.292<BMI<=-0.00171  -0.942<Glucose<=-0.271  1.731<Glucose<=2.399   \n",
       "0                       0                       0                     0  \\\n",
       "1                       0                       0                     0   \n",
       "2                       0                       0                     1   \n",
       "3                       1                       0                     0   \n",
       "4                       0                       0                     1   \n",
       "..                    ...                     ...                   ...   \n",
       "303                     0                       0                     0   \n",
       "304                     0                       0                     1   \n",
       "305                     0                       0                     0   \n",
       "306                     0                       0                     1   \n",
       "307                     0                       0                     0   \n",
       "\n",
       "     0.14<Age<=0.396  -0.398<Insulin<=0.297  0   \n",
       "0                  0                      0  0  \\\n",
       "1                  0                      0  1   \n",
       "2                  0                      0  0   \n",
       "3                  0                      0  1   \n",
       "4                  0                      0  0   \n",
       "..               ...                    ... ..   \n",
       "303                0                      0  1   \n",
       "304                0                      0  0   \n",
       "305                0                      0  1   \n",
       "306                1                      0  0   \n",
       "307                0                      0  1   \n",
       "\n",
       "     -1.493<DiabetesPedigreeFunction<=-1.283  -0.778<Pregnancies<=-0.583  ...   \n",
       "0                                          0                           0  ...  \\\n",
       "1                                          0                           0  ...   \n",
       "2                                          0                           0  ...   \n",
       "3                                          0                           1  ...   \n",
       "4                                          0                           0  ...   \n",
       "..                                       ...                         ...  ...   \n",
       "303                                        0                           1  ...   \n",
       "304                                        0                           0  ...   \n",
       "305                                        0                           1  ...   \n",
       "306                                        0                           0  ...   \n",
       "307                                        0                           0  ...   \n",
       "\n",
       "     1.429<BloodPressure<=1.943  -0.543<SkinThickness<=-0.249   \n",
       "0                             0                             0  \\\n",
       "1                             0                             0   \n",
       "2                             0                             0   \n",
       "3                             0                             0   \n",
       "4                             0                             0   \n",
       "..                          ...                           ...   \n",
       "303                           0                             0   \n",
       "304                           0                             0   \n",
       "305                           0                             0   \n",
       "306                           0                             0   \n",
       "307                           0                             0   \n",
       "\n",
       "     -0.655<DiabetesPedigreeFunction<=-0.445  -0.627<BloodPressure<=-0.111   \n",
       "0                                          0                             0  \\\n",
       "1                                          0                             0   \n",
       "2                                          0                             0   \n",
       "3                                          1                             0   \n",
       "4                                          0                             0   \n",
       "..                                       ...                           ...   \n",
       "303                                        0                             0   \n",
       "304                                        0                             0   \n",
       "305                                        0                             0   \n",
       "306                                        0                             1   \n",
       "307                                        1                             0   \n",
       "\n",
       "     0.396<Glucose<=1.064  -0.864<DiabetesPedigreeFunction<=-0.655   \n",
       "0                       0                                        0  \\\n",
       "1                       0                                        0   \n",
       "2                       0                                        0   \n",
       "3                       0                                        0   \n",
       "4                       0                                        0   \n",
       "..                    ...                                      ...   \n",
       "303                     0                                        1   \n",
       "304                     0                                        0   \n",
       "305                     0                                        1   \n",
       "306                     0                                        0   \n",
       "307                     0                                        0   \n",
       "\n",
       "     1.064<Glucose<=1.731  -0.111<BloodPressure<=0.403  0.992<Insulin<=1.687   \n",
       "0                       1                            1                     1  \\\n",
       "1                       0                            0                     0   \n",
       "2                       0                            0                     0   \n",
       "3                       0                            0                     0   \n",
       "4                       0                            0                     0   \n",
       "..                    ...                          ...                   ...   \n",
       "303                     0                            0                     0   \n",
       "304                     0                            0                     0   \n",
       "305                     0                            0                     0   \n",
       "306                     0                            0                     0   \n",
       "307                     0                            0                     0   \n",
       "\n",
       "     1  \n",
       "0    1  \n",
       "1    0  \n",
       "2    1  \n",
       "3    0  \n",
       "4    1  \n",
       "..  ..  \n",
       "303  0  \n",
       "304  1  \n",
       "305  0  \n",
       "306  1  \n",
       "307  0  \n",
       "\n",
       "[308 rows x 42 columns]"
      ]
     },
     "execution_count": 10,
     "metadata": {},
     "output_type": "execute_result"
    }
   ],
   "source": [
    "import pickle\n",
    "path  = \"./OHEresults/ohe@Iteration_0.pkl\"\n",
    "with open(path, 'rb') as f:\n",
    "    ohe_df =  pickle.load(f)\n",
    "\n",
    "ohe_df\n",
    "\n",
    "#ohe_dfList[0]\n"
   ]
  },
  {
   "cell_type": "code",
   "execution_count": null,
   "id": "e01fc30f",
   "metadata": {},
   "outputs": [
    {
     "data": {
      "text/html": [
       "<div>\n",
       "<style scoped>\n",
       "    .dataframe tbody tr th:only-of-type {\n",
       "        vertical-align: middle;\n",
       "    }\n",
       "\n",
       "    .dataframe tbody tr th {\n",
       "        vertical-align: top;\n",
       "    }\n",
       "\n",
       "    .dataframe thead th {\n",
       "        text-align: right;\n",
       "    }\n",
       "</style>\n",
       "<table border=\"1\" class=\"dataframe\">\n",
       "  <thead>\n",
       "    <tr style=\"text-align: right;\">\n",
       "      <th></th>\n",
       "      <th>-1.074&lt;DiabetesPedigreeFunction&lt;=-0.864</th>\n",
       "      <th>-0.583&lt;BMI&lt;=-0.292</th>\n",
       "      <th>-0.292&lt;BMI&lt;=-0.00171</th>\n",
       "      <th>-0.942&lt;Glucose&lt;=-0.271</th>\n",
       "      <th>1.731&lt;Glucose&lt;=2.399</th>\n",
       "      <th>0.14&lt;Age&lt;=0.396</th>\n",
       "      <th>-0.398&lt;Insulin&lt;=0.297</th>\n",
       "      <th>0</th>\n",
       "      <th>-1.493&lt;DiabetesPedigreeFunction&lt;=-1.283</th>\n",
       "      <th>-0.778&lt;Pregnancies&lt;=-0.583</th>\n",
       "      <th>...</th>\n",
       "      <th>1.429&lt;BloodPressure&lt;=1.943</th>\n",
       "      <th>-0.543&lt;SkinThickness&lt;=-0.249</th>\n",
       "      <th>-0.655&lt;DiabetesPedigreeFunction&lt;=-0.445</th>\n",
       "      <th>-0.627&lt;BloodPressure&lt;=-0.111</th>\n",
       "      <th>0.396&lt;Glucose&lt;=1.064</th>\n",
       "      <th>-0.864&lt;DiabetesPedigreeFunction&lt;=-0.655</th>\n",
       "      <th>1.064&lt;Glucose&lt;=1.731</th>\n",
       "      <th>-0.111&lt;BloodPressure&lt;=0.403</th>\n",
       "      <th>0.992&lt;Insulin&lt;=1.687</th>\n",
       "      <th>1</th>\n",
       "    </tr>\n",
       "  </thead>\n",
       "  <tbody>\n",
       "    <tr>\n",
       "      <th>0</th>\n",
       "      <td>0</td>\n",
       "      <td>0</td>\n",
       "      <td>0</td>\n",
       "      <td>0</td>\n",
       "      <td>0</td>\n",
       "      <td>0</td>\n",
       "      <td>0</td>\n",
       "      <td>0</td>\n",
       "      <td>0</td>\n",
       "      <td>0</td>\n",
       "      <td>...</td>\n",
       "      <td>0</td>\n",
       "      <td>0</td>\n",
       "      <td>0</td>\n",
       "      <td>0</td>\n",
       "      <td>0</td>\n",
       "      <td>0</td>\n",
       "      <td>1</td>\n",
       "      <td>1</td>\n",
       "      <td>1</td>\n",
       "      <td>1</td>\n",
       "    </tr>\n",
       "    <tr>\n",
       "      <th>1</th>\n",
       "      <td>1</td>\n",
       "      <td>1</td>\n",
       "      <td>0</td>\n",
       "      <td>0</td>\n",
       "      <td>0</td>\n",
       "      <td>0</td>\n",
       "      <td>0</td>\n",
       "      <td>1</td>\n",
       "      <td>0</td>\n",
       "      <td>0</td>\n",
       "      <td>...</td>\n",
       "      <td>0</td>\n",
       "      <td>0</td>\n",
       "      <td>0</td>\n",
       "      <td>0</td>\n",
       "      <td>0</td>\n",
       "      <td>0</td>\n",
       "      <td>0</td>\n",
       "      <td>0</td>\n",
       "      <td>0</td>\n",
       "      <td>0</td>\n",
       "    </tr>\n",
       "    <tr>\n",
       "      <th>2</th>\n",
       "      <td>0</td>\n",
       "      <td>0</td>\n",
       "      <td>0</td>\n",
       "      <td>0</td>\n",
       "      <td>1</td>\n",
       "      <td>0</td>\n",
       "      <td>0</td>\n",
       "      <td>0</td>\n",
       "      <td>0</td>\n",
       "      <td>0</td>\n",
       "      <td>...</td>\n",
       "      <td>0</td>\n",
       "      <td>0</td>\n",
       "      <td>0</td>\n",
       "      <td>0</td>\n",
       "      <td>0</td>\n",
       "      <td>0</td>\n",
       "      <td>0</td>\n",
       "      <td>0</td>\n",
       "      <td>0</td>\n",
       "      <td>1</td>\n",
       "    </tr>\n",
       "    <tr>\n",
       "      <th>3</th>\n",
       "      <td>0</td>\n",
       "      <td>0</td>\n",
       "      <td>1</td>\n",
       "      <td>0</td>\n",
       "      <td>0</td>\n",
       "      <td>0</td>\n",
       "      <td>0</td>\n",
       "      <td>1</td>\n",
       "      <td>0</td>\n",
       "      <td>1</td>\n",
       "      <td>...</td>\n",
       "      <td>0</td>\n",
       "      <td>0</td>\n",
       "      <td>1</td>\n",
       "      <td>0</td>\n",
       "      <td>0</td>\n",
       "      <td>0</td>\n",
       "      <td>0</td>\n",
       "      <td>0</td>\n",
       "      <td>0</td>\n",
       "      <td>0</td>\n",
       "    </tr>\n",
       "    <tr>\n",
       "      <th>4</th>\n",
       "      <td>0</td>\n",
       "      <td>0</td>\n",
       "      <td>0</td>\n",
       "      <td>0</td>\n",
       "      <td>1</td>\n",
       "      <td>0</td>\n",
       "      <td>0</td>\n",
       "      <td>0</td>\n",
       "      <td>0</td>\n",
       "      <td>0</td>\n",
       "      <td>...</td>\n",
       "      <td>0</td>\n",
       "      <td>0</td>\n",
       "      <td>0</td>\n",
       "      <td>0</td>\n",
       "      <td>0</td>\n",
       "      <td>0</td>\n",
       "      <td>0</td>\n",
       "      <td>0</td>\n",
       "      <td>0</td>\n",
       "      <td>1</td>\n",
       "    </tr>\n",
       "    <tr>\n",
       "      <th>...</th>\n",
       "      <td>...</td>\n",
       "      <td>...</td>\n",
       "      <td>...</td>\n",
       "      <td>...</td>\n",
       "      <td>...</td>\n",
       "      <td>...</td>\n",
       "      <td>...</td>\n",
       "      <td>...</td>\n",
       "      <td>...</td>\n",
       "      <td>...</td>\n",
       "      <td>...</td>\n",
       "      <td>...</td>\n",
       "      <td>...</td>\n",
       "      <td>...</td>\n",
       "      <td>...</td>\n",
       "      <td>...</td>\n",
       "      <td>...</td>\n",
       "      <td>...</td>\n",
       "      <td>...</td>\n",
       "      <td>...</td>\n",
       "      <td>...</td>\n",
       "    </tr>\n",
       "    <tr>\n",
       "      <th>303</th>\n",
       "      <td>0</td>\n",
       "      <td>0</td>\n",
       "      <td>0</td>\n",
       "      <td>0</td>\n",
       "      <td>0</td>\n",
       "      <td>0</td>\n",
       "      <td>0</td>\n",
       "      <td>1</td>\n",
       "      <td>0</td>\n",
       "      <td>1</td>\n",
       "      <td>...</td>\n",
       "      <td>0</td>\n",
       "      <td>0</td>\n",
       "      <td>0</td>\n",
       "      <td>0</td>\n",
       "      <td>0</td>\n",
       "      <td>1</td>\n",
       "      <td>0</td>\n",
       "      <td>0</td>\n",
       "      <td>0</td>\n",
       "      <td>0</td>\n",
       "    </tr>\n",
       "    <tr>\n",
       "      <th>304</th>\n",
       "      <td>0</td>\n",
       "      <td>0</td>\n",
       "      <td>0</td>\n",
       "      <td>0</td>\n",
       "      <td>1</td>\n",
       "      <td>0</td>\n",
       "      <td>0</td>\n",
       "      <td>0</td>\n",
       "      <td>0</td>\n",
       "      <td>0</td>\n",
       "      <td>...</td>\n",
       "      <td>0</td>\n",
       "      <td>0</td>\n",
       "      <td>0</td>\n",
       "      <td>0</td>\n",
       "      <td>0</td>\n",
       "      <td>0</td>\n",
       "      <td>0</td>\n",
       "      <td>0</td>\n",
       "      <td>0</td>\n",
       "      <td>1</td>\n",
       "    </tr>\n",
       "    <tr>\n",
       "      <th>305</th>\n",
       "      <td>0</td>\n",
       "      <td>0</td>\n",
       "      <td>0</td>\n",
       "      <td>0</td>\n",
       "      <td>0</td>\n",
       "      <td>0</td>\n",
       "      <td>0</td>\n",
       "      <td>1</td>\n",
       "      <td>0</td>\n",
       "      <td>1</td>\n",
       "      <td>...</td>\n",
       "      <td>0</td>\n",
       "      <td>0</td>\n",
       "      <td>0</td>\n",
       "      <td>0</td>\n",
       "      <td>0</td>\n",
       "      <td>1</td>\n",
       "      <td>0</td>\n",
       "      <td>0</td>\n",
       "      <td>0</td>\n",
       "      <td>0</td>\n",
       "    </tr>\n",
       "    <tr>\n",
       "      <th>306</th>\n",
       "      <td>0</td>\n",
       "      <td>0</td>\n",
       "      <td>0</td>\n",
       "      <td>0</td>\n",
       "      <td>1</td>\n",
       "      <td>1</td>\n",
       "      <td>0</td>\n",
       "      <td>0</td>\n",
       "      <td>0</td>\n",
       "      <td>0</td>\n",
       "      <td>...</td>\n",
       "      <td>0</td>\n",
       "      <td>0</td>\n",
       "      <td>0</td>\n",
       "      <td>1</td>\n",
       "      <td>0</td>\n",
       "      <td>0</td>\n",
       "      <td>0</td>\n",
       "      <td>0</td>\n",
       "      <td>0</td>\n",
       "      <td>1</td>\n",
       "    </tr>\n",
       "    <tr>\n",
       "      <th>307</th>\n",
       "      <td>0</td>\n",
       "      <td>0</td>\n",
       "      <td>0</td>\n",
       "      <td>0</td>\n",
       "      <td>0</td>\n",
       "      <td>0</td>\n",
       "      <td>0</td>\n",
       "      <td>1</td>\n",
       "      <td>0</td>\n",
       "      <td>0</td>\n",
       "      <td>...</td>\n",
       "      <td>0</td>\n",
       "      <td>0</td>\n",
       "      <td>1</td>\n",
       "      <td>0</td>\n",
       "      <td>0</td>\n",
       "      <td>0</td>\n",
       "      <td>0</td>\n",
       "      <td>0</td>\n",
       "      <td>0</td>\n",
       "      <td>0</td>\n",
       "    </tr>\n",
       "  </tbody>\n",
       "</table>\n",
       "<p>308 rows × 42 columns</p>\n",
       "</div>"
      ],
      "text/plain": [
       "     -1.074<DiabetesPedigreeFunction<=-0.864  -0.583<BMI<=-0.292   \n",
       "0                                          0                   0  \\\n",
       "1                                          1                   1   \n",
       "2                                          0                   0   \n",
       "3                                          0                   0   \n",
       "4                                          0                   0   \n",
       "..                                       ...                 ...   \n",
       "303                                        0                   0   \n",
       "304                                        0                   0   \n",
       "305                                        0                   0   \n",
       "306                                        0                   0   \n",
       "307                                        0                   0   \n",
       "\n",
       "     -0.292<BMI<=-0.00171  -0.942<Glucose<=-0.271  1.731<Glucose<=2.399   \n",
       "0                       0                       0                     0  \\\n",
       "1                       0                       0                     0   \n",
       "2                       0                       0                     1   \n",
       "3                       1                       0                     0   \n",
       "4                       0                       0                     1   \n",
       "..                    ...                     ...                   ...   \n",
       "303                     0                       0                     0   \n",
       "304                     0                       0                     1   \n",
       "305                     0                       0                     0   \n",
       "306                     0                       0                     1   \n",
       "307                     0                       0                     0   \n",
       "\n",
       "     0.14<Age<=0.396  -0.398<Insulin<=0.297  0   \n",
       "0                  0                      0  0  \\\n",
       "1                  0                      0  1   \n",
       "2                  0                      0  0   \n",
       "3                  0                      0  1   \n",
       "4                  0                      0  0   \n",
       "..               ...                    ... ..   \n",
       "303                0                      0  1   \n",
       "304                0                      0  0   \n",
       "305                0                      0  1   \n",
       "306                1                      0  0   \n",
       "307                0                      0  1   \n",
       "\n",
       "     -1.493<DiabetesPedigreeFunction<=-1.283  -0.778<Pregnancies<=-0.583  ...   \n",
       "0                                          0                           0  ...  \\\n",
       "1                                          0                           0  ...   \n",
       "2                                          0                           0  ...   \n",
       "3                                          0                           1  ...   \n",
       "4                                          0                           0  ...   \n",
       "..                                       ...                         ...  ...   \n",
       "303                                        0                           1  ...   \n",
       "304                                        0                           0  ...   \n",
       "305                                        0                           1  ...   \n",
       "306                                        0                           0  ...   \n",
       "307                                        0                           0  ...   \n",
       "\n",
       "     1.429<BloodPressure<=1.943  -0.543<SkinThickness<=-0.249   \n",
       "0                             0                             0  \\\n",
       "1                             0                             0   \n",
       "2                             0                             0   \n",
       "3                             0                             0   \n",
       "4                             0                             0   \n",
       "..                          ...                           ...   \n",
       "303                           0                             0   \n",
       "304                           0                             0   \n",
       "305                           0                             0   \n",
       "306                           0                             0   \n",
       "307                           0                             0   \n",
       "\n",
       "     -0.655<DiabetesPedigreeFunction<=-0.445  -0.627<BloodPressure<=-0.111   \n",
       "0                                          0                             0  \\\n",
       "1                                          0                             0   \n",
       "2                                          0                             0   \n",
       "3                                          1                             0   \n",
       "4                                          0                             0   \n",
       "..                                       ...                           ...   \n",
       "303                                        0                             0   \n",
       "304                                        0                             0   \n",
       "305                                        0                             0   \n",
       "306                                        0                             1   \n",
       "307                                        1                             0   \n",
       "\n",
       "     0.396<Glucose<=1.064  -0.864<DiabetesPedigreeFunction<=-0.655   \n",
       "0                       0                                        0  \\\n",
       "1                       0                                        0   \n",
       "2                       0                                        0   \n",
       "3                       0                                        0   \n",
       "4                       0                                        0   \n",
       "..                    ...                                      ...   \n",
       "303                     0                                        1   \n",
       "304                     0                                        0   \n",
       "305                     0                                        1   \n",
       "306                     0                                        0   \n",
       "307                     0                                        0   \n",
       "\n",
       "     1.064<Glucose<=1.731  -0.111<BloodPressure<=0.403  0.992<Insulin<=1.687   \n",
       "0                       1                            1                     1  \\\n",
       "1                       0                            0                     0   \n",
       "2                       0                            0                     0   \n",
       "3                       0                            0                     0   \n",
       "4                       0                            0                     0   \n",
       "..                    ...                          ...                   ...   \n",
       "303                     0                            0                     0   \n",
       "304                     0                            0                     0   \n",
       "305                     0                            0                     0   \n",
       "306                     0                            0                     0   \n",
       "307                     0                            0                     0   \n",
       "\n",
       "     1  \n",
       "0    1  \n",
       "1    0  \n",
       "2    1  \n",
       "3    0  \n",
       "4    1  \n",
       "..  ..  \n",
       "303  0  \n",
       "304  1  \n",
       "305  0  \n",
       "306  1  \n",
       "307  0  \n",
       "\n",
       "[308 rows x 42 columns]"
      ]
     },
     "execution_count": 11,
     "metadata": {},
     "output_type": "execute_result"
    }
   ],
   "source": [
    "ohe_df"
   ]
  },
  {
   "cell_type": "code",
   "execution_count": null,
   "id": "52c75966",
   "metadata": {},
   "outputs": [
    {
     "name": "stderr",
     "output_type": "stream",
     "text": [
      "/home/rosario/.local/lib/python3.10/site-packages/mlxtend/frequent_patterns/fpcommon.py:111: DeprecationWarning: DataFrames with non-bool types result in worse computationalperformance and their support might be discontinued in the future.Please use a DataFrame with bool type\n",
      "  warnings.warn(\n",
      "/home/rosario/.local/lib/python3.10/site-packages/mlxtend/frequent_patterns/fpcommon.py:111: DeprecationWarning: DataFrames with non-bool types result in worse computationalperformance and their support might be discontinued in the future.Please use a DataFrame with bool type\n",
      "  warnings.warn(\n",
      "/home/rosario/.local/lib/python3.10/site-packages/mlxtend/frequent_patterns/fpcommon.py:111: DeprecationWarning: DataFrames with non-bool types result in worse computationalperformance and their support might be discontinued in the future.Please use a DataFrame with bool type\n",
      "  warnings.warn(\n"
     ]
    },
    {
     "name": "stdout",
     "output_type": "stream",
     "text": [
      "                                         antecedents   \n",
      "0                                  (0.14<Age<=0.396)  \\\n",
      "1                             (1.731<Glucose<=2.399)   \n",
      "2                                  (0.289<BMI<=0.58)   \n",
      "3                                 (-0.116<Age<=0.14)   \n",
      "4                             (1.731<Glucose<=2.399)   \n",
      "..                                               ...   \n",
      "924  (-0.627<BloodPressure<=-0.111, 0.14<Age<=0.396)   \n",
      "925                             (1, 0.14<Age<=0.396)   \n",
      "926                                (0.289<BMI<=0.58)   \n",
      "927                   (-0.627<BloodPressure<=-0.111)   \n",
      "928                                (0.14<Age<=0.396)   \n",
      "\n",
      "                                           consequents  antecedent support   \n",
      "0                               (1.731<Glucose<=2.399)            0.064935  \\\n",
      "1                                    (0.14<Age<=0.396)            0.474026   \n",
      "2                               (1.731<Glucose<=2.399)            0.006494   \n",
      "3                               (1.731<Glucose<=2.399)            0.077922   \n",
      "4                                   (-0.116<Age<=0.14)            0.474026   \n",
      "..                                                 ...                 ...   \n",
      "924         (0.289<BMI<=0.58, 1, 1.731<Glucose<=2.399)            0.025974   \n",
      "925  (0.289<BMI<=0.58, -0.627<BloodPressure<=-0.111...            0.064935   \n",
      "926  (-0.627<BloodPressure<=-0.111, 0.14<Age<=0.396...            0.006494   \n",
      "927  (0.289<BMI<=0.58, 0.14<Age<=0.396, 1, 1.731<Gl...            0.084416   \n",
      "928  (0.289<BMI<=0.58, -0.627<BloodPressure<=-0.111...            0.064935   \n",
      "\n",
      "     consequent support   support  confidence       lift  leverage  conviction  \n",
      "0              0.474026  0.051948    0.800000   1.687671  0.021167    2.629870  \n",
      "1              0.064935  0.051948    0.109589   1.687671  0.021167    1.050150  \n",
      "2              0.474026  0.006494    1.000000   2.109589  0.003415         inf  \n",
      "3              0.474026  0.058442    0.750000   1.582192  0.021504    2.103896  \n",
      "4              0.077922  0.058442    0.123288   1.582192  0.021504    1.051745  \n",
      "..                  ...       ...         ...        ...       ...         ...  \n",
      "924            0.006494  0.006494    0.250000  38.500000  0.006325    1.324675  \n",
      "925            0.006494  0.006494    0.100000  15.400000  0.006072    1.103896  \n",
      "926            0.025974  0.006494    1.000000  38.500000  0.006325         inf  \n",
      "927            0.006494  0.006494    0.076923  11.846154  0.005945    1.076299  \n",
      "928            0.006494  0.006494    0.100000  15.400000  0.006072    1.103896  \n",
      "\n",
      "[929 rows x 9 columns]\n"
     ]
    },
    {
     "data": {
      "text/html": [
       "<div>\n",
       "<style scoped>\n",
       "    .dataframe tbody tr th:only-of-type {\n",
       "        vertical-align: middle;\n",
       "    }\n",
       "\n",
       "    .dataframe tbody tr th {\n",
       "        vertical-align: top;\n",
       "    }\n",
       "\n",
       "    .dataframe thead th {\n",
       "        text-align: right;\n",
       "    }\n",
       "</style>\n",
       "<table border=\"1\" class=\"dataframe\">\n",
       "  <thead>\n",
       "    <tr style=\"text-align: right;\">\n",
       "      <th></th>\n",
       "      <th>antecedents</th>\n",
       "      <th>consequents</th>\n",
       "      <th>antecedent support</th>\n",
       "      <th>consequent support</th>\n",
       "      <th>support</th>\n",
       "      <th>confidence</th>\n",
       "      <th>lift</th>\n",
       "      <th>leverage</th>\n",
       "      <th>conviction</th>\n",
       "    </tr>\n",
       "  </thead>\n",
       "  <tbody>\n",
       "    <tr>\n",
       "      <th>0</th>\n",
       "      <td>(0.14&lt;Age&lt;=0.396)</td>\n",
       "      <td>(1.731&lt;Glucose&lt;=2.399)</td>\n",
       "      <td>0.064935</td>\n",
       "      <td>0.474026</td>\n",
       "      <td>0.051948</td>\n",
       "      <td>0.800000</td>\n",
       "      <td>1.687671</td>\n",
       "      <td>0.021167</td>\n",
       "      <td>2.629870</td>\n",
       "    </tr>\n",
       "    <tr>\n",
       "      <th>1</th>\n",
       "      <td>(1.731&lt;Glucose&lt;=2.399)</td>\n",
       "      <td>(0.14&lt;Age&lt;=0.396)</td>\n",
       "      <td>0.474026</td>\n",
       "      <td>0.064935</td>\n",
       "      <td>0.051948</td>\n",
       "      <td>0.109589</td>\n",
       "      <td>1.687671</td>\n",
       "      <td>0.021167</td>\n",
       "      <td>1.050150</td>\n",
       "    </tr>\n",
       "    <tr>\n",
       "      <th>2</th>\n",
       "      <td>(0.289&lt;BMI&lt;=0.58)</td>\n",
       "      <td>(1.731&lt;Glucose&lt;=2.399)</td>\n",
       "      <td>0.006494</td>\n",
       "      <td>0.474026</td>\n",
       "      <td>0.006494</td>\n",
       "      <td>1.000000</td>\n",
       "      <td>2.109589</td>\n",
       "      <td>0.003415</td>\n",
       "      <td>inf</td>\n",
       "    </tr>\n",
       "    <tr>\n",
       "      <th>3</th>\n",
       "      <td>(-0.116&lt;Age&lt;=0.14)</td>\n",
       "      <td>(1.731&lt;Glucose&lt;=2.399)</td>\n",
       "      <td>0.077922</td>\n",
       "      <td>0.474026</td>\n",
       "      <td>0.058442</td>\n",
       "      <td>0.750000</td>\n",
       "      <td>1.582192</td>\n",
       "      <td>0.021504</td>\n",
       "      <td>2.103896</td>\n",
       "    </tr>\n",
       "    <tr>\n",
       "      <th>4</th>\n",
       "      <td>(1.731&lt;Glucose&lt;=2.399)</td>\n",
       "      <td>(-0.116&lt;Age&lt;=0.14)</td>\n",
       "      <td>0.474026</td>\n",
       "      <td>0.077922</td>\n",
       "      <td>0.058442</td>\n",
       "      <td>0.123288</td>\n",
       "      <td>1.582192</td>\n",
       "      <td>0.021504</td>\n",
       "      <td>1.051745</td>\n",
       "    </tr>\n",
       "    <tr>\n",
       "      <th>...</th>\n",
       "      <td>...</td>\n",
       "      <td>...</td>\n",
       "      <td>...</td>\n",
       "      <td>...</td>\n",
       "      <td>...</td>\n",
       "      <td>...</td>\n",
       "      <td>...</td>\n",
       "      <td>...</td>\n",
       "      <td>...</td>\n",
       "    </tr>\n",
       "    <tr>\n",
       "      <th>924</th>\n",
       "      <td>(-0.627&lt;BloodPressure&lt;=-0.111, 0.14&lt;Age&lt;=0.396)</td>\n",
       "      <td>(0.289&lt;BMI&lt;=0.58, 1, 1.731&lt;Glucose&lt;=2.399)</td>\n",
       "      <td>0.025974</td>\n",
       "      <td>0.006494</td>\n",
       "      <td>0.006494</td>\n",
       "      <td>0.250000</td>\n",
       "      <td>38.500000</td>\n",
       "      <td>0.006325</td>\n",
       "      <td>1.324675</td>\n",
       "    </tr>\n",
       "    <tr>\n",
       "      <th>925</th>\n",
       "      <td>(1, 0.14&lt;Age&lt;=0.396)</td>\n",
       "      <td>(0.289&lt;BMI&lt;=0.58, -0.627&lt;BloodPressure&lt;=-0.111...</td>\n",
       "      <td>0.064935</td>\n",
       "      <td>0.006494</td>\n",
       "      <td>0.006494</td>\n",
       "      <td>0.100000</td>\n",
       "      <td>15.400000</td>\n",
       "      <td>0.006072</td>\n",
       "      <td>1.103896</td>\n",
       "    </tr>\n",
       "    <tr>\n",
       "      <th>926</th>\n",
       "      <td>(0.289&lt;BMI&lt;=0.58)</td>\n",
       "      <td>(-0.627&lt;BloodPressure&lt;=-0.111, 0.14&lt;Age&lt;=0.396...</td>\n",
       "      <td>0.006494</td>\n",
       "      <td>0.025974</td>\n",
       "      <td>0.006494</td>\n",
       "      <td>1.000000</td>\n",
       "      <td>38.500000</td>\n",
       "      <td>0.006325</td>\n",
       "      <td>inf</td>\n",
       "    </tr>\n",
       "    <tr>\n",
       "      <th>927</th>\n",
       "      <td>(-0.627&lt;BloodPressure&lt;=-0.111)</td>\n",
       "      <td>(0.289&lt;BMI&lt;=0.58, 0.14&lt;Age&lt;=0.396, 1, 1.731&lt;Gl...</td>\n",
       "      <td>0.084416</td>\n",
       "      <td>0.006494</td>\n",
       "      <td>0.006494</td>\n",
       "      <td>0.076923</td>\n",
       "      <td>11.846154</td>\n",
       "      <td>0.005945</td>\n",
       "      <td>1.076299</td>\n",
       "    </tr>\n",
       "    <tr>\n",
       "      <th>928</th>\n",
       "      <td>(0.14&lt;Age&lt;=0.396)</td>\n",
       "      <td>(0.289&lt;BMI&lt;=0.58, -0.627&lt;BloodPressure&lt;=-0.111...</td>\n",
       "      <td>0.064935</td>\n",
       "      <td>0.006494</td>\n",
       "      <td>0.006494</td>\n",
       "      <td>0.100000</td>\n",
       "      <td>15.400000</td>\n",
       "      <td>0.006072</td>\n",
       "      <td>1.103896</td>\n",
       "    </tr>\n",
       "  </tbody>\n",
       "</table>\n",
       "<p>929 rows × 9 columns</p>\n",
       "</div>"
      ],
      "text/plain": [
       "                                         antecedents   \n",
       "0                                  (0.14<Age<=0.396)  \\\n",
       "1                             (1.731<Glucose<=2.399)   \n",
       "2                                  (0.289<BMI<=0.58)   \n",
       "3                                 (-0.116<Age<=0.14)   \n",
       "4                             (1.731<Glucose<=2.399)   \n",
       "..                                               ...   \n",
       "924  (-0.627<BloodPressure<=-0.111, 0.14<Age<=0.396)   \n",
       "925                             (1, 0.14<Age<=0.396)   \n",
       "926                                (0.289<BMI<=0.58)   \n",
       "927                   (-0.627<BloodPressure<=-0.111)   \n",
       "928                                (0.14<Age<=0.396)   \n",
       "\n",
       "                                           consequents  antecedent support   \n",
       "0                               (1.731<Glucose<=2.399)            0.064935  \\\n",
       "1                                    (0.14<Age<=0.396)            0.474026   \n",
       "2                               (1.731<Glucose<=2.399)            0.006494   \n",
       "3                               (1.731<Glucose<=2.399)            0.077922   \n",
       "4                                   (-0.116<Age<=0.14)            0.474026   \n",
       "..                                                 ...                 ...   \n",
       "924         (0.289<BMI<=0.58, 1, 1.731<Glucose<=2.399)            0.025974   \n",
       "925  (0.289<BMI<=0.58, -0.627<BloodPressure<=-0.111...            0.064935   \n",
       "926  (-0.627<BloodPressure<=-0.111, 0.14<Age<=0.396...            0.006494   \n",
       "927  (0.289<BMI<=0.58, 0.14<Age<=0.396, 1, 1.731<Gl...            0.084416   \n",
       "928  (0.289<BMI<=0.58, -0.627<BloodPressure<=-0.111...            0.064935   \n",
       "\n",
       "     consequent support   support  confidence       lift  leverage  conviction  \n",
       "0              0.474026  0.051948    0.800000   1.687671  0.021167    2.629870  \n",
       "1              0.064935  0.051948    0.109589   1.687671  0.021167    1.050150  \n",
       "2              0.474026  0.006494    1.000000   2.109589  0.003415         inf  \n",
       "3              0.474026  0.058442    0.750000   1.582192  0.021504    2.103896  \n",
       "4              0.077922  0.058442    0.123288   1.582192  0.021504    1.051745  \n",
       "..                  ...       ...         ...        ...       ...         ...  \n",
       "924            0.006494  0.006494    0.250000  38.500000  0.006325    1.324675  \n",
       "925            0.006494  0.006494    0.100000  15.400000  0.006072    1.103896  \n",
       "926            0.025974  0.006494    1.000000  38.500000  0.006325         inf  \n",
       "927            0.006494  0.006494    0.076923  11.846154  0.005945    1.076299  \n",
       "928            0.006494  0.006494    0.100000  15.400000  0.006072    1.103896  \n",
       "\n",
       "[929 rows x 9 columns]"
      ]
     },
     "execution_count": 117,
     "metadata": {},
     "output_type": "execute_result"
    }
   ],
   "source": [
    "from mlxtend.frequent_patterns import apriori, association_rules\n",
    "                                        # 10/ len(pred)\n",
    "freq_items = apriori(ohe_df, min_support=(1/len(pred)), use_colnames=True, max_len=3)\n",
    "#print(len(freq_items))\n",
    "#print(freq_items)\n",
    "all_rules = association_rules(freq_items, metric=\"confidence\", min_threshold=0.02, support_only=False) # 0.7 support_only=False\n",
    "#print(len(all_rules))\n",
    "#print(all_rules)                                                   # 10/ len(pred)\n",
    "freq_items = apriori(ohe_df.loc[ohe_df[pos_label] == 1], min_support=(1/len(pred)), use_colnames=True, max_len=10) # max len 3\n",
    "pos_rules = association_rules(freq_items, metric=\"confidence\", min_threshold=0.02, support_only=False) # 0.6 support_only=False\n",
    "                                                                    # 10/ len(pred)\n",
    "freq_items = apriori(ohe_df.loc[ohe_df[neg_label] == 1], min_support=(1/len(pred)), use_colnames=True, max_len=10) # max len 3 \n",
    "neg_rules = association_rules(freq_items, metric=\"confidence\", min_threshold=0.02, support_only=False) # 0.6 support_only=False\n",
    "pos_rules"
   ]
  },
  {
   "cell_type": "code",
   "execution_count": null,
   "id": "47036807",
   "metadata": {},
   "outputs": [
    {
     "data": {
      "text/html": [
       "<div>\n",
       "<style scoped>\n",
       "    .dataframe tbody tr th:only-of-type {\n",
       "        vertical-align: middle;\n",
       "    }\n",
       "\n",
       "    .dataframe tbody tr th {\n",
       "        vertical-align: top;\n",
       "    }\n",
       "\n",
       "    .dataframe thead th {\n",
       "        text-align: right;\n",
       "    }\n",
       "</style>\n",
       "<table border=\"1\" class=\"dataframe\">\n",
       "  <thead>\n",
       "    <tr style=\"text-align: right;\">\n",
       "      <th></th>\n",
       "      <th>antecedents</th>\n",
       "      <th>consequents</th>\n",
       "      <th>antecedent support</th>\n",
       "      <th>consequent support</th>\n",
       "      <th>support</th>\n",
       "      <th>confidence</th>\n",
       "      <th>lift</th>\n",
       "      <th>leverage</th>\n",
       "      <th>conviction</th>\n",
       "    </tr>\n",
       "  </thead>\n",
       "  <tbody>\n",
       "    <tr>\n",
       "      <th>0</th>\n",
       "      <td>(1.731&lt;Glucose&lt;=2.399)</td>\n",
       "      <td>(1)</td>\n",
       "      <td>0.237013</td>\n",
       "      <td>0.5</td>\n",
       "      <td>0.237013</td>\n",
       "      <td>1.000000</td>\n",
       "      <td>2.000000</td>\n",
       "      <td>0.118506</td>\n",
       "      <td>inf</td>\n",
       "    </tr>\n",
       "    <tr>\n",
       "      <th>1</th>\n",
       "      <td>(0.403&lt;BloodPressure&lt;=0.916)</td>\n",
       "      <td>(1)</td>\n",
       "      <td>0.198052</td>\n",
       "      <td>0.5</td>\n",
       "      <td>0.198052</td>\n",
       "      <td>1.000000</td>\n",
       "      <td>2.000000</td>\n",
       "      <td>0.099026</td>\n",
       "      <td>inf</td>\n",
       "    </tr>\n",
       "    <tr>\n",
       "      <th>2</th>\n",
       "      <td>(1.064&lt;Glucose&lt;=1.731)</td>\n",
       "      <td>(1)</td>\n",
       "      <td>0.172078</td>\n",
       "      <td>0.5</td>\n",
       "      <td>0.172078</td>\n",
       "      <td>1.000000</td>\n",
       "      <td>2.000000</td>\n",
       "      <td>0.086039</td>\n",
       "      <td>inf</td>\n",
       "    </tr>\n",
       "    <tr>\n",
       "      <th>4</th>\n",
       "      <td>(-0.111&lt;BloodPressure&lt;=0.403)</td>\n",
       "      <td>(1)</td>\n",
       "      <td>0.126623</td>\n",
       "      <td>0.5</td>\n",
       "      <td>0.126623</td>\n",
       "      <td>1.000000</td>\n",
       "      <td>2.000000</td>\n",
       "      <td>0.063312</td>\n",
       "      <td>inf</td>\n",
       "    </tr>\n",
       "    <tr>\n",
       "      <th>5</th>\n",
       "      <td>(0.916&lt;BloodPressure&lt;=1.429)</td>\n",
       "      <td>(1)</td>\n",
       "      <td>0.116883</td>\n",
       "      <td>0.5</td>\n",
       "      <td>0.116883</td>\n",
       "      <td>1.000000</td>\n",
       "      <td>2.000000</td>\n",
       "      <td>0.058442</td>\n",
       "      <td>inf</td>\n",
       "    </tr>\n",
       "    <tr>\n",
       "      <th>12</th>\n",
       "      <td>(1.687&lt;Insulin&lt;=2.381, 0.396&lt;Glucose&lt;=1.064)</td>\n",
       "      <td>(1)</td>\n",
       "      <td>0.045455</td>\n",
       "      <td>0.5</td>\n",
       "      <td>0.045455</td>\n",
       "      <td>1.000000</td>\n",
       "      <td>2.000000</td>\n",
       "      <td>0.022727</td>\n",
       "      <td>inf</td>\n",
       "    </tr>\n",
       "    <tr>\n",
       "      <th>13</th>\n",
       "      <td>(-0.627&lt;BloodPressure&lt;=-0.111)</td>\n",
       "      <td>(1)</td>\n",
       "      <td>0.042208</td>\n",
       "      <td>0.5</td>\n",
       "      <td>0.042208</td>\n",
       "      <td>1.000000</td>\n",
       "      <td>2.000000</td>\n",
       "      <td>0.021104</td>\n",
       "      <td>inf</td>\n",
       "    </tr>\n",
       "    <tr>\n",
       "      <th>14</th>\n",
       "      <td>(0.14&lt;Age&lt;=0.396)</td>\n",
       "      <td>(1)</td>\n",
       "      <td>0.032468</td>\n",
       "      <td>0.5</td>\n",
       "      <td>0.032468</td>\n",
       "      <td>1.000000</td>\n",
       "      <td>2.000000</td>\n",
       "      <td>0.016234</td>\n",
       "      <td>inf</td>\n",
       "    </tr>\n",
       "    <tr>\n",
       "      <th>16</th>\n",
       "      <td>(0.396&lt;Age&lt;=0.653)</td>\n",
       "      <td>(1)</td>\n",
       "      <td>0.025974</td>\n",
       "      <td>0.5</td>\n",
       "      <td>0.025974</td>\n",
       "      <td>1.000000</td>\n",
       "      <td>2.000000</td>\n",
       "      <td>0.012987</td>\n",
       "      <td>inf</td>\n",
       "    </tr>\n",
       "    <tr>\n",
       "      <th>21</th>\n",
       "      <td>(1.429&lt;BloodPressure&lt;=1.943)</td>\n",
       "      <td>(1)</td>\n",
       "      <td>0.016234</td>\n",
       "      <td>0.5</td>\n",
       "      <td>0.016234</td>\n",
       "      <td>1.000000</td>\n",
       "      <td>2.000000</td>\n",
       "      <td>0.008117</td>\n",
       "      <td>inf</td>\n",
       "    </tr>\n",
       "    <tr>\n",
       "      <th>37</th>\n",
       "      <td>(-0.372&lt;Age&lt;=-0.116, 1.687&lt;Insulin&lt;=2.381)</td>\n",
       "      <td>(1)</td>\n",
       "      <td>0.006494</td>\n",
       "      <td>0.5</td>\n",
       "      <td>0.006494</td>\n",
       "      <td>1.000000</td>\n",
       "      <td>2.000000</td>\n",
       "      <td>0.003247</td>\n",
       "      <td>inf</td>\n",
       "    </tr>\n",
       "    <tr>\n",
       "      <th>44</th>\n",
       "      <td>(1.687&lt;Insulin&lt;=2.381)</td>\n",
       "      <td>(1)</td>\n",
       "      <td>0.077922</td>\n",
       "      <td>0.5</td>\n",
       "      <td>0.071429</td>\n",
       "      <td>0.916667</td>\n",
       "      <td>1.833333</td>\n",
       "      <td>0.032468</td>\n",
       "      <td>6.000000</td>\n",
       "    </tr>\n",
       "    <tr>\n",
       "      <th>45</th>\n",
       "      <td>(0.396&lt;Glucose&lt;=1.064)</td>\n",
       "      <td>(1)</td>\n",
       "      <td>0.074675</td>\n",
       "      <td>0.5</td>\n",
       "      <td>0.068182</td>\n",
       "      <td>0.913043</td>\n",
       "      <td>1.826087</td>\n",
       "      <td>0.030844</td>\n",
       "      <td>5.750000</td>\n",
       "    </tr>\n",
       "    <tr>\n",
       "      <th>46</th>\n",
       "      <td>(-0.116&lt;Age&lt;=0.14)</td>\n",
       "      <td>(1)</td>\n",
       "      <td>0.087662</td>\n",
       "      <td>0.5</td>\n",
       "      <td>0.038961</td>\n",
       "      <td>0.444444</td>\n",
       "      <td>0.888889</td>\n",
       "      <td>-0.004870</td>\n",
       "      <td>0.900000</td>\n",
       "    </tr>\n",
       "    <tr>\n",
       "      <th>47</th>\n",
       "      <td>(0.992&lt;Insulin&lt;=1.687)</td>\n",
       "      <td>(1)</td>\n",
       "      <td>0.084416</td>\n",
       "      <td>0.5</td>\n",
       "      <td>0.019481</td>\n",
       "      <td>0.230769</td>\n",
       "      <td>0.461538</td>\n",
       "      <td>-0.022727</td>\n",
       "      <td>0.650000</td>\n",
       "    </tr>\n",
       "    <tr>\n",
       "      <th>48</th>\n",
       "      <td>(-0.372&lt;Age&lt;=-0.116)</td>\n",
       "      <td>(1)</td>\n",
       "      <td>0.142857</td>\n",
       "      <td>0.5</td>\n",
       "      <td>0.019481</td>\n",
       "      <td>0.136364</td>\n",
       "      <td>0.272727</td>\n",
       "      <td>-0.051948</td>\n",
       "      <td>0.578947</td>\n",
       "    </tr>\n",
       "  </tbody>\n",
       "</table>\n",
       "</div>"
      ],
      "text/plain": [
       "                                     antecedents consequents   \n",
       "0                         (1.731<Glucose<=2.399)         (1)  \\\n",
       "1                   (0.403<BloodPressure<=0.916)         (1)   \n",
       "2                         (1.064<Glucose<=1.731)         (1)   \n",
       "4                  (-0.111<BloodPressure<=0.403)         (1)   \n",
       "5                   (0.916<BloodPressure<=1.429)         (1)   \n",
       "12  (1.687<Insulin<=2.381, 0.396<Glucose<=1.064)         (1)   \n",
       "13                (-0.627<BloodPressure<=-0.111)         (1)   \n",
       "14                             (0.14<Age<=0.396)         (1)   \n",
       "16                            (0.396<Age<=0.653)         (1)   \n",
       "21                  (1.429<BloodPressure<=1.943)         (1)   \n",
       "37    (-0.372<Age<=-0.116, 1.687<Insulin<=2.381)         (1)   \n",
       "44                        (1.687<Insulin<=2.381)         (1)   \n",
       "45                        (0.396<Glucose<=1.064)         (1)   \n",
       "46                            (-0.116<Age<=0.14)         (1)   \n",
       "47                        (0.992<Insulin<=1.687)         (1)   \n",
       "48                          (-0.372<Age<=-0.116)         (1)   \n",
       "\n",
       "    antecedent support  consequent support   support  confidence      lift   \n",
       "0             0.237013                 0.5  0.237013    1.000000  2.000000  \\\n",
       "1             0.198052                 0.5  0.198052    1.000000  2.000000   \n",
       "2             0.172078                 0.5  0.172078    1.000000  2.000000   \n",
       "4             0.126623                 0.5  0.126623    1.000000  2.000000   \n",
       "5             0.116883                 0.5  0.116883    1.000000  2.000000   \n",
       "12            0.045455                 0.5  0.045455    1.000000  2.000000   \n",
       "13            0.042208                 0.5  0.042208    1.000000  2.000000   \n",
       "14            0.032468                 0.5  0.032468    1.000000  2.000000   \n",
       "16            0.025974                 0.5  0.025974    1.000000  2.000000   \n",
       "21            0.016234                 0.5  0.016234    1.000000  2.000000   \n",
       "37            0.006494                 0.5  0.006494    1.000000  2.000000   \n",
       "44            0.077922                 0.5  0.071429    0.916667  1.833333   \n",
       "45            0.074675                 0.5  0.068182    0.913043  1.826087   \n",
       "46            0.087662                 0.5  0.038961    0.444444  0.888889   \n",
       "47            0.084416                 0.5  0.019481    0.230769  0.461538   \n",
       "48            0.142857                 0.5  0.019481    0.136364  0.272727   \n",
       "\n",
       "    leverage  conviction  \n",
       "0   0.118506         inf  \n",
       "1   0.099026         inf  \n",
       "2   0.086039         inf  \n",
       "4   0.063312         inf  \n",
       "5   0.058442         inf  \n",
       "12  0.022727         inf  \n",
       "13  0.021104         inf  \n",
       "14  0.016234         inf  \n",
       "16  0.012987         inf  \n",
       "21  0.008117         inf  \n",
       "37  0.003247         inf  \n",
       "44  0.032468    6.000000  \n",
       "45  0.030844    5.750000  \n",
       "46 -0.004870    0.900000  \n",
       "47 -0.022727    0.650000  \n",
       "48 -0.051948    0.578947  "
      ]
     },
     "execution_count": 118,
     "metadata": {},
     "output_type": "execute_result"
    }
   ],
   "source": [
    "positive = all_rules[all_rules['consequents'] == {pos_label}]\n",
    "positive = positive[positive['confidence'] >= 0.1] # confidence == 1\n",
    "positive = positive.sort_values(['confidence', 'support'], ascending=[False, False])\n",
    "\n",
    "seen = set()\n",
    "dropped = set()\n",
    "indexes_to_drop = []\n",
    "\n",
    "positive = positive.reset_index(drop=True)\n",
    "for i in positive.index:\n",
    "    new_rule = positive.loc[[i]]['antecedents'].values[0]\n",
    "    \n",
    "    for seen_rule in seen:\n",
    "        if seen_rule.issubset(new_rule):#new_rule.issubset(seen_rule) or seen_rule.issubset(new_rule):\n",
    "            indexes_to_drop.append(i)\n",
    "            break\n",
    "    else:\n",
    "        seen.add(new_rule)\n",
    "\n",
    "positive.drop(positive.index[indexes_to_drop], inplace=True )\n",
    "positive"
   ]
  },
  {
   "cell_type": "code",
   "execution_count": null,
   "id": "1b83958b",
   "metadata": {},
   "outputs": [
    {
     "data": {
      "text/html": [
       "<div>\n",
       "<style scoped>\n",
       "    .dataframe tbody tr th:only-of-type {\n",
       "        vertical-align: middle;\n",
       "    }\n",
       "\n",
       "    .dataframe tbody tr th {\n",
       "        vertical-align: top;\n",
       "    }\n",
       "\n",
       "    .dataframe thead th {\n",
       "        text-align: right;\n",
       "    }\n",
       "</style>\n",
       "<table border=\"1\" class=\"dataframe\">\n",
       "  <thead>\n",
       "    <tr style=\"text-align: right;\">\n",
       "      <th></th>\n",
       "      <th>antecedents</th>\n",
       "      <th>consequents</th>\n",
       "      <th>antecedent support</th>\n",
       "      <th>consequent support</th>\n",
       "      <th>support</th>\n",
       "      <th>confidence</th>\n",
       "      <th>lift</th>\n",
       "      <th>leverage</th>\n",
       "      <th>conviction</th>\n",
       "    </tr>\n",
       "  </thead>\n",
       "  <tbody>\n",
       "    <tr>\n",
       "      <th>0</th>\n",
       "      <td>(-1.097&lt;Insulin&lt;=-0.398)</td>\n",
       "      <td>(0)</td>\n",
       "      <td>0.233766</td>\n",
       "      <td>0.5</td>\n",
       "      <td>0.233766</td>\n",
       "      <td>1.000000</td>\n",
       "      <td>2.000000</td>\n",
       "      <td>0.116883</td>\n",
       "      <td>inf</td>\n",
       "    </tr>\n",
       "    <tr>\n",
       "      <th>1</th>\n",
       "      <td>(-0.583&lt;BMI&lt;=-0.292)</td>\n",
       "      <td>(0)</td>\n",
       "      <td>0.220779</td>\n",
       "      <td>0.5</td>\n",
       "      <td>0.220779</td>\n",
       "      <td>1.000000</td>\n",
       "      <td>2.000000</td>\n",
       "      <td>0.110390</td>\n",
       "      <td>inf</td>\n",
       "    </tr>\n",
       "    <tr>\n",
       "      <th>2</th>\n",
       "      <td>(-1.074&lt;DiabetesPedigreeFunction&lt;=-0.864)</td>\n",
       "      <td>(0)</td>\n",
       "      <td>0.211039</td>\n",
       "      <td>0.5</td>\n",
       "      <td>0.211039</td>\n",
       "      <td>1.000000</td>\n",
       "      <td>2.000000</td>\n",
       "      <td>0.105519</td>\n",
       "      <td>inf</td>\n",
       "    </tr>\n",
       "    <tr>\n",
       "      <th>3</th>\n",
       "      <td>(-0.839&lt;SkinThickness&lt;=-0.543)</td>\n",
       "      <td>(0)</td>\n",
       "      <td>0.185065</td>\n",
       "      <td>0.5</td>\n",
       "      <td>0.185065</td>\n",
       "      <td>1.000000</td>\n",
       "      <td>2.000000</td>\n",
       "      <td>0.092532</td>\n",
       "      <td>inf</td>\n",
       "    </tr>\n",
       "    <tr>\n",
       "      <th>4</th>\n",
       "      <td>(-0.629&lt;Age&lt;=-0.372)</td>\n",
       "      <td>(0)</td>\n",
       "      <td>0.181818</td>\n",
       "      <td>0.5</td>\n",
       "      <td>0.181818</td>\n",
       "      <td>1.000000</td>\n",
       "      <td>2.000000</td>\n",
       "      <td>0.090909</td>\n",
       "      <td>inf</td>\n",
       "    </tr>\n",
       "    <tr>\n",
       "      <th>5</th>\n",
       "      <td>(-0.972&lt;Pregnancies&lt;=-0.778)</td>\n",
       "      <td>(0)</td>\n",
       "      <td>0.178571</td>\n",
       "      <td>0.5</td>\n",
       "      <td>0.178571</td>\n",
       "      <td>1.000000</td>\n",
       "      <td>2.000000</td>\n",
       "      <td>0.089286</td>\n",
       "      <td>inf</td>\n",
       "    </tr>\n",
       "    <tr>\n",
       "      <th>6</th>\n",
       "      <td>(-0.543&lt;SkinThickness&lt;=-0.249)</td>\n",
       "      <td>(0)</td>\n",
       "      <td>0.175325</td>\n",
       "      <td>0.5</td>\n",
       "      <td>0.175325</td>\n",
       "      <td>1.000000</td>\n",
       "      <td>2.000000</td>\n",
       "      <td>0.087662</td>\n",
       "      <td>inf</td>\n",
       "    </tr>\n",
       "    <tr>\n",
       "      <th>7</th>\n",
       "      <td>(-0.778&lt;Pregnancies&lt;=-0.583)</td>\n",
       "      <td>(0)</td>\n",
       "      <td>0.172078</td>\n",
       "      <td>0.5</td>\n",
       "      <td>0.172078</td>\n",
       "      <td>1.000000</td>\n",
       "      <td>2.000000</td>\n",
       "      <td>0.086039</td>\n",
       "      <td>inf</td>\n",
       "    </tr>\n",
       "    <tr>\n",
       "      <th>8</th>\n",
       "      <td>(-0.864&lt;DiabetesPedigreeFunction&lt;=-0.655)</td>\n",
       "      <td>(0)</td>\n",
       "      <td>0.165584</td>\n",
       "      <td>0.5</td>\n",
       "      <td>0.165584</td>\n",
       "      <td>1.000000</td>\n",
       "      <td>2.000000</td>\n",
       "      <td>0.082792</td>\n",
       "      <td>inf</td>\n",
       "    </tr>\n",
       "    <tr>\n",
       "      <th>9</th>\n",
       "      <td>(-0.292&lt;BMI&lt;=-0.00171)</td>\n",
       "      <td>(0)</td>\n",
       "      <td>0.162338</td>\n",
       "      <td>0.5</td>\n",
       "      <td>0.162338</td>\n",
       "      <td>1.000000</td>\n",
       "      <td>2.000000</td>\n",
       "      <td>0.081169</td>\n",
       "      <td>inf</td>\n",
       "    </tr>\n",
       "    <tr>\n",
       "      <th>17</th>\n",
       "      <td>(-0.249&lt;SkinThickness&lt;=0.0455)</td>\n",
       "      <td>(0)</td>\n",
       "      <td>0.116883</td>\n",
       "      <td>0.5</td>\n",
       "      <td>0.116883</td>\n",
       "      <td>1.000000</td>\n",
       "      <td>2.000000</td>\n",
       "      <td>0.058442</td>\n",
       "      <td>inf</td>\n",
       "    </tr>\n",
       "    <tr>\n",
       "      <th>19</th>\n",
       "      <td>(-1.167&lt;Pregnancies&lt;=-0.972)</td>\n",
       "      <td>(0)</td>\n",
       "      <td>0.110390</td>\n",
       "      <td>0.5</td>\n",
       "      <td>0.110390</td>\n",
       "      <td>1.000000</td>\n",
       "      <td>2.000000</td>\n",
       "      <td>0.055195</td>\n",
       "      <td>inf</td>\n",
       "    </tr>\n",
       "    <tr>\n",
       "      <th>26</th>\n",
       "      <td>(-0.00171&lt;BMI&lt;=0.289)</td>\n",
       "      <td>(0)</td>\n",
       "      <td>0.087662</td>\n",
       "      <td>0.5</td>\n",
       "      <td>0.087662</td>\n",
       "      <td>1.000000</td>\n",
       "      <td>2.000000</td>\n",
       "      <td>0.043831</td>\n",
       "      <td>inf</td>\n",
       "    </tr>\n",
       "    <tr>\n",
       "      <th>32</th>\n",
       "      <td>(-1.283&lt;DiabetesPedigreeFunction&lt;=-1.074)</td>\n",
       "      <td>(0)</td>\n",
       "      <td>0.071429</td>\n",
       "      <td>0.5</td>\n",
       "      <td>0.071429</td>\n",
       "      <td>1.000000</td>\n",
       "      <td>2.000000</td>\n",
       "      <td>0.035714</td>\n",
       "      <td>inf</td>\n",
       "    </tr>\n",
       "    <tr>\n",
       "      <th>51</th>\n",
       "      <td>(0.297&lt;Insulin&lt;=0.992)</td>\n",
       "      <td>(0)</td>\n",
       "      <td>0.051948</td>\n",
       "      <td>0.5</td>\n",
       "      <td>0.051948</td>\n",
       "      <td>1.000000</td>\n",
       "      <td>2.000000</td>\n",
       "      <td>0.025974</td>\n",
       "      <td>inf</td>\n",
       "    </tr>\n",
       "    <tr>\n",
       "      <th>60</th>\n",
       "      <td>(-0.655&lt;DiabetesPedigreeFunction&lt;=-0.445)</td>\n",
       "      <td>(0)</td>\n",
       "      <td>0.042208</td>\n",
       "      <td>0.5</td>\n",
       "      <td>0.042208</td>\n",
       "      <td>1.000000</td>\n",
       "      <td>2.000000</td>\n",
       "      <td>0.021104</td>\n",
       "      <td>inf</td>\n",
       "    </tr>\n",
       "    <tr>\n",
       "      <th>108</th>\n",
       "      <td>(-0.583&lt;Pregnancies&lt;=-0.388)</td>\n",
       "      <td>(0)</td>\n",
       "      <td>0.022727</td>\n",
       "      <td>0.5</td>\n",
       "      <td>0.022727</td>\n",
       "      <td>1.000000</td>\n",
       "      <td>2.000000</td>\n",
       "      <td>0.011364</td>\n",
       "      <td>inf</td>\n",
       "    </tr>\n",
       "    <tr>\n",
       "      <th>121</th>\n",
       "      <td>(0.0455&lt;SkinThickness&lt;=0.34)</td>\n",
       "      <td>(0)</td>\n",
       "      <td>0.016234</td>\n",
       "      <td>0.5</td>\n",
       "      <td>0.016234</td>\n",
       "      <td>1.000000</td>\n",
       "      <td>2.000000</td>\n",
       "      <td>0.008117</td>\n",
       "      <td>inf</td>\n",
       "    </tr>\n",
       "    <tr>\n",
       "      <th>131</th>\n",
       "      <td>(-1.363&lt;Pregnancies&lt;=-1.167)</td>\n",
       "      <td>(0)</td>\n",
       "      <td>0.012987</td>\n",
       "      <td>0.5</td>\n",
       "      <td>0.012987</td>\n",
       "      <td>1.000000</td>\n",
       "      <td>2.000000</td>\n",
       "      <td>0.006494</td>\n",
       "      <td>inf</td>\n",
       "    </tr>\n",
       "    <tr>\n",
       "      <th>136</th>\n",
       "      <td>(0.992&lt;Insulin&lt;=1.687, -0.372&lt;Age&lt;=-0.116)</td>\n",
       "      <td>(0)</td>\n",
       "      <td>0.012987</td>\n",
       "      <td>0.5</td>\n",
       "      <td>0.012987</td>\n",
       "      <td>1.000000</td>\n",
       "      <td>2.000000</td>\n",
       "      <td>0.006494</td>\n",
       "      <td>inf</td>\n",
       "    </tr>\n",
       "    <tr>\n",
       "      <th>141</th>\n",
       "      <td>(-1.493&lt;DiabetesPedigreeFunction&lt;=-1.283)</td>\n",
       "      <td>(0)</td>\n",
       "      <td>0.009740</td>\n",
       "      <td>0.5</td>\n",
       "      <td>0.009740</td>\n",
       "      <td>1.000000</td>\n",
       "      <td>2.000000</td>\n",
       "      <td>0.004870</td>\n",
       "      <td>inf</td>\n",
       "    </tr>\n",
       "    <tr>\n",
       "      <th>142</th>\n",
       "      <td>(-0.875&lt;BMI&lt;=-0.583)</td>\n",
       "      <td>(0)</td>\n",
       "      <td>0.009740</td>\n",
       "      <td>0.5</td>\n",
       "      <td>0.009740</td>\n",
       "      <td>1.000000</td>\n",
       "      <td>2.000000</td>\n",
       "      <td>0.004870</td>\n",
       "      <td>inf</td>\n",
       "    </tr>\n",
       "    <tr>\n",
       "      <th>154</th>\n",
       "      <td>(-0.942&lt;Glucose&lt;=-0.271)</td>\n",
       "      <td>(0)</td>\n",
       "      <td>0.006494</td>\n",
       "      <td>0.5</td>\n",
       "      <td>0.006494</td>\n",
       "      <td>1.000000</td>\n",
       "      <td>2.000000</td>\n",
       "      <td>0.003247</td>\n",
       "      <td>inf</td>\n",
       "    </tr>\n",
       "    <tr>\n",
       "      <th>155</th>\n",
       "      <td>(-0.271&lt;Glucose&lt;=0.396)</td>\n",
       "      <td>(0)</td>\n",
       "      <td>0.006494</td>\n",
       "      <td>0.5</td>\n",
       "      <td>0.006494</td>\n",
       "      <td>1.000000</td>\n",
       "      <td>2.000000</td>\n",
       "      <td>0.003247</td>\n",
       "      <td>inf</td>\n",
       "    </tr>\n",
       "    <tr>\n",
       "      <th>191</th>\n",
       "      <td>(-0.372&lt;Age&lt;=-0.116)</td>\n",
       "      <td>(0)</td>\n",
       "      <td>0.142857</td>\n",
       "      <td>0.5</td>\n",
       "      <td>0.123377</td>\n",
       "      <td>0.863636</td>\n",
       "      <td>1.727273</td>\n",
       "      <td>0.051948</td>\n",
       "      <td>3.666667</td>\n",
       "    </tr>\n",
       "    <tr>\n",
       "      <th>192</th>\n",
       "      <td>(0.289&lt;BMI&lt;=0.58)</td>\n",
       "      <td>(0)</td>\n",
       "      <td>0.019481</td>\n",
       "      <td>0.5</td>\n",
       "      <td>0.016234</td>\n",
       "      <td>0.833333</td>\n",
       "      <td>1.666667</td>\n",
       "      <td>0.006494</td>\n",
       "      <td>3.000000</td>\n",
       "    </tr>\n",
       "    <tr>\n",
       "      <th>193</th>\n",
       "      <td>(0.992&lt;Insulin&lt;=1.687)</td>\n",
       "      <td>(0)</td>\n",
       "      <td>0.084416</td>\n",
       "      <td>0.5</td>\n",
       "      <td>0.064935</td>\n",
       "      <td>0.769231</td>\n",
       "      <td>1.538462</td>\n",
       "      <td>0.022727</td>\n",
       "      <td>2.166667</td>\n",
       "    </tr>\n",
       "    <tr>\n",
       "      <th>194</th>\n",
       "      <td>(-0.398&lt;Insulin&lt;=0.297)</td>\n",
       "      <td>(0)</td>\n",
       "      <td>0.009740</td>\n",
       "      <td>0.5</td>\n",
       "      <td>0.006494</td>\n",
       "      <td>0.666667</td>\n",
       "      <td>1.333333</td>\n",
       "      <td>0.001623</td>\n",
       "      <td>1.500000</td>\n",
       "    </tr>\n",
       "    <tr>\n",
       "      <th>195</th>\n",
       "      <td>(-0.116&lt;Age&lt;=0.14)</td>\n",
       "      <td>(0)</td>\n",
       "      <td>0.087662</td>\n",
       "      <td>0.5</td>\n",
       "      <td>0.048701</td>\n",
       "      <td>0.555556</td>\n",
       "      <td>1.111111</td>\n",
       "      <td>0.004870</td>\n",
       "      <td>1.125000</td>\n",
       "    </tr>\n",
       "  </tbody>\n",
       "</table>\n",
       "</div>"
      ],
      "text/plain": [
       "                                    antecedents consequents   \n",
       "0                      (-1.097<Insulin<=-0.398)         (0)  \\\n",
       "1                          (-0.583<BMI<=-0.292)         (0)   \n",
       "2     (-1.074<DiabetesPedigreeFunction<=-0.864)         (0)   \n",
       "3                (-0.839<SkinThickness<=-0.543)         (0)   \n",
       "4                          (-0.629<Age<=-0.372)         (0)   \n",
       "5                  (-0.972<Pregnancies<=-0.778)         (0)   \n",
       "6                (-0.543<SkinThickness<=-0.249)         (0)   \n",
       "7                  (-0.778<Pregnancies<=-0.583)         (0)   \n",
       "8     (-0.864<DiabetesPedigreeFunction<=-0.655)         (0)   \n",
       "9                        (-0.292<BMI<=-0.00171)         (0)   \n",
       "17               (-0.249<SkinThickness<=0.0455)         (0)   \n",
       "19                 (-1.167<Pregnancies<=-0.972)         (0)   \n",
       "26                        (-0.00171<BMI<=0.289)         (0)   \n",
       "32    (-1.283<DiabetesPedigreeFunction<=-1.074)         (0)   \n",
       "51                       (0.297<Insulin<=0.992)         (0)   \n",
       "60    (-0.655<DiabetesPedigreeFunction<=-0.445)         (0)   \n",
       "108                (-0.583<Pregnancies<=-0.388)         (0)   \n",
       "121                (0.0455<SkinThickness<=0.34)         (0)   \n",
       "131                (-1.363<Pregnancies<=-1.167)         (0)   \n",
       "136  (0.992<Insulin<=1.687, -0.372<Age<=-0.116)         (0)   \n",
       "141   (-1.493<DiabetesPedigreeFunction<=-1.283)         (0)   \n",
       "142                        (-0.875<BMI<=-0.583)         (0)   \n",
       "154                    (-0.942<Glucose<=-0.271)         (0)   \n",
       "155                     (-0.271<Glucose<=0.396)         (0)   \n",
       "191                        (-0.372<Age<=-0.116)         (0)   \n",
       "192                           (0.289<BMI<=0.58)         (0)   \n",
       "193                      (0.992<Insulin<=1.687)         (0)   \n",
       "194                     (-0.398<Insulin<=0.297)         (0)   \n",
       "195                          (-0.116<Age<=0.14)         (0)   \n",
       "\n",
       "     antecedent support  consequent support   support  confidence      lift   \n",
       "0              0.233766                 0.5  0.233766    1.000000  2.000000  \\\n",
       "1              0.220779                 0.5  0.220779    1.000000  2.000000   \n",
       "2              0.211039                 0.5  0.211039    1.000000  2.000000   \n",
       "3              0.185065                 0.5  0.185065    1.000000  2.000000   \n",
       "4              0.181818                 0.5  0.181818    1.000000  2.000000   \n",
       "5              0.178571                 0.5  0.178571    1.000000  2.000000   \n",
       "6              0.175325                 0.5  0.175325    1.000000  2.000000   \n",
       "7              0.172078                 0.5  0.172078    1.000000  2.000000   \n",
       "8              0.165584                 0.5  0.165584    1.000000  2.000000   \n",
       "9              0.162338                 0.5  0.162338    1.000000  2.000000   \n",
       "17             0.116883                 0.5  0.116883    1.000000  2.000000   \n",
       "19             0.110390                 0.5  0.110390    1.000000  2.000000   \n",
       "26             0.087662                 0.5  0.087662    1.000000  2.000000   \n",
       "32             0.071429                 0.5  0.071429    1.000000  2.000000   \n",
       "51             0.051948                 0.5  0.051948    1.000000  2.000000   \n",
       "60             0.042208                 0.5  0.042208    1.000000  2.000000   \n",
       "108            0.022727                 0.5  0.022727    1.000000  2.000000   \n",
       "121            0.016234                 0.5  0.016234    1.000000  2.000000   \n",
       "131            0.012987                 0.5  0.012987    1.000000  2.000000   \n",
       "136            0.012987                 0.5  0.012987    1.000000  2.000000   \n",
       "141            0.009740                 0.5  0.009740    1.000000  2.000000   \n",
       "142            0.009740                 0.5  0.009740    1.000000  2.000000   \n",
       "154            0.006494                 0.5  0.006494    1.000000  2.000000   \n",
       "155            0.006494                 0.5  0.006494    1.000000  2.000000   \n",
       "191            0.142857                 0.5  0.123377    0.863636  1.727273   \n",
       "192            0.019481                 0.5  0.016234    0.833333  1.666667   \n",
       "193            0.084416                 0.5  0.064935    0.769231  1.538462   \n",
       "194            0.009740                 0.5  0.006494    0.666667  1.333333   \n",
       "195            0.087662                 0.5  0.048701    0.555556  1.111111   \n",
       "\n",
       "     leverage  conviction  \n",
       "0    0.116883         inf  \n",
       "1    0.110390         inf  \n",
       "2    0.105519         inf  \n",
       "3    0.092532         inf  \n",
       "4    0.090909         inf  \n",
       "5    0.089286         inf  \n",
       "6    0.087662         inf  \n",
       "7    0.086039         inf  \n",
       "8    0.082792         inf  \n",
       "9    0.081169         inf  \n",
       "17   0.058442         inf  \n",
       "19   0.055195         inf  \n",
       "26   0.043831         inf  \n",
       "32   0.035714         inf  \n",
       "51   0.025974         inf  \n",
       "60   0.021104         inf  \n",
       "108  0.011364         inf  \n",
       "121  0.008117         inf  \n",
       "131  0.006494         inf  \n",
       "136  0.006494         inf  \n",
       "141  0.004870         inf  \n",
       "142  0.004870         inf  \n",
       "154  0.003247         inf  \n",
       "155  0.003247         inf  \n",
       "191  0.051948    3.666667  \n",
       "192  0.006494    3.000000  \n",
       "193  0.022727    2.166667  \n",
       "194  0.001623    1.500000  \n",
       "195  0.004870    1.125000  "
      ]
     },
     "execution_count": 119,
     "metadata": {},
     "output_type": "execute_result"
    }
   ],
   "source": [
    "negative = all_rules[all_rules['consequents'] == {neg_label}]\n",
    "negative = negative[negative['confidence'] >= 0.1] # confidence == 1\n",
    "\n",
    "negative = negative.sort_values(['confidence', 'support'], ascending=[False, False])\n",
    "\n",
    "seen = set()\n",
    "dropped = set()\n",
    "indexes_to_drop = []\n",
    "\n",
    "negative = negative.reset_index(drop=True)\n",
    "for i in negative.index:\n",
    "    new_rule = negative.loc[[i]]['antecedents'].values[0]\n",
    "    \n",
    "    for seen_rule in seen:\n",
    "        if seen_rule.issubset(new_rule):#new_rule.issubset(seen_rule) or seen_rule.issubset(new_rule):\n",
    "            indexes_to_drop.append(i)\n",
    "            break\n",
    "    else:\n",
    "        seen.add(new_rule)\n",
    "\n",
    "negative.drop(negative.index[indexes_to_drop], inplace=True )\n",
    "negative"
   ]
  },
  {
   "cell_type": "code",
   "execution_count": null,
   "id": "c6f57889",
   "metadata": {},
   "outputs": [
    {
     "data": {
      "text/html": [
       "<div>\n",
       "<style scoped>\n",
       "    .dataframe tbody tr th:only-of-type {\n",
       "        vertical-align: middle;\n",
       "    }\n",
       "\n",
       "    .dataframe tbody tr th {\n",
       "        vertical-align: top;\n",
       "    }\n",
       "\n",
       "    .dataframe thead th {\n",
       "        text-align: right;\n",
       "    }\n",
       "</style>\n",
       "<table border=\"1\" class=\"dataframe\">\n",
       "  <thead>\n",
       "    <tr style=\"text-align: right;\">\n",
       "      <th></th>\n",
       "      <th>itemset</th>\n",
       "      <th>label</th>\n",
       "      <th>num-items</th>\n",
       "      <th>support</th>\n",
       "      <th>confidence</th>\n",
       "      <th>antecedent support</th>\n",
       "    </tr>\n",
       "  </thead>\n",
       "  <tbody>\n",
       "    <tr>\n",
       "      <th>0</th>\n",
       "      <td>(1.731&lt;Glucose&lt;=2.399)</td>\n",
       "      <td>1</td>\n",
       "      <td>1</td>\n",
       "      <td>0.237013</td>\n",
       "      <td>1.000000</td>\n",
       "      <td>0.237013</td>\n",
       "    </tr>\n",
       "    <tr>\n",
       "      <th>16</th>\n",
       "      <td>(-1.097&lt;Insulin&lt;=-0.398)</td>\n",
       "      <td>0</td>\n",
       "      <td>1</td>\n",
       "      <td>0.233766</td>\n",
       "      <td>1.000000</td>\n",
       "      <td>0.233766</td>\n",
       "    </tr>\n",
       "    <tr>\n",
       "      <th>17</th>\n",
       "      <td>(-0.583&lt;BMI&lt;=-0.292)</td>\n",
       "      <td>0</td>\n",
       "      <td>1</td>\n",
       "      <td>0.220779</td>\n",
       "      <td>1.000000</td>\n",
       "      <td>0.220779</td>\n",
       "    </tr>\n",
       "    <tr>\n",
       "      <th>18</th>\n",
       "      <td>(-1.074&lt;DiabetesPedigreeFunction&lt;=-0.864)</td>\n",
       "      <td>0</td>\n",
       "      <td>1</td>\n",
       "      <td>0.211039</td>\n",
       "      <td>1.000000</td>\n",
       "      <td>0.211039</td>\n",
       "    </tr>\n",
       "    <tr>\n",
       "      <th>1</th>\n",
       "      <td>(0.403&lt;BloodPressure&lt;=0.916)</td>\n",
       "      <td>1</td>\n",
       "      <td>1</td>\n",
       "      <td>0.198052</td>\n",
       "      <td>1.000000</td>\n",
       "      <td>0.198052</td>\n",
       "    </tr>\n",
       "    <tr>\n",
       "      <th>19</th>\n",
       "      <td>(-0.839&lt;SkinThickness&lt;=-0.543)</td>\n",
       "      <td>0</td>\n",
       "      <td>1</td>\n",
       "      <td>0.185065</td>\n",
       "      <td>1.000000</td>\n",
       "      <td>0.185065</td>\n",
       "    </tr>\n",
       "    <tr>\n",
       "      <th>20</th>\n",
       "      <td>(-0.629&lt;Age&lt;=-0.372)</td>\n",
       "      <td>0</td>\n",
       "      <td>1</td>\n",
       "      <td>0.181818</td>\n",
       "      <td>1.000000</td>\n",
       "      <td>0.181818</td>\n",
       "    </tr>\n",
       "    <tr>\n",
       "      <th>21</th>\n",
       "      <td>(-0.972&lt;Pregnancies&lt;=-0.778)</td>\n",
       "      <td>0</td>\n",
       "      <td>1</td>\n",
       "      <td>0.178571</td>\n",
       "      <td>1.000000</td>\n",
       "      <td>0.178571</td>\n",
       "    </tr>\n",
       "    <tr>\n",
       "      <th>22</th>\n",
       "      <td>(-0.543&lt;SkinThickness&lt;=-0.249)</td>\n",
       "      <td>0</td>\n",
       "      <td>1</td>\n",
       "      <td>0.175325</td>\n",
       "      <td>1.000000</td>\n",
       "      <td>0.175325</td>\n",
       "    </tr>\n",
       "    <tr>\n",
       "      <th>2</th>\n",
       "      <td>(1.064&lt;Glucose&lt;=1.731)</td>\n",
       "      <td>1</td>\n",
       "      <td>1</td>\n",
       "      <td>0.172078</td>\n",
       "      <td>1.000000</td>\n",
       "      <td>0.172078</td>\n",
       "    </tr>\n",
       "    <tr>\n",
       "      <th>23</th>\n",
       "      <td>(-0.778&lt;Pregnancies&lt;=-0.583)</td>\n",
       "      <td>0</td>\n",
       "      <td>1</td>\n",
       "      <td>0.172078</td>\n",
       "      <td>1.000000</td>\n",
       "      <td>0.172078</td>\n",
       "    </tr>\n",
       "    <tr>\n",
       "      <th>24</th>\n",
       "      <td>(-0.864&lt;DiabetesPedigreeFunction&lt;=-0.655)</td>\n",
       "      <td>0</td>\n",
       "      <td>1</td>\n",
       "      <td>0.165584</td>\n",
       "      <td>1.000000</td>\n",
       "      <td>0.165584</td>\n",
       "    </tr>\n",
       "    <tr>\n",
       "      <th>25</th>\n",
       "      <td>(-0.292&lt;BMI&lt;=-0.00171)</td>\n",
       "      <td>0</td>\n",
       "      <td>1</td>\n",
       "      <td>0.162338</td>\n",
       "      <td>1.000000</td>\n",
       "      <td>0.162338</td>\n",
       "    </tr>\n",
       "    <tr>\n",
       "      <th>3</th>\n",
       "      <td>(-0.111&lt;BloodPressure&lt;=0.403)</td>\n",
       "      <td>1</td>\n",
       "      <td>1</td>\n",
       "      <td>0.126623</td>\n",
       "      <td>1.000000</td>\n",
       "      <td>0.126623</td>\n",
       "    </tr>\n",
       "    <tr>\n",
       "      <th>40</th>\n",
       "      <td>(-0.372&lt;Age&lt;=-0.116)</td>\n",
       "      <td>0</td>\n",
       "      <td>1</td>\n",
       "      <td>0.123377</td>\n",
       "      <td>0.863636</td>\n",
       "      <td>0.142857</td>\n",
       "    </tr>\n",
       "    <tr>\n",
       "      <th>4</th>\n",
       "      <td>(0.916&lt;BloodPressure&lt;=1.429)</td>\n",
       "      <td>1</td>\n",
       "      <td>1</td>\n",
       "      <td>0.116883</td>\n",
       "      <td>1.000000</td>\n",
       "      <td>0.116883</td>\n",
       "    </tr>\n",
       "    <tr>\n",
       "      <th>26</th>\n",
       "      <td>(-0.249&lt;SkinThickness&lt;=0.0455)</td>\n",
       "      <td>0</td>\n",
       "      <td>1</td>\n",
       "      <td>0.116883</td>\n",
       "      <td>1.000000</td>\n",
       "      <td>0.116883</td>\n",
       "    </tr>\n",
       "    <tr>\n",
       "      <th>27</th>\n",
       "      <td>(-1.167&lt;Pregnancies&lt;=-0.972)</td>\n",
       "      <td>0</td>\n",
       "      <td>1</td>\n",
       "      <td>0.110390</td>\n",
       "      <td>1.000000</td>\n",
       "      <td>0.110390</td>\n",
       "    </tr>\n",
       "    <tr>\n",
       "      <th>28</th>\n",
       "      <td>(-0.00171&lt;BMI&lt;=0.289)</td>\n",
       "      <td>0</td>\n",
       "      <td>1</td>\n",
       "      <td>0.087662</td>\n",
       "      <td>1.000000</td>\n",
       "      <td>0.087662</td>\n",
       "    </tr>\n",
       "    <tr>\n",
       "      <th>29</th>\n",
       "      <td>(-1.283&lt;DiabetesPedigreeFunction&lt;=-1.074)</td>\n",
       "      <td>0</td>\n",
       "      <td>1</td>\n",
       "      <td>0.071429</td>\n",
       "      <td>1.000000</td>\n",
       "      <td>0.071429</td>\n",
       "    </tr>\n",
       "    <tr>\n",
       "      <th>11</th>\n",
       "      <td>(1.687&lt;Insulin&lt;=2.381)</td>\n",
       "      <td>1</td>\n",
       "      <td>1</td>\n",
       "      <td>0.071429</td>\n",
       "      <td>0.916667</td>\n",
       "      <td>0.077922</td>\n",
       "    </tr>\n",
       "    <tr>\n",
       "      <th>12</th>\n",
       "      <td>(0.396&lt;Glucose&lt;=1.064)</td>\n",
       "      <td>1</td>\n",
       "      <td>1</td>\n",
       "      <td>0.068182</td>\n",
       "      <td>0.913043</td>\n",
       "      <td>0.074675</td>\n",
       "    </tr>\n",
       "    <tr>\n",
       "      <th>42</th>\n",
       "      <td>(0.992&lt;Insulin&lt;=1.687)</td>\n",
       "      <td>0</td>\n",
       "      <td>1</td>\n",
       "      <td>0.064935</td>\n",
       "      <td>0.769231</td>\n",
       "      <td>0.084416</td>\n",
       "    </tr>\n",
       "    <tr>\n",
       "      <th>30</th>\n",
       "      <td>(0.297&lt;Insulin&lt;=0.992)</td>\n",
       "      <td>0</td>\n",
       "      <td>1</td>\n",
       "      <td>0.051948</td>\n",
       "      <td>1.000000</td>\n",
       "      <td>0.051948</td>\n",
       "    </tr>\n",
       "    <tr>\n",
       "      <th>44</th>\n",
       "      <td>(-0.116&lt;Age&lt;=0.14)</td>\n",
       "      <td>0</td>\n",
       "      <td>1</td>\n",
       "      <td>0.048701</td>\n",
       "      <td>0.555556</td>\n",
       "      <td>0.087662</td>\n",
       "    </tr>\n",
       "    <tr>\n",
       "      <th>5</th>\n",
       "      <td>(1.687&lt;Insulin&lt;=2.381, 0.396&lt;Glucose&lt;=1.064)</td>\n",
       "      <td>1</td>\n",
       "      <td>2</td>\n",
       "      <td>0.045455</td>\n",
       "      <td>1.000000</td>\n",
       "      <td>0.045455</td>\n",
       "    </tr>\n",
       "    <tr>\n",
       "      <th>6</th>\n",
       "      <td>(-0.627&lt;BloodPressure&lt;=-0.111)</td>\n",
       "      <td>1</td>\n",
       "      <td>1</td>\n",
       "      <td>0.042208</td>\n",
       "      <td>1.000000</td>\n",
       "      <td>0.042208</td>\n",
       "    </tr>\n",
       "    <tr>\n",
       "      <th>31</th>\n",
       "      <td>(-0.655&lt;DiabetesPedigreeFunction&lt;=-0.445)</td>\n",
       "      <td>0</td>\n",
       "      <td>1</td>\n",
       "      <td>0.042208</td>\n",
       "      <td>1.000000</td>\n",
       "      <td>0.042208</td>\n",
       "    </tr>\n",
       "    <tr>\n",
       "      <th>13</th>\n",
       "      <td>(-0.116&lt;Age&lt;=0.14)</td>\n",
       "      <td>1</td>\n",
       "      <td>1</td>\n",
       "      <td>0.038961</td>\n",
       "      <td>0.444444</td>\n",
       "      <td>0.087662</td>\n",
       "    </tr>\n",
       "    <tr>\n",
       "      <th>7</th>\n",
       "      <td>(0.14&lt;Age&lt;=0.396)</td>\n",
       "      <td>1</td>\n",
       "      <td>1</td>\n",
       "      <td>0.032468</td>\n",
       "      <td>1.000000</td>\n",
       "      <td>0.032468</td>\n",
       "    </tr>\n",
       "    <tr>\n",
       "      <th>8</th>\n",
       "      <td>(0.396&lt;Age&lt;=0.653)</td>\n",
       "      <td>1</td>\n",
       "      <td>1</td>\n",
       "      <td>0.025974</td>\n",
       "      <td>1.000000</td>\n",
       "      <td>0.025974</td>\n",
       "    </tr>\n",
       "    <tr>\n",
       "      <th>32</th>\n",
       "      <td>(-0.583&lt;Pregnancies&lt;=-0.388)</td>\n",
       "      <td>0</td>\n",
       "      <td>1</td>\n",
       "      <td>0.022727</td>\n",
       "      <td>1.000000</td>\n",
       "      <td>0.022727</td>\n",
       "    </tr>\n",
       "    <tr>\n",
       "      <th>14</th>\n",
       "      <td>(0.992&lt;Insulin&lt;=1.687)</td>\n",
       "      <td>1</td>\n",
       "      <td>1</td>\n",
       "      <td>0.019481</td>\n",
       "      <td>0.230769</td>\n",
       "      <td>0.084416</td>\n",
       "    </tr>\n",
       "    <tr>\n",
       "      <th>15</th>\n",
       "      <td>(-0.372&lt;Age&lt;=-0.116)</td>\n",
       "      <td>1</td>\n",
       "      <td>1</td>\n",
       "      <td>0.019481</td>\n",
       "      <td>0.136364</td>\n",
       "      <td>0.142857</td>\n",
       "    </tr>\n",
       "    <tr>\n",
       "      <th>9</th>\n",
       "      <td>(1.429&lt;BloodPressure&lt;=1.943)</td>\n",
       "      <td>1</td>\n",
       "      <td>1</td>\n",
       "      <td>0.016234</td>\n",
       "      <td>1.000000</td>\n",
       "      <td>0.016234</td>\n",
       "    </tr>\n",
       "    <tr>\n",
       "      <th>33</th>\n",
       "      <td>(0.0455&lt;SkinThickness&lt;=0.34)</td>\n",
       "      <td>0</td>\n",
       "      <td>1</td>\n",
       "      <td>0.016234</td>\n",
       "      <td>1.000000</td>\n",
       "      <td>0.016234</td>\n",
       "    </tr>\n",
       "    <tr>\n",
       "      <th>41</th>\n",
       "      <td>(0.289&lt;BMI&lt;=0.58)</td>\n",
       "      <td>0</td>\n",
       "      <td>1</td>\n",
       "      <td>0.016234</td>\n",
       "      <td>0.833333</td>\n",
       "      <td>0.019481</td>\n",
       "    </tr>\n",
       "    <tr>\n",
       "      <th>35</th>\n",
       "      <td>(0.992&lt;Insulin&lt;=1.687, -0.372&lt;Age&lt;=-0.116)</td>\n",
       "      <td>0</td>\n",
       "      <td>2</td>\n",
       "      <td>0.012987</td>\n",
       "      <td>1.000000</td>\n",
       "      <td>0.012987</td>\n",
       "    </tr>\n",
       "    <tr>\n",
       "      <th>34</th>\n",
       "      <td>(-1.363&lt;Pregnancies&lt;=-1.167)</td>\n",
       "      <td>0</td>\n",
       "      <td>1</td>\n",
       "      <td>0.012987</td>\n",
       "      <td>1.000000</td>\n",
       "      <td>0.012987</td>\n",
       "    </tr>\n",
       "    <tr>\n",
       "      <th>36</th>\n",
       "      <td>(-1.493&lt;DiabetesPedigreeFunction&lt;=-1.283)</td>\n",
       "      <td>0</td>\n",
       "      <td>1</td>\n",
       "      <td>0.009740</td>\n",
       "      <td>1.000000</td>\n",
       "      <td>0.009740</td>\n",
       "    </tr>\n",
       "    <tr>\n",
       "      <th>37</th>\n",
       "      <td>(-0.875&lt;BMI&lt;=-0.583)</td>\n",
       "      <td>0</td>\n",
       "      <td>1</td>\n",
       "      <td>0.009740</td>\n",
       "      <td>1.000000</td>\n",
       "      <td>0.009740</td>\n",
       "    </tr>\n",
       "    <tr>\n",
       "      <th>10</th>\n",
       "      <td>(-0.372&lt;Age&lt;=-0.116, 1.687&lt;Insulin&lt;=2.381)</td>\n",
       "      <td>1</td>\n",
       "      <td>2</td>\n",
       "      <td>0.006494</td>\n",
       "      <td>1.000000</td>\n",
       "      <td>0.006494</td>\n",
       "    </tr>\n",
       "    <tr>\n",
       "      <th>38</th>\n",
       "      <td>(-0.942&lt;Glucose&lt;=-0.271)</td>\n",
       "      <td>0</td>\n",
       "      <td>1</td>\n",
       "      <td>0.006494</td>\n",
       "      <td>1.000000</td>\n",
       "      <td>0.006494</td>\n",
       "    </tr>\n",
       "    <tr>\n",
       "      <th>39</th>\n",
       "      <td>(-0.271&lt;Glucose&lt;=0.396)</td>\n",
       "      <td>0</td>\n",
       "      <td>1</td>\n",
       "      <td>0.006494</td>\n",
       "      <td>1.000000</td>\n",
       "      <td>0.006494</td>\n",
       "    </tr>\n",
       "    <tr>\n",
       "      <th>43</th>\n",
       "      <td>(-0.398&lt;Insulin&lt;=0.297)</td>\n",
       "      <td>0</td>\n",
       "      <td>1</td>\n",
       "      <td>0.006494</td>\n",
       "      <td>0.666667</td>\n",
       "      <td>0.009740</td>\n",
       "    </tr>\n",
       "  </tbody>\n",
       "</table>\n",
       "</div>"
      ],
      "text/plain": [
       "                                         itemset label  num-items   support   \n",
       "0                         (1.731<Glucose<=2.399)     1          1  0.237013  \\\n",
       "16                      (-1.097<Insulin<=-0.398)     0          1  0.233766   \n",
       "17                          (-0.583<BMI<=-0.292)     0          1  0.220779   \n",
       "18     (-1.074<DiabetesPedigreeFunction<=-0.864)     0          1  0.211039   \n",
       "1                   (0.403<BloodPressure<=0.916)     1          1  0.198052   \n",
       "19                (-0.839<SkinThickness<=-0.543)     0          1  0.185065   \n",
       "20                          (-0.629<Age<=-0.372)     0          1  0.181818   \n",
       "21                  (-0.972<Pregnancies<=-0.778)     0          1  0.178571   \n",
       "22                (-0.543<SkinThickness<=-0.249)     0          1  0.175325   \n",
       "2                         (1.064<Glucose<=1.731)     1          1  0.172078   \n",
       "23                  (-0.778<Pregnancies<=-0.583)     0          1  0.172078   \n",
       "24     (-0.864<DiabetesPedigreeFunction<=-0.655)     0          1  0.165584   \n",
       "25                        (-0.292<BMI<=-0.00171)     0          1  0.162338   \n",
       "3                  (-0.111<BloodPressure<=0.403)     1          1  0.126623   \n",
       "40                          (-0.372<Age<=-0.116)     0          1  0.123377   \n",
       "4                   (0.916<BloodPressure<=1.429)     1          1  0.116883   \n",
       "26                (-0.249<SkinThickness<=0.0455)     0          1  0.116883   \n",
       "27                  (-1.167<Pregnancies<=-0.972)     0          1  0.110390   \n",
       "28                         (-0.00171<BMI<=0.289)     0          1  0.087662   \n",
       "29     (-1.283<DiabetesPedigreeFunction<=-1.074)     0          1  0.071429   \n",
       "11                        (1.687<Insulin<=2.381)     1          1  0.071429   \n",
       "12                        (0.396<Glucose<=1.064)     1          1  0.068182   \n",
       "42                        (0.992<Insulin<=1.687)     0          1  0.064935   \n",
       "30                        (0.297<Insulin<=0.992)     0          1  0.051948   \n",
       "44                            (-0.116<Age<=0.14)     0          1  0.048701   \n",
       "5   (1.687<Insulin<=2.381, 0.396<Glucose<=1.064)     1          2  0.045455   \n",
       "6                 (-0.627<BloodPressure<=-0.111)     1          1  0.042208   \n",
       "31     (-0.655<DiabetesPedigreeFunction<=-0.445)     0          1  0.042208   \n",
       "13                            (-0.116<Age<=0.14)     1          1  0.038961   \n",
       "7                              (0.14<Age<=0.396)     1          1  0.032468   \n",
       "8                             (0.396<Age<=0.653)     1          1  0.025974   \n",
       "32                  (-0.583<Pregnancies<=-0.388)     0          1  0.022727   \n",
       "14                        (0.992<Insulin<=1.687)     1          1  0.019481   \n",
       "15                          (-0.372<Age<=-0.116)     1          1  0.019481   \n",
       "9                   (1.429<BloodPressure<=1.943)     1          1  0.016234   \n",
       "33                  (0.0455<SkinThickness<=0.34)     0          1  0.016234   \n",
       "41                             (0.289<BMI<=0.58)     0          1  0.016234   \n",
       "35    (0.992<Insulin<=1.687, -0.372<Age<=-0.116)     0          2  0.012987   \n",
       "34                  (-1.363<Pregnancies<=-1.167)     0          1  0.012987   \n",
       "36     (-1.493<DiabetesPedigreeFunction<=-1.283)     0          1  0.009740   \n",
       "37                          (-0.875<BMI<=-0.583)     0          1  0.009740   \n",
       "10    (-0.372<Age<=-0.116, 1.687<Insulin<=2.381)     1          2  0.006494   \n",
       "38                      (-0.942<Glucose<=-0.271)     0          1  0.006494   \n",
       "39                       (-0.271<Glucose<=0.396)     0          1  0.006494   \n",
       "43                       (-0.398<Insulin<=0.297)     0          1  0.006494   \n",
       "\n",
       "    confidence  antecedent support  \n",
       "0     1.000000            0.237013  \n",
       "16    1.000000            0.233766  \n",
       "17    1.000000            0.220779  \n",
       "18    1.000000            0.211039  \n",
       "1     1.000000            0.198052  \n",
       "19    1.000000            0.185065  \n",
       "20    1.000000            0.181818  \n",
       "21    1.000000            0.178571  \n",
       "22    1.000000            0.175325  \n",
       "2     1.000000            0.172078  \n",
       "23    1.000000            0.172078  \n",
       "24    1.000000            0.165584  \n",
       "25    1.000000            0.162338  \n",
       "3     1.000000            0.126623  \n",
       "40    0.863636            0.142857  \n",
       "4     1.000000            0.116883  \n",
       "26    1.000000            0.116883  \n",
       "27    1.000000            0.110390  \n",
       "28    1.000000            0.087662  \n",
       "29    1.000000            0.071429  \n",
       "11    0.916667            0.077922  \n",
       "12    0.913043            0.074675  \n",
       "42    0.769231            0.084416  \n",
       "30    1.000000            0.051948  \n",
       "44    0.555556            0.087662  \n",
       "5     1.000000            0.045455  \n",
       "6     1.000000            0.042208  \n",
       "31    1.000000            0.042208  \n",
       "13    0.444444            0.087662  \n",
       "7     1.000000            0.032468  \n",
       "8     1.000000            0.025974  \n",
       "32    1.000000            0.022727  \n",
       "14    0.230769            0.084416  \n",
       "15    0.136364            0.142857  \n",
       "9     1.000000            0.016234  \n",
       "33    1.000000            0.016234  \n",
       "41    0.833333            0.019481  \n",
       "35    1.000000            0.012987  \n",
       "34    1.000000            0.012987  \n",
       "36    1.000000            0.009740  \n",
       "37    1.000000            0.009740  \n",
       "10    1.000000            0.006494  \n",
       "38    1.000000            0.006494  \n",
       "39    1.000000            0.006494  \n",
       "43    0.666667            0.009740  "
      ]
     },
     "execution_count": 140,
     "metadata": {},
     "output_type": "execute_result"
    }
   ],
   "source": [
    "positive['num-items'] = positive['antecedents'].map(lambda x: len(x))\n",
    "negative['num-items'] = negative['antecedents'].map(lambda x: len(x))\n",
    "positive['consequents'] = positive['consequents'].map(lambda x: pos_label)\n",
    "negative['consequents'] = negative['consequents'].map(lambda x: neg_label)\n",
    "\n",
    "both = pd.concat([positive, negative], ignore_index=True)\n",
    "\n",
    "#both = positive.append(negative, ignore_index=True)\n",
    "\n",
    "discr_rules = both[['antecedents', 'consequents', 'num-items', 'support', 'confidence', 'antecedent support']].sort_values(\n",
    "    ['support', 'confidence', 'num-items'], ascending=[False, False, False])\n",
    "\n",
    "discr_rules = discr_rules.rename(columns={\"antecedents\": \"itemset\", \"consequents\": \"label\"})\n",
    "\n",
    "discr_rules"
   ]
  },
  {
   "cell_type": "code",
   "execution_count": null,
   "id": "73ee0fce",
   "metadata": {},
   "outputs": [],
   "source": [
    "rev_positive = pos_rules[pos_rules['antecedents'] == {pos_label}]\n",
    "#rev_positive = pos_rules[pos_rules['consequents'] == {pos_label}] \n",
    "rev_positive = rev_positive[rev_positive['confidence'] >= 0.7]\n",
    "rev_positive = rev_positive.sort_values(['confidence', 'support'], ascending=[False, False])\n",
    "\n",
    "seen = set()\n",
    "dropped = set()\n",
    "indexes_to_drop = []\n",
    "\n",
    "rev_positive = rev_positive.reset_index(drop=True)\n",
    "for i in rev_positive.index:\n",
    "    new_rule = rev_positive.loc[[i]]['consequents'].values[0]\n",
    "    \n",
    "    for seen_rule, indx in seen:\n",
    "        if seen_rule.issubset(new_rule):\n",
    "            indexes_to_drop.append(i)\n",
    "            break\n",
    "    else:\n",
    "        seen.add((new_rule, i))\n",
    "\n",
    "rev_positive.drop(rev_positive.index[indexes_to_drop], inplace=True )\n",
    "\n",
    "\n",
    "\n",
    "rev_negative = neg_rules[neg_rules['antecedents'] == {neg_label}]\n",
    "#rev_negative = neg_rules[neg_rules['consequents'] == {neg_label}]\n",
    "rev_negative = rev_negative[rev_negative['confidence'] >= 0.7]\n",
    "rev_negative = rev_negative.sort_values(['confidence', 'support'], ascending=[False, False])\n",
    "\n",
    "seen = set()\n",
    "dropped = set()\n",
    "indexes_to_drop = []\n",
    "\n",
    "rev_negative = rev_negative.reset_index(drop=True)\n",
    "for i in rev_negative.index:\n",
    "    new_rule = rev_negative.loc[[i]]['consequents'].values[0]\n",
    "    \n",
    "    for seen_rule, indx in seen:\n",
    "        if seen_rule.issubset(new_rule):\n",
    "            indexes_to_drop.append(i)\n",
    "            break\n",
    "    else:\n",
    "        seen.add((new_rule, i))\n",
    "\n",
    "rev_negative.drop(rev_negative.index[indexes_to_drop], inplace=True )\n"
   ]
  },
  {
   "cell_type": "code",
   "execution_count": null,
   "id": "6a01f772",
   "metadata": {},
   "outputs": [
    {
     "data": {
      "text/html": [
       "<div>\n",
       "<style scoped>\n",
       "    .dataframe tbody tr th:only-of-type {\n",
       "        vertical-align: middle;\n",
       "    }\n",
       "\n",
       "    .dataframe tbody tr th {\n",
       "        vertical-align: top;\n",
       "    }\n",
       "\n",
       "    .dataframe thead th {\n",
       "        text-align: right;\n",
       "    }\n",
       "</style>\n",
       "<table border=\"1\" class=\"dataframe\">\n",
       "  <thead>\n",
       "    <tr style=\"text-align: right;\">\n",
       "      <th></th>\n",
       "      <th>label</th>\n",
       "      <th>itemset</th>\n",
       "      <th>num-items</th>\n",
       "      <th>support</th>\n",
       "      <th>confidence</th>\n",
       "      <th>consequent support</th>\n",
       "    </tr>\n",
       "  </thead>\n",
       "  <tbody>\n",
       "  </tbody>\n",
       "</table>\n",
       "</div>"
      ],
      "text/plain": [
       "Empty DataFrame\n",
       "Columns: [label, itemset, num-items, support, confidence, consequent support]\n",
       "Index: []"
      ]
     },
     "execution_count": 142,
     "metadata": {},
     "output_type": "execute_result"
    }
   ],
   "source": [
    "rev_positive['num-items'] = rev_positive['consequents'].map(lambda x: len(x))\n",
    "rev_negative['num-items'] = rev_negative['consequents'].map(lambda x: len(x))\n",
    "rev_positive['antecedents'] = rev_positive['antecedents'].map(lambda x: pos_label)\n",
    "rev_negative['antecedents'] = rev_negative['antecedents'].map(lambda x: neg_label)\n",
    "\n",
    "#rev_both = rev_positive.append(rev_negative, ignore_index=True)\n",
    "rev_both = pd.concat([rev_positive, rev_negative], ignore_index=True)\n",
    "\n",
    "chr_rules = rev_both[['antecedents', 'consequents', 'num-items', 'support', \n",
    "                          'confidence', 'consequent support']].sort_values(\n",
    "    ['support', 'confidence', 'num-items'], ascending=[False, False, False])\n",
    "\n",
    "chr_rules = chr_rules.rename(columns={\"antecedents\": \"label\", \"consequents\": \"itemset\"})\n",
    "\n",
    "chr_rules"
   ]
  },
  {
   "cell_type": "code",
   "execution_count": null,
   "id": "26eada9b",
   "metadata": {},
   "outputs": [
    {
     "data": {
      "text/plain": [
       "'\\nfrom rules_model import *\\n\\ndev_pred = model.predict(X_test.to(\"cuda:0\"))\\nrules_model = RulesModel(ohe_df, discr_rules, X_test_DF, pos_label, neg_label)\\n\\ntest_pred = model.predict(X_train.to(\"cuda:0\"))\\nrules_test_sol = rules_model.eval_rules(X_test_DF, test_pred, alpha=10, beta =1, decision_thr=0.97)\\n'"
      ]
     },
     "execution_count": 143,
     "metadata": {},
     "output_type": "execute_result"
    }
   ],
   "source": [
    "\"\"\"\n",
    "from rules_model import *\n",
    "\n",
    "dev_pred = model.predict(X_test.to(\"cuda:0\"))\n",
    "rules_model = RulesModel(ohe_df, discr_rules, X_test_DF, pos_label, neg_label)\n",
    "\n",
    "test_pred = model.predict(X_train.to(\"cuda:0\"))\n",
    "rules_test_sol = rules_model.eval_rules(X_test_DF, test_pred, alpha=10, beta =1, decision_thr=0.97)\n",
    "\"\"\""
   ]
  },
  {
   "cell_type": "code",
   "execution_count": null,
   "id": "adb792e3",
   "metadata": {},
   "outputs": [
    {
     "data": {
      "text/plain": [
       "'\\nrules_model = RulesModel(ohe_df, chr_rules, X_test_DF, pos_label, neg_label)\\n\\ntest_pred = model.predict(X_test)\\nprint(type(test_pred))\\nprint(type(X_test))\\nrules_test_sol = rules_model.eval_rules(X_test, test_pred, alpha=30, beta=1, decision_thr=0.041)\\n'"
      ]
     },
     "execution_count": 144,
     "metadata": {},
     "output_type": "execute_result"
    }
   ],
   "source": [
    "\"\"\"\n",
    "rules_model = RulesModel(ohe_df, chr_rules, X_test_DF, pos_label, neg_label)\n",
    "\n",
    "test_pred = model.predict(X_test)\n",
    "print(type(test_pred))\n",
    "print(type(X_test))\n",
    "rules_test_sol = rules_model.eval_rules(X_test, test_pred, alpha=30, beta=1, decision_thr=0.041)\n",
    "\"\"\""
   ]
  },
  {
   "cell_type": "code",
   "execution_count": null,
   "id": "d6c88d4e",
   "metadata": {},
   "outputs": [],
   "source": [
    "#import eval\n",
    "\n",
    "#model.load_state_dict(\"/home/rosario/explainable/Bachelor/Models/finalModel\")"
   ]
  },
  {
   "cell_type": "code",
   "execution_count": null,
   "id": "50dad76c",
   "metadata": {},
   "outputs": [
    {
     "data": {
      "text/html": [
       "<div>\n",
       "<style scoped>\n",
       "    .dataframe tbody tr th:only-of-type {\n",
       "        vertical-align: middle;\n",
       "    }\n",
       "\n",
       "    .dataframe tbody tr th {\n",
       "        vertical-align: top;\n",
       "    }\n",
       "\n",
       "    .dataframe thead th {\n",
       "        text-align: right;\n",
       "    }\n",
       "</style>\n",
       "<table border=\"1\" class=\"dataframe\">\n",
       "  <thead>\n",
       "    <tr style=\"text-align: right;\">\n",
       "      <th></th>\n",
       "      <th>itemset</th>\n",
       "      <th>label</th>\n",
       "      <th>num-items</th>\n",
       "      <th>support</th>\n",
       "      <th>confidence</th>\n",
       "      <th>antecedent support</th>\n",
       "    </tr>\n",
       "  </thead>\n",
       "  <tbody>\n",
       "    <tr>\n",
       "      <th>5</th>\n",
       "      <td>(1.687&lt;Insulin&lt;=2.381, 0.396&lt;Glucose&lt;=1.064)</td>\n",
       "      <td>1</td>\n",
       "      <td>2</td>\n",
       "      <td>0.045455</td>\n",
       "      <td>1.0</td>\n",
       "      <td>0.045455</td>\n",
       "    </tr>\n",
       "    <tr>\n",
       "      <th>6</th>\n",
       "      <td>(-0.627&lt;BloodPressure&lt;=-0.111)</td>\n",
       "      <td>1</td>\n",
       "      <td>1</td>\n",
       "      <td>0.042208</td>\n",
       "      <td>1.0</td>\n",
       "      <td>0.042208</td>\n",
       "    </tr>\n",
       "  </tbody>\n",
       "</table>\n",
       "</div>"
      ],
      "text/plain": [
       "                                        itemset label  num-items   support   \n",
       "5  (1.687<Insulin<=2.381, 0.396<Glucose<=1.064)     1          2  0.045455  \\\n",
       "6                (-0.627<BloodPressure<=-0.111)     1          1  0.042208   \n",
       "\n",
       "   confidence  antecedent support  \n",
       "5         1.0            0.045455  \n",
       "6         1.0            0.042208  "
      ]
     },
     "execution_count": 153,
     "metadata": {},
     "output_type": "execute_result"
    }
   ],
   "source": [
    "discr_rules\n",
    "discr_rules1 =  discr_rules.loc[5:6]\n",
    "discr_rules1"
   ]
  },
  {
   "cell_type": "code",
   "execution_count": null,
   "id": "d31ca66e",
   "metadata": {},
   "outputs": [
    {
     "name": "stdout",
     "output_type": "stream",
     "text": [
      "[[('1.731', 'Glucose', '2.399')], [('-1.097', 'Insulin', '-0.398')], [('-0.583', 'BMI', '-0.292')], [('-1.074', 'DiabetesPedigreeFunction', '-0.864')], [('0.403', 'BloodPressure', '0.916')], [('-0.839', 'SkinThickness', '-0.543')], [('-0.629', 'Age', '-0.372')], [('-0.972', 'Pregnancies', '-0.778')], [('-0.543', 'SkinThickness', '-0.249')], [('1.064', 'Glucose', '1.731')], [('-0.778', 'Pregnancies', '-0.583')], [('-0.864', 'DiabetesPedigreeFunction', '-0.655')], [('-0.292', 'BMI', '-0.00171')], [('-0.111', 'BloodPressure', '0.403')], [('-0.372', 'Age', '-0.116')], [('0.916', 'BloodPressure', '1.429')], [('-0.249', 'SkinThickness', '0.0455')], [('-1.167', 'Pregnancies', '-0.972')], [('-0.00171', 'BMI', '0.289')], [('-1.283', 'DiabetesPedigreeFunction', '-1.074')], [('1.687', 'Insulin', '2.381')], [('0.396', 'Glucose', '1.064')], [('0.992', 'Insulin', '1.687')], [('0.297', 'Insulin', '0.992')], [('-0.116', 'Age', '0.14')], [('1.687', 'Insulin', '2.381'), ('0.396', 'Glucose', '1.064')], [('-0.627', 'BloodPressure', '-0.111')], [('-0.655', 'DiabetesPedigreeFunction', '-0.445')], [('-0.116', 'Age', '0.14')], [('0.14', 'Age', '0.396')], [('0.396', 'Age', '0.653')], [('-0.583', 'Pregnancies', '-0.388')], [('0.992', 'Insulin', '1.687')], [('-0.372', 'Age', '-0.116')], [('1.429', 'BloodPressure', '1.943')], [('0.0455', 'SkinThickness', '0.34')], [('0.289', 'BMI', '0.58')], [('0.992', 'Insulin', '1.687'), ('-0.372', 'Age', '-0.116')], [('-1.363', 'Pregnancies', '-1.167')], [('-1.493', 'DiabetesPedigreeFunction', '-1.283')], [('-0.875', 'BMI', '-0.583')], [('-0.372', 'Age', '-0.116'), ('1.687', 'Insulin', '2.381')], [('-0.942', 'Glucose', '-0.271')], [('-0.271', 'Glucose', '0.396')], [('-0.398', 'Insulin', '0.297')]]\n",
      "[[0, 1, -1, 1, -1, -1, -1, 1, -1, -1, -1, -1, 1, -1, -1, 0, 1, -1, -1, -1, -1, -1, -1, -1, 1, -1, -1, -1, 0, -1, -1, -1, -1, -1, -1, -1, -1, -1, -1, -1, -1, -1, -1, -1, -1], [-1, -1, 1, -1, -1, 1, 1, -1, -1, -1, 1, 1, -1, 0, -1, -1, -1, -1, -1, -1, 0, 0, -1, -1, -1, 0, -1, -1, -1, -1, -1, -1, -1, -1, -1, -1, -1, -1, -1, -1, -1, -1, -1, -1, -1], [0, 1, -1, -1, 0, 1, -1, -1, -1, -1, 1, 1, 1, -1, -1, -1, -1, -1, -1, -1, -1, -1, -1, -1, -1, -1, -1, -1, -1, -1, 0, -1, -1, -1, -1, -1, -1, -1, -1, -1, -1, -1, -1, -1, -1], [-1, -1, 1, 1, 0, -1, 1, -1, -1, 0, -1, -1, -1, -1, -1, -1, 1, 1, -1, -1, -1, -1, 1, -1, -1, -1, -1, -1, -1, -1, -1, -1, 0, -1, -1, -1, -1, -1, -1, -1, -1, -1, -1, -1, -1], [0, 1, 1, -1, -1, -1, -1, -1, 1, -1, -1, -1, -1, -1, -1, -1, -1, -1, -1, -1, -1, -1, -1, -1, -1, -1, 0, 1, -1, 0, -1, -1, -1, -1, -1, -1, -1, -1, -1, -1, -1, -1, -1, -1, -1], [0, -1, -1, -1, -1, -1, -1, -1, 1, -1, -1, -1, 1, -1, 1, 0, -1, 1, -1, 1, -1, -1, -1, 1, -1, -1, -1, -1, -1, -1, -1, -1, -1, 0, -1, -1, -1, -1, -1, -1, -1, -1, -1, -1, -1], [-1, 1, -1, 1, -1, -1, -1, 1, -1, 0, -1, -1, 1, -1, -1, 0, 1, -1, -1, -1, -1, -1, -1, -1, -1, -1, -1, -1, -1, 0, -1, -1, -1, -1, -1, -1, -1, -1, -1, -1, -1, -1, -1, -1, -1], [-1, -1, 1, 1, -1, 1, -1, 1, -1, -1, -1, -1, -1, 0, 1, -1, -1, -1, -1, -1, 0, 0, -1, -1, -1, 0, -1, -1, -1, -1, -1, -1, -1, 0, -1, -1, -1, -1, -1, -1, -1, 0, -1, -1, -1], [0, 1, -1, -1, 0, 1, -1, -1, -1, -1, 1, 1, -1, -1, 1, -1, -1, -1, 1, -1, -1, -1, -1, -1, -1, -1, -1, -1, -1, -1, -1, -1, -1, 0, -1, -1, -1, -1, -1, -1, -1, -1, -1, -1, -1], [-1, -1, 1, 1, -1, -1, -1, 1, 1, -1, -1, -1, -1, 0, 1, -1, -1, -1, -1, -1, 0, 0, -1, -1, -1, 0, -1, -1, -1, -1, -1, -1, -1, 0, -1, -1, -1, -1, -1, -1, -1, 0, -1, -1, -1], [-1, -1, 1, 1, -1, 1, -1, 1, -1, 0, -1, -1, -1, 0, -1, -1, -1, -1, -1, -1, -1, -1, 1, -1, 1, -1, -1, -1, 0, -1, -1, -1, 0, -1, -1, -1, -1, -1, -1, -1, -1, -1, -1, -1, -1], [-1, -1, 1, 1, 0, 1, 1, 1, -1, 0, -1, -1, -1, -1, -1, -1, -1, -1, -1, -1, -1, -1, 1, -1, -1, -1, -1, -1, -1, -1, -1, -1, 0, -1, -1, -1, -1, -1, -1, -1, -1, -1, -1, -1, -1], [-1, -1, 1, 1, -1, 1, 1, 1, -1, 0, -1, -1, -1, -1, -1, 0, -1, -1, -1, -1, -1, -1, 1, -1, -1, -1, -1, -1, -1, -1, -1, -1, 0, -1, -1, -1, -1, -1, -1, -1, -1, -1, -1, -1, -1], [-1, -1, 1, -1, -1, 1, 1, 1, -1, 0, -1, 1, -1, 0, -1, -1, -1, -1, -1, -1, -1, -1, 1, -1, -1, -1, -1, -1, -1, -1, -1, -1, 0, -1, -1, -1, -1, -1, -1, -1, -1, -1, -1, -1, -1], [-1, -1, 1, 1, -1, -1, 1, 1, 1, -1, -1, -1, -1, 0, -1, -1, -1, -1, -1, -1, 0, 0, -1, -1, -1, 0, -1, -1, -1, -1, -1, -1, -1, -1, -1, -1, -1, -1, -1, -1, -1, -1, -1, -1, -1], [0, 1, -1, -1, -1, 1, -1, -1, -1, -1, 1, 1, -1, -1, 1, 0, -1, -1, 1, -1, -1, -1, -1, -1, -1, -1, -1, -1, -1, -1, -1, -1, -1, 0, -1, -1, -1, -1, -1, -1, -1, -1, -1, -1, -1], [-1, -1, -1, -1, -1, -1, -1, -1, -1, 0, -1, -1, 1, -1, 1, 0, 1, -1, -1, -1, -1, -1, -1, 1, -1, -1, -1, -1, -1, -1, -1, -1, -1, 0, -1, -1, -1, -1, 1, 1, -1, -1, -1, -1, -1], [0, 1, -1, 1, -1, -1, -1, 1, -1, -1, -1, -1, 1, -1, 1, 0, 1, -1, -1, -1, -1, -1, -1, -1, -1, -1, -1, -1, -1, -1, -1, -1, -1, 0, -1, -1, -1, -1, -1, -1, -1, -1, -1, -1, -1], [0, -1, -1, -1, 0, -1, 1, -1, -1, -1, -1, -1, 1, -1, -1, -1, 1, 1, -1, 1, -1, -1, -1, 1, -1, -1, -1, -1, -1, -1, -1, -1, -1, -1, -1, -1, -1, -1, -1, -1, -1, -1, -1, -1, -1], [-1, -1, 1, -1, -1, -1, 1, -1, 1, -1, 1, 1, -1, -1, -1, -1, -1, -1, -1, -1, 0, 0, -1, -1, -1, 0, 0, -1, -1, -1, -1, -1, -1, -1, -1, -1, -1, -1, -1, -1, -1, -1, -1, -1, -1], [-1, -1, -1, -1, 0, -1, 1, -1, 1, 0, -1, -1, 1, -1, -1, -1, -1, 1, -1, 1, -1, -1, 1, -1, -1, -1, -1, -1, -1, -1, -1, -1, 0, -1, -1, -1, -1, -1, -1, -1, -1, -1, -1, -1, -1], [-1, -1, 1, -1, -1, -1, -1, -1, -1, 0, -1, -1, -1, 0, 1, -1, 1, 1, -1, 1, -1, -1, 1, -1, -1, -1, -1, -1, -1, -1, -1, -1, 0, 0, -1, -1, -1, 1, -1, -1, -1, -1, -1, -1, -1], [-1, -1, 1, -1, -1, 1, -1, 1, -1, 0, -1, -1, -1, 0, 1, -1, -1, -1, -1, 1, -1, -1, 1, -1, -1, -1, -1, -1, -1, -1, -1, -1, 0, 0, -1, -1, -1, 1, -1, -1, -1, -1, -1, -1, -1], [-1, -1, 1, 1, -1, -1, 1, 1, 1, 0, -1, -1, -1, 0, -1, -1, -1, -1, -1, -1, 0, -1, -1, -1, -1, -1, -1, -1, -1, -1, -1, -1, -1, -1, -1, -1, -1, -1, -1, -1, -1, -1, -1, -1, -1], [0, 1, -1, 1, 0, -1, -1, 1, 1, -1, -1, -1, 1, -1, -1, -1, -1, -1, -1, -1, -1, -1, -1, -1, 1, -1, -1, -1, 0, -1, -1, -1, -1, -1, -1, -1, -1, -1, -1, -1, -1, -1, -1, -1, -1], [0, 1, -1, -1, 0, 1, -1, -1, -1, -1, 1, -1, 1, -1, 1, -1, -1, -1, -1, -1, -1, -1, -1, -1, -1, -1, -1, 1, -1, -1, -1, -1, -1, 0, -1, -1, -1, -1, -1, -1, -1, -1, -1, -1, -1], [-1, 1, -1, 1, -1, -1, -1, 1, 1, 0, -1, -1, 1, -1, -1, 0, -1, -1, -1, -1, -1, -1, -1, -1, 1, -1, -1, -1, 0, -1, -1, -1, -1, -1, -1, -1, -1, -1, -1, -1, -1, -1, -1, -1, -1], [-1, -1, 1, -1, -1, -1, 1, -1, 1, -1, 1, -1, -1, -1, -1, -1, -1, -1, -1, -1, 0, 0, -1, -1, -1, 0, 0, 1, -1, -1, -1, -1, -1, -1, -1, -1, -1, -1, -1, -1, -1, -1, -1, -1, -1], [-1, -1, 1, 1, -1, -1, 1, 1, 1, -1, -1, -1, -1, 0, -1, -1, -1, -1, -1, -1, 0, 0, -1, -1, -1, 0, -1, -1, -1, -1, -1, -1, -1, -1, -1, -1, -1, -1, -1, -1, -1, -1, -1, -1, -1], [-1, -1, 1, 1, 0, -1, 1, -1, 1, 0, -1, -1, -1, -1, -1, -1, -1, 1, -1, -1, -1, -1, 1, -1, -1, -1, -1, -1, -1, -1, -1, -1, 0, -1, -1, -1, -1, -1, -1, -1, -1, -1, -1, -1, -1], [0, 1, -1, -1, 0, -1, 1, -1, -1, -1, 1, 1, 1, -1, -1, -1, 1, -1, -1, -1, -1, -1, -1, -1, -1, -1, -1, -1, -1, -1, -1, -1, -1, -1, -1, -1, -1, -1, -1, -1, -1, -1, -1, -1, -1], [-1, -1, -1, -1, 0, -1, 1, -1, -1, -1, -1, -1, 1, -1, -1, -1, -1, -1, -1, 1, -1, 0, 1, -1, -1, -1, -1, -1, -1, -1, -1, -1, 0, -1, -1, 1, -1, -1, 1, -1, -1, -1, -1, -1, -1], [0, 1, -1, 1, 0, -1, -1, -1, 1, -1, 1, -1, 1, -1, -1, -1, -1, -1, -1, -1, -1, -1, -1, -1, -1, -1, -1, -1, -1, -1, 0, -1, -1, -1, -1, -1, -1, -1, -1, -1, -1, -1, -1, -1, -1], [0, 1, -1, -1, 0, 1, -1, 1, -1, -1, -1, 1, -1, -1, -1, -1, -1, -1, 1, -1, -1, -1, -1, -1, -1, -1, -1, -1, -1, 0, -1, -1, -1, -1, -1, -1, -1, -1, -1, -1, -1, -1, -1, -1, -1], [0, 1, -1, -1, 0, -1, -1, -1, -1, -1, 1, 1, 1, -1, 1, -1, 1, -1, -1, -1, -1, -1, -1, -1, -1, -1, -1, -1, -1, -1, -1, -1, -1, 0, -1, -1, -1, -1, -1, -1, -1, -1, -1, -1, -1], [0, 1, -1, 1, -1, -1, -1, -1, -1, -1, 1, -1, 1, -1, -1, 0, 1, -1, -1, -1, -1, -1, -1, -1, 1, -1, -1, -1, 0, -1, -1, -1, -1, -1, -1, -1, -1, -1, -1, -1, -1, -1, -1, -1, -1], [-1, -1, 1, 1, -1, -1, -1, 1, 1, 0, -1, -1, -1, 0, 1, -1, -1, -1, -1, -1, -1, -1, 1, -1, -1, -1, -1, -1, -1, -1, -1, -1, 0, 0, -1, -1, -1, 1, -1, -1, -1, -1, -1, -1, -1], [0, -1, 1, 1, 0, 1, -1, -1, -1, -1, -1, -1, -1, -1, 1, -1, -1, 1, -1, -1, -1, -1, -1, 1, -1, -1, -1, -1, -1, -1, -1, -1, -1, 0, -1, -1, -1, -1, -1, -1, -1, -1, -1, -1, -1], [-1, -1, -1, -1, -1, 1, -1, -1, -1, 0, -1, -1, 1, -1, -1, 0, -1, 1, -1, 1, -1, -1, -1, 1, 1, -1, -1, -1, 0, -1, -1, -1, -1, -1, -1, -1, -1, -1, -1, -1, -1, -1, -1, -1, -1], [-1, -1, -1, -1, -1, -1, -1, -1, -1, 0, -1, -1, -1, -1, 1, 0, 1, -1, 1, -1, -1, -1, -1, 1, -1, -1, -1, -1, -1, -1, -1, -1, -1, 0, -1, -1, -1, -1, 1, 1, -1, -1, -1, -1, -1], [0, 1, -1, 1, -1, -1, -1, 1, -1, -1, -1, -1, -1, -1, -1, 0, 1, -1, 1, -1, -1, -1, -1, -1, 1, -1, -1, -1, 0, -1, -1, -1, -1, -1, -1, -1, -1, -1, -1, -1, -1, -1, -1, -1, -1], [0, 1, -1, -1, 0, 1, -1, -1, -1, -1, 1, 1, 1, -1, -1, -1, -1, -1, -1, -1, -1, -1, -1, -1, -1, -1, -1, -1, -1, -1, 0, -1, -1, -1, -1, -1, -1, -1, -1, -1, -1, -1, -1, -1, -1], [-1, -1, 1, -1, -1, -1, 1, 1, 1, -1, -1, 1, -1, 0, -1, -1, -1, -1, -1, -1, 0, 0, -1, -1, -1, 0, -1, -1, -1, -1, -1, -1, -1, -1, -1, -1, -1, -1, -1, -1, -1, -1, -1, -1, -1], [-1, -1, 1, -1, -1, -1, 1, -1, 1, -1, 1, -1, -1, -1, -1, -1, -1, -1, -1, -1, 0, 0, -1, -1, -1, 0, 0, 1, -1, -1, -1, -1, -1, -1, -1, -1, -1, -1, -1, -1, -1, -1, -1, -1, -1], [-1, 1, -1, 1, -1, -1, -1, 1, -1, 0, -1, -1, -1, -1, 1, 0, -1, -1, 1, -1, -1, -1, -1, -1, -1, -1, -1, -1, -1, -1, -1, -1, -1, 0, -1, 1, -1, -1, -1, -1, -1, -1, -1, -1, -1], [0, -1, 1, -1, -1, -1, -1, 1, 1, -1, -1, -1, -1, 0, 1, -1, -1, -1, -1, 1, -1, -1, -1, 1, -1, -1, -1, -1, -1, -1, -1, -1, -1, 0, -1, -1, -1, -1, -1, -1, -1, -1, -1, -1, -1], [0, 1, -1, -1, -1, 1, -1, -1, -1, -1, 1, 1, -1, -1, -1, 0, -1, -1, -1, -1, -1, -1, -1, -1, 1, -1, -1, -1, 0, -1, -1, -1, -1, -1, -1, -1, 1, -1, -1, -1, -1, -1, -1, -1, -1], [0, 1, -1, -1, 0, 1, -1, -1, -1, -1, 1, 1, -1, -1, 1, -1, -1, -1, 1, -1, -1, -1, -1, -1, -1, -1, -1, -1, -1, -1, -1, -1, -1, 0, -1, -1, -1, -1, -1, -1, -1, -1, -1, -1, -1], [-1, 1, -1, -1, -1, 1, -1, -1, -1, 0, 1, 1, 1, -1, -1, 0, -1, -1, -1, -1, -1, -1, -1, -1, -1, -1, -1, -1, -1, -1, 0, -1, -1, -1, -1, -1, -1, -1, -1, -1, -1, -1, -1, -1, -1], [-1, -1, 1, -1, -1, 1, 1, 1, -1, 0, -1, 1, -1, 0, -1, -1, -1, -1, -1, -1, 0, -1, -1, -1, -1, -1, -1, -1, -1, -1, -1, -1, -1, -1, -1, -1, -1, -1, -1, -1, -1, -1, -1, -1, -1], [-1, -1, 1, 1, 0, -1, 1, -1, 1, 0, -1, -1, -1, -1, -1, -1, -1, 1, -1, -1, -1, -1, 1, -1, -1, -1, -1, -1, -1, -1, -1, -1, 0, -1, -1, -1, -1, -1, -1, -1, -1, -1, -1, -1, -1], [-1, -1, 1, 1, -1, -1, 1, -1, 1, 0, -1, -1, -1, 0, -1, -1, -1, 1, -1, -1, 0, -1, -1, -1, -1, -1, -1, -1, -1, -1, -1, -1, -1, -1, -1, -1, -1, -1, -1, -1, -1, -1, -1, -1, -1], [0, -1, 1, -1, 0, 1, -1, 1, -1, -1, -1, -1, -1, -1, 1, -1, -1, -1, -1, 1, -1, -1, -1, 1, -1, -1, -1, -1, -1, -1, -1, -1, -1, 0, -1, -1, -1, -1, -1, -1, -1, -1, -1, -1, -1], [0, 1, 1, -1, 0, -1, -1, -1, 1, -1, 1, 1, -1, -1, 1, -1, -1, -1, -1, -1, -1, -1, -1, -1, -1, -1, -1, -1, -1, -1, -1, -1, -1, 0, -1, -1, -1, -1, -1, -1, -1, -1, -1, -1, -1], [-1, -1, 1, 1, -1, -1, -1, -1, 1, 0, -1, -1, -1, 0, 1, -1, -1, 1, -1, -1, 0, -1, -1, -1, -1, -1, -1, -1, -1, -1, -1, -1, -1, 0, -1, -1, -1, -1, -1, -1, -1, 0, -1, -1, -1], [0, 1, -1, -1, 0, -1, -1, -1, -1, -1, 1, 1, 1, -1, -1, -1, 1, -1, -1, -1, -1, -1, -1, -1, 1, -1, -1, -1, 0, -1, -1, -1, -1, -1, -1, -1, -1, -1, -1, -1, -1, -1, -1, -1, -1], [0, -1, 1, 1, -1, -1, 1, 1, 1, -1, -1, -1, -1, 0, -1, -1, -1, -1, -1, -1, -1, -1, 1, -1, -1, -1, -1, -1, -1, -1, -1, -1, 0, -1, -1, -1, -1, -1, -1, -1, -1, -1, -1, -1, -1], [0, 1, -1, 1, -1, -1, -1, 1, -1, -1, -1, -1, 1, -1, 1, 0, 1, -1, -1, -1, -1, -1, -1, -1, -1, -1, -1, -1, -1, -1, -1, -1, -1, 0, -1, -1, -1, -1, -1, -1, -1, -1, -1, -1, -1], [-1, 1, -1, 1, -1, -1, -1, 1, -1, -1, -1, -1, -1, -1, -1, -1, 1, -1, 1, -1, -1, 0, -1, -1, -1, -1, -1, -1, -1, -1, 0, -1, -1, -1, 0, -1, -1, -1, -1, -1, -1, -1, -1, -1, -1], [-1, -1, 1, -1, -1, -1, -1, -1, 1, -1, 1, -1, -1, -1, 1, -1, -1, -1, -1, -1, 0, 0, -1, -1, -1, 0, 0, 1, -1, -1, -1, -1, -1, 0, -1, -1, -1, -1, -1, -1, -1, 0, -1, -1, -1], [-1, -1, 1, -1, -1, -1, 1, 1, 1, 0, -1, 1, -1, 0, -1, -1, -1, -1, -1, -1, 0, -1, -1, -1, -1, -1, -1, -1, -1, -1, -1, -1, -1, -1, -1, -1, -1, -1, -1, -1, -1, -1, -1, -1, -1], [0, -1, -1, -1, -1, -1, 1, -1, -1, -1, -1, -1, 1, 0, -1, -1, 1, 1, -1, 1, -1, -1, -1, 1, -1, -1, -1, -1, -1, -1, -1, -1, -1, -1, -1, -1, -1, -1, -1, -1, -1, -1, -1, -1, -1], [0, -1, 1, 1, -1, -1, -1, -1, -1, -1, -1, -1, -1, -1, 1, 0, 1, 1, -1, -1, -1, -1, -1, -1, -1, -1, -1, -1, -1, -1, -1, -1, -1, 0, -1, -1, -1, -1, -1, -1, -1, -1, -1, -1, 1], [0, 1, -1, -1, -1, -1, -1, -1, -1, -1, 1, 1, 1, 0, 1, -1, 1, -1, -1, -1, -1, -1, -1, -1, -1, -1, -1, -1, -1, -1, -1, -1, -1, 0, -1, -1, -1, -1, -1, -1, -1, -1, -1, -1, -1], [-1, -1, 1, 1, -1, 1, 1, 1, -1, 0, -1, -1, -1, 0, -1, -1, -1, -1, -1, -1, -1, -1, 1, -1, -1, -1, -1, -1, -1, -1, -1, -1, 0, -1, -1, -1, -1, -1, -1, -1, -1, -1, -1, -1, -1], [0, 1, -1, -1, -1, 1, -1, -1, -1, -1, 1, 1, 1, -1, -1, 0, -1, -1, -1, -1, -1, -1, -1, -1, 1, -1, -1, -1, 0, -1, -1, -1, -1, -1, -1, -1, -1, -1, -1, -1, -1, -1, -1, -1, -1], [-1, -1, 1, -1, 0, -1, 1, -1, -1, 0, -1, -1, -1, -1, -1, -1, 1, 1, -1, 1, -1, -1, 1, -1, -1, -1, -1, -1, -1, -1, -1, -1, 0, -1, -1, -1, -1, -1, -1, -1, -1, -1, -1, -1, -1], [-1, -1, 1, -1, -1, -1, 1, -1, 1, -1, 1, -1, -1, -1, -1, -1, -1, -1, -1, -1, -1, -1, -1, -1, -1, -1, 0, 1, -1, -1, -1, -1, -1, -1, -1, -1, -1, -1, -1, -1, -1, -1, -1, 1, -1], [0, 1, -1, -1, -1, 1, -1, -1, -1, -1, -1, -1, -1, -1, -1, -1, -1, -1, -1, -1, -1, -1, -1, -1, -1, -1, 0, 1, -1, 0, -1, 1, -1, -1, -1, -1, 1, -1, -1, -1, -1, -1, -1, -1, -1], [-1, 1, -1, 1, -1, -1, -1, 1, -1, 0, -1, -1, -1, -1, 1, 0, 1, -1, 1, -1, -1, -1, -1, -1, -1, -1, -1, -1, -1, -1, -1, -1, -1, 0, -1, -1, -1, -1, -1, -1, -1, -1, -1, -1, -1], [0, 1, -1, -1, 0, 1, -1, -1, -1, -1, 1, 1, -1, -1, -1, -1, -1, -1, 1, -1, -1, -1, -1, -1, 1, -1, -1, -1, 0, -1, -1, -1, -1, -1, -1, -1, -1, -1, -1, -1, -1, -1, -1, -1, -1], [-1, 1, -1, -1, -1, 1, -1, -1, -1, 0, 1, 1, -1, -1, -1, 0, -1, -1, -1, -1, -1, -1, -1, -1, 1, -1, -1, -1, 0, -1, -1, -1, -1, -1, -1, -1, 1, -1, -1, -1, -1, -1, -1, -1, -1], [-1, -1, 1, 1, 0, 1, 1, 1, -1, 0, -1, -1, -1, -1, -1, -1, -1, -1, -1, -1, -1, -1, 1, -1, -1, -1, -1, -1, -1, -1, -1, -1, 0, -1, -1, -1, -1, -1, -1, -1, -1, -1, -1, -1, -1], [0, 1, -1, -1, -1, -1, -1, -1, -1, -1, -1, -1, -1, -1, 1, 0, 1, 1, 1, 1, -1, -1, -1, -1, -1, -1, -1, -1, -1, -1, -1, -1, -1, 0, -1, -1, -1, -1, -1, -1, -1, -1, -1, -1, -1], [-1, 1, -1, 1, -1, -1, -1, 1, -1, 0, -1, -1, -1, -1, 1, -1, 1, -1, 1, -1, -1, -1, -1, -1, -1, -1, -1, -1, -1, -1, -1, -1, -1, 0, 0, -1, -1, -1, -1, -1, -1, -1, -1, -1, -1], [0, 1, -1, -1, 0, -1, -1, 1, -1, -1, -1, 1, -1, -1, 1, -1, 1, -1, 1, -1, -1, -1, -1, -1, -1, -1, -1, -1, -1, -1, -1, -1, -1, 0, -1, -1, -1, -1, -1, -1, -1, -1, -1, -1, -1], [-1, -1, 1, 1, -1, -1, 1, 1, 1, -1, -1, -1, -1, 0, -1, -1, -1, -1, -1, -1, 0, 0, -1, -1, -1, 0, -1, -1, -1, -1, -1, -1, -1, -1, -1, -1, -1, -1, -1, -1, -1, -1, -1, -1, -1], [-1, -1, -1, 1, -1, -1, 1, -1, -1, -1, -1, -1, 1, 0, -1, -1, 1, 1, -1, -1, 0, 0, -1, -1, -1, 0, -1, -1, -1, -1, -1, -1, -1, -1, -1, -1, -1, -1, -1, -1, -1, -1, -1, -1, -1], [-1, -1, 1, -1, -1, 1, 1, -1, -1, -1, 1, 1, -1, 0, -1, -1, -1, -1, -1, -1, 0, 0, -1, -1, -1, 0, -1, -1, -1, -1, -1, -1, -1, -1, -1, -1, -1, -1, -1, -1, -1, -1, -1, -1, -1], [-1, -1, -1, -1, -1, -1, 1, -1, -1, 0, -1, -1, 1, -1, -1, 0, -1, -1, -1, 1, -1, -1, -1, -1, -1, -1, -1, -1, -1, -1, -1, -1, -1, -1, -1, -1, -1, -1, 1, -1, -1, -1, -1, -1, 1], [0, 1, -1, -1, -1, 1, -1, -1, -1, -1, 1, 1, -1, -1, -1, 0, -1, -1, 1, -1, -1, -1, -1, -1, 1, -1, -1, -1, 0, -1, -1, -1, -1, -1, -1, -1, -1, -1, -1, -1, -1, -1, -1, -1, -1], [0, 1, -1, -1, 0, 1, -1, -1, -1, -1, 1, 1, 1, -1, -1, -1, -1, -1, -1, -1, -1, -1, -1, -1, -1, -1, -1, -1, -1, 0, -1, -1, -1, -1, -1, -1, -1, -1, -1, -1, -1, -1, -1, -1, -1], [0, 1, -1, -1, -1, -1, -1, -1, 1, -1, -1, -1, -1, -1, -1, -1, -1, -1, 1, -1, -1, -1, -1, -1, 1, -1, 0, 1, 0, -1, -1, 1, -1, -1, -1, -1, -1, -1, -1, -1, -1, -1, -1, -1, -1], [0, 1, -1, -1, 0, 1, -1, -1, -1, -1, 1, 1, -1, -1, -1, -1, -1, -1, 1, -1, -1, -1, -1, -1, 1, -1, -1, -1, 0, -1, -1, -1, -1, -1, -1, -1, -1, -1, -1, -1, -1, -1, -1, -1, -1], [-1, -1, 1, -1, -1, -1, 1, -1, 1, -1, 1, 1, -1, 0, -1, -1, -1, -1, -1, -1, 0, 0, -1, -1, -1, 0, -1, -1, -1, -1, -1, -1, -1, -1, -1, -1, -1, -1, -1, -1, -1, -1, -1, -1, -1], [0, 1, -1, -1, -1, 1, -1, -1, -1, -1, 1, 1, -1, -1, -1, 0, -1, -1, 1, -1, -1, -1, -1, -1, 1, -1, -1, -1, 0, -1, -1, -1, -1, -1, -1, -1, -1, -1, -1, -1, -1, -1, -1, -1, -1], [-1, -1, 1, 1, 0, -1, 1, -1, 1, 0, -1, -1, -1, -1, -1, -1, -1, 1, -1, -1, -1, -1, 1, -1, -1, -1, -1, -1, -1, -1, -1, -1, 0, -1, -1, -1, -1, -1, -1, -1, -1, -1, -1, -1, -1], [0, 1, -1, -1, 0, 1, -1, -1, -1, -1, 1, 1, 1, -1, 1, -1, -1, -1, -1, -1, -1, -1, -1, -1, -1, -1, -1, -1, -1, -1, -1, -1, -1, 0, -1, -1, -1, -1, -1, -1, -1, -1, -1, -1, -1], [0, 1, -1, -1, -1, -1, -1, -1, 1, -1, -1, -1, -1, -1, -1, -1, -1, -1, 1, -1, -1, -1, -1, -1, 1, -1, 0, 1, 0, -1, -1, 1, -1, -1, -1, -1, -1, -1, -1, -1, -1, -1, -1, -1, -1], [-1, -1, 1, -1, -1, -1, -1, -1, 1, -1, -1, -1, -1, -1, 1, -1, -1, -1, -1, -1, 0, -1, -1, -1, -1, -1, 0, 1, -1, -1, -1, 1, -1, 0, -1, -1, -1, -1, -1, -1, -1, 0, -1, 1, -1], [-1, -1, -1, -1, -1, -1, 1, 1, 1, -1, -1, 1, 1, 0, -1, -1, -1, -1, -1, -1, 0, 0, -1, -1, -1, 0, -1, -1, -1, -1, -1, -1, -1, -1, -1, -1, -1, -1, -1, -1, -1, -1, -1, -1, -1], [-1, -1, 1, 1, -1, -1, -1, -1, 1, 0, -1, -1, -1, 0, 1, -1, -1, 1, -1, -1, -1, -1, 1, -1, -1, -1, -1, -1, -1, -1, -1, -1, 0, 0, -1, -1, -1, 1, -1, -1, -1, -1, -1, -1, -1], [0, 1, -1, -1, 0, 1, -1, -1, -1, -1, 1, 1, -1, -1, 1, -1, -1, -1, 1, -1, -1, -1, -1, -1, -1, -1, -1, -1, -1, -1, -1, -1, -1, 0, -1, -1, -1, -1, -1, -1, -1, -1, -1, -1, -1], [0, 1, -1, -1, 0, -1, 1, 1, -1, -1, -1, 1, -1, -1, -1, -1, -1, -1, 1, -1, -1, -1, -1, -1, -1, -1, -1, -1, -1, -1, -1, -1, -1, -1, -1, 1, -1, -1, -1, -1, -1, -1, -1, -1, -1], [0, -1, 1, 1, 0, -1, 1, -1, 1, -1, -1, -1, -1, -1, -1, -1, -1, 1, -1, -1, -1, -1, -1, 1, -1, -1, -1, -1, -1, -1, -1, -1, -1, -1, -1, -1, -1, -1, -1, -1, -1, -1, -1, -1, -1], [0, 1, -1, 1, 0, -1, -1, -1, -1, -1, 1, -1, 1, -1, -1, -1, 1, -1, -1, -1, -1, -1, -1, -1, 1, -1, -1, -1, 0, -1, -1, -1, -1, -1, -1, -1, -1, -1, -1, -1, -1, -1, -1, -1, -1], [-1, -1, 1, 1, 0, -1, 1, -1, 1, 0, -1, -1, -1, -1, -1, -1, -1, 1, -1, -1, -1, -1, 1, -1, -1, -1, -1, -1, -1, -1, -1, -1, 0, -1, -1, -1, -1, -1, -1, -1, -1, -1, -1, -1, -1], [0, 1, -1, -1, 0, 1, -1, -1, -1, -1, 1, 1, -1, -1, 1, -1, -1, -1, 1, -1, -1, -1, -1, -1, -1, -1, -1, -1, -1, -1, -1, -1, -1, 0, -1, -1, -1, -1, -1, -1, -1, -1, -1, -1, -1], [-1, -1, 1, 1, -1, 1, -1, 1, -1, 0, -1, -1, -1, 0, 1, -1, -1, -1, -1, -1, -1, -1, 1, -1, -1, -1, -1, -1, -1, -1, -1, -1, 0, 0, -1, -1, -1, 1, -1, -1, -1, -1, -1, -1, -1], [-1, -1, 1, -1, -1, -1, 1, -1, 1, -1, 1, -1, -1, -1, -1, -1, -1, -1, -1, -1, 0, -1, -1, -1, -1, -1, 0, 1, -1, -1, -1, -1, -1, -1, -1, -1, -1, -1, -1, -1, -1, -1, -1, 1, -1], [0, -1, 1, 1, 0, 1, -1, 1, -1, -1, -1, -1, -1, -1, 1, -1, -1, -1, -1, -1, -1, -1, -1, 1, -1, -1, -1, -1, -1, -1, -1, -1, -1, 0, -1, -1, -1, -1, -1, -1, -1, -1, -1, -1, -1], [0, 1, -1, -1, 0, 1, -1, -1, -1, -1, -1, 1, 1, -1, -1, -1, -1, -1, -1, -1, -1, -1, -1, -1, 1, -1, -1, -1, 0, -1, -1, 1, -1, -1, -1, -1, -1, -1, -1, -1, -1, -1, -1, -1, -1], [-1, -1, 1, 1, -1, -1, 1, 1, 1, -1, -1, -1, -1, 0, -1, -1, -1, -1, -1, -1, 0, 0, -1, -1, -1, 0, -1, -1, -1, -1, -1, -1, -1, -1, -1, -1, -1, -1, -1, -1, -1, -1, -1, -1, -1], [0, 1, 1, -1, -1, -1, -1, -1, 1, -1, -1, -1, -1, -1, -1, -1, -1, -1, -1, -1, -1, -1, -1, -1, -1, -1, 0, 1, -1, 0, -1, 1, -1, -1, -1, -1, -1, -1, -1, -1, -1, -1, -1, -1, -1], [0, -1, 1, 1, 0, -1, 1, 1, 1, -1, -1, -1, -1, -1, -1, -1, -1, -1, -1, -1, -1, -1, -1, 1, -1, -1, -1, -1, -1, -1, -1, -1, -1, -1, -1, -1, -1, -1, -1, -1, -1, -1, -1, -1, -1], [-1, -1, 1, 1, 0, 1, 1, -1, -1, 0, -1, -1, -1, -1, -1, -1, -1, 1, -1, -1, -1, -1, 1, -1, -1, -1, -1, -1, -1, -1, -1, -1, 0, -1, -1, -1, -1, -1, -1, -1, -1, -1, -1, -1, -1], [0, -1, 1, 1, -1, 1, -1, 1, -1, -1, -1, -1, -1, -1, 1, 0, -1, -1, -1, -1, -1, -1, -1, 1, -1, -1, -1, -1, -1, -1, -1, -1, -1, 0, -1, -1, -1, -1, -1, -1, -1, -1, -1, -1, -1], [-1, -1, 1, 1, 0, -1, 1, -1, 1, 0, -1, -1, -1, -1, -1, -1, -1, 1, -1, -1, -1, -1, 1, -1, -1, -1, -1, -1, -1, -1, -1, -1, 0, -1, -1, -1, -1, -1, -1, -1, -1, -1, -1, -1, -1], [0, 1, -1, -1, -1, 1, -1, -1, -1, -1, 1, 1, 1, -1, -1, 0, -1, -1, -1, -1, -1, -1, -1, -1, 1, -1, -1, -1, 0, -1, -1, -1, -1, -1, -1, -1, -1, -1, -1, -1, -1, -1, -1, -1, -1], [-1, -1, 1, 1, -1, -1, 1, 1, 1, -1, -1, -1, -1, 0, -1, -1, -1, -1, -1, -1, 0, 0, -1, -1, -1, 0, -1, -1, -1, -1, -1, -1, -1, -1, -1, -1, -1, -1, -1, -1, -1, -1, -1, -1, -1], [-1, -1, 1, 1, -1, -1, -1, 1, 1, 0, -1, -1, -1, 0, -1, -1, -1, -1, -1, -1, 0, -1, -1, -1, 1, -1, -1, -1, 0, -1, -1, -1, -1, -1, -1, -1, -1, -1, -1, -1, -1, -1, -1, -1, -1], [-1, 1, -1, 1, -1, -1, -1, 1, -1, 0, -1, -1, 1, -1, -1, 0, 1, -1, -1, -1, -1, -1, -1, -1, 1, -1, -1, -1, 0, -1, -1, -1, -1, -1, -1, -1, -1, -1, -1, -1, -1, -1, -1, -1, -1], [0, 1, -1, 1, -1, -1, -1, -1, -1, -1, 1, -1, 1, -1, 1, 0, 1, -1, -1, -1, -1, -1, -1, -1, -1, -1, -1, -1, -1, -1, -1, -1, -1, 0, -1, -1, -1, -1, -1, -1, -1, -1, -1, -1, -1], [0, 1, -1, -1, 0, 1, -1, -1, -1, -1, 1, 1, -1, -1, -1, -1, -1, -1, -1, -1, -1, -1, -1, -1, -1, -1, -1, -1, -1, -1, 0, -1, -1, -1, -1, -1, -1, -1, -1, -1, 1, -1, -1, -1, -1], [0, 1, -1, -1, -1, 1, -1, -1, -1, -1, 1, 1, 1, -1, -1, 0, -1, -1, -1, -1, -1, -1, -1, -1, -1, -1, -1, -1, -1, 0, -1, -1, -1, -1, -1, -1, -1, -1, -1, -1, -1, -1, -1, -1, -1], [-1, -1, 1, 1, -1, 1, 1, 1, -1, 0, -1, -1, -1, 0, -1, -1, -1, -1, -1, -1, -1, -1, 1, -1, -1, -1, -1, -1, -1, -1, -1, -1, 0, -1, -1, -1, -1, -1, -1, -1, -1, -1, -1, -1, -1], [-1, -1, 1, -1, -1, -1, -1, -1, -1, 0, -1, -1, -1, -1, -1, 0, 1, 1, -1, -1, -1, -1, -1, 1, 1, -1, -1, -1, 0, -1, -1, -1, -1, -1, -1, -1, -1, -1, -1, 1, -1, -1, -1, -1, -1], [-1, -1, 1, 1, -1, 1, -1, 1, -1, 0, -1, -1, -1, 0, 1, -1, -1, -1, -1, -1, -1, -1, 1, -1, -1, -1, -1, -1, -1, -1, -1, -1, 0, 0, -1, -1, -1, 1, -1, -1, -1, -1, -1, -1, -1], [-1, -1, 1, 1, -1, 1, 1, 1, -1, 0, -1, -1, -1, 0, -1, -1, -1, -1, -1, -1, -1, -1, 1, -1, -1, -1, -1, -1, -1, -1, -1, -1, 0, -1, -1, -1, -1, -1, -1, -1, -1, -1, -1, -1, -1], [0, 1, -1, -1, 0, 1, -1, -1, -1, -1, 1, 1, 1, -1, 1, -1, -1, -1, -1, -1, -1, -1, -1, -1, -1, -1, -1, -1, -1, -1, -1, -1, -1, 0, -1, -1, -1, -1, -1, -1, -1, -1, -1, -1, -1], [0, 1, -1, -1, 0, 1, -1, -1, -1, -1, 1, 1, -1, -1, -1, -1, -1, -1, 1, -1, -1, -1, -1, -1, 1, -1, -1, -1, 0, -1, -1, -1, -1, -1, -1, -1, -1, -1, -1, -1, -1, -1, -1, -1, -1], [0, 1, -1, -1, 0, 1, -1, -1, -1, -1, 1, 1, -1, -1, -1, -1, -1, -1, -1, -1, -1, -1, -1, -1, 1, -1, -1, -1, 0, -1, -1, -1, -1, -1, -1, -1, 1, -1, -1, -1, -1, -1, -1, -1, -1], [-1, 1, -1, 1, -1, -1, -1, -1, -1, -1, 1, -1, -1, -1, -1, -1, -1, -1, -1, -1, -1, -1, -1, -1, -1, -1, -1, -1, -1, -1, 0, -1, -1, -1, 0, -1, 1, -1, -1, -1, -1, -1, 1, -1, -1], [-1, 1, -1, 1, -1, -1, -1, -1, -1, 0, 1, -1, 1, -1, -1, -1, 1, -1, -1, -1, -1, -1, -1, -1, -1, -1, -1, -1, -1, 0, -1, -1, -1, -1, 0, -1, -1, -1, -1, -1, -1, -1, -1, -1, -1], [0, 1, -1, 1, -1, -1, -1, 1, -1, -1, -1, -1, -1, -1, 1, 0, -1, -1, 1, -1, -1, -1, -1, -1, -1, -1, -1, -1, -1, -1, -1, -1, -1, 0, -1, 1, -1, -1, -1, -1, -1, -1, -1, -1, -1], [0, 1, -1, -1, 0, -1, -1, -1, 1, -1, 1, 1, 1, -1, 1, -1, -1, -1, -1, -1, -1, -1, -1, -1, -1, -1, -1, -1, -1, -1, -1, -1, -1, 0, -1, -1, -1, -1, -1, -1, -1, -1, -1, -1, -1], [0, -1, -1, -1, 0, -1, -1, -1, 1, -1, -1, -1, -1, -1, -1, -1, -1, 1, -1, 1, -1, -1, -1, -1, -1, -1, -1, -1, -1, -1, 0, -1, -1, -1, -1, -1, -1, -1, -1, -1, 1, -1, -1, -1, 1], [-1, -1, 1, 1, -1, 1, 1, 1, -1, 0, -1, -1, -1, 0, -1, -1, -1, -1, -1, -1, -1, -1, 1, -1, -1, -1, -1, -1, -1, -1, -1, -1, 0, -1, -1, -1, -1, -1, -1, -1, -1, -1, -1, -1, -1], [0, 1, -1, -1, 0, 1, -1, -1, -1, -1, 1, 1, 1, -1, -1, -1, -1, -1, -1, -1, -1, -1, -1, -1, 1, -1, -1, -1, 0, -1, -1, -1, -1, -1, -1, -1, -1, -1, -1, -1, -1, -1, -1, -1, -1], [0, 1, -1, -1, 0, 1, -1, -1, -1, -1, 1, 1, 1, -1, 1, -1, -1, -1, -1, -1, -1, -1, -1, -1, -1, -1, -1, -1, -1, -1, -1, -1, -1, 0, -1, -1, -1, -1, -1, -1, -1, -1, -1, -1, -1], [-1, -1, -1, -1, 0, -1, 1, -1, 1, 0, -1, -1, 1, -1, -1, -1, -1, 1, -1, 1, -1, -1, 1, -1, -1, -1, -1, -1, -1, -1, -1, -1, 0, -1, -1, -1, -1, -1, -1, -1, -1, -1, -1, -1, -1], [0, 1, -1, 1, 0, -1, -1, -1, -1, -1, 1, -1, 1, -1, -1, -1, 1, -1, -1, -1, -1, -1, -1, -1, 1, -1, -1, -1, 0, -1, -1, -1, -1, -1, -1, -1, -1, -1, -1, -1, -1, -1, -1, -1, -1], [-1, -1, 1, -1, 0, -1, 1, -1, 1, 0, -1, -1, -1, -1, -1, -1, -1, 1, -1, 1, -1, -1, 1, -1, -1, -1, -1, -1, -1, -1, -1, -1, 0, -1, -1, -1, -1, -1, -1, -1, -1, -1, -1, -1, -1], [-1, -1, -1, -1, 0, -1, 1, 1, 1, 0, -1, 1, -1, -1, -1, -1, -1, -1, -1, -1, -1, -1, 1, -1, -1, -1, -1, -1, -1, -1, -1, -1, 0, -1, -1, -1, -1, -1, -1, -1, 1, -1, -1, -1, -1], [-1, -1, 1, -1, -1, -1, -1, -1, 1, -1, -1, -1, -1, 0, -1, -1, -1, 1, -1, 1, 0, 0, -1, -1, 1, 0, -1, -1, 0, -1, -1, -1, -1, -1, -1, -1, -1, -1, -1, -1, -1, -1, -1, -1, -1], [0, 1, -1, -1, -1, 1, -1, -1, -1, -1, -1, -1, -1, -1, -1, -1, -1, -1, 1, -1, -1, -1, -1, -1, -1, -1, 0, 1, -1, 0, -1, 1, -1, -1, -1, -1, -1, -1, -1, -1, -1, -1, -1, -1, -1], [0, 1, -1, -1, 0, -1, -1, -1, -1, -1, 1, 1, 1, -1, -1, -1, 1, -1, -1, -1, -1, -1, -1, -1, 1, -1, -1, -1, 0, -1, -1, -1, -1, -1, -1, -1, -1, -1, -1, -1, -1, -1, -1, -1, -1], [-1, -1, 1, 1, -1, -1, 1, 1, 1, -1, -1, -1, -1, 0, -1, -1, -1, -1, -1, -1, 0, 0, -1, -1, -1, 0, -1, -1, -1, -1, -1, -1, -1, -1, -1, -1, -1, -1, -1, -1, -1, -1, -1, -1, -1], [0, 1, -1, 1, 0, -1, -1, -1, -1, -1, 1, -1, 1, -1, -1, -1, 1, -1, -1, -1, -1, -1, -1, -1, -1, -1, -1, -1, -1, 0, -1, -1, -1, -1, -1, -1, -1, -1, -1, -1, -1, -1, -1, -1, -1], [-1, -1, 1, -1, 0, -1, -1, -1, 1, 0, -1, -1, -1, -1, 1, -1, -1, 1, -1, 1, -1, -1, 1, -1, -1, -1, -1, -1, -1, -1, -1, -1, 0, 0, -1, -1, -1, 1, -1, -1, -1, -1, -1, -1, -1], [-1, -1, 1, 1, 0, -1, 1, -1, 1, -1, -1, -1, -1, -1, -1, -1, -1, 1, -1, -1, 0, 0, -1, -1, -1, 0, -1, -1, -1, -1, -1, -1, -1, -1, -1, -1, -1, -1, -1, -1, -1, -1, -1, -1, -1], [-1, 1, -1, -1, -1, -1, -1, -1, -1, -1, 1, 1, -1, -1, -1, -1, -1, -1, -1, -1, -1, -1, -1, -1, -1, -1, -1, -1, -1, -1, 0, -1, -1, -1, 0, 1, 1, -1, -1, -1, -1, -1, 1, -1, -1], [-1, -1, 1, -1, -1, 1, -1, -1, -1, 0, -1, -1, -1, -1, 1, 0, -1, 1, -1, 1, -1, -1, -1, 1, -1, -1, -1, -1, -1, -1, -1, -1, -1, 0, -1, -1, -1, -1, -1, -1, -1, -1, -1, -1, -1], [-1, -1, 1, 1, -1, -1, 1, 1, 1, 0, -1, -1, -1, 0, -1, -1, -1, -1, -1, -1, -1, -1, 1, -1, -1, -1, -1, -1, -1, -1, -1, -1, 0, -1, -1, -1, -1, -1, -1, -1, -1, -1, -1, -1, -1], [-1, -1, -1, -1, -1, 1, 1, -1, -1, 0, -1, -1, 1, -1, -1, 0, -1, 1, -1, 1, -1, -1, -1, 1, -1, -1, -1, -1, -1, -1, -1, -1, -1, -1, -1, -1, -1, -1, -1, -1, -1, -1, -1, -1, -1], [-1, -1, -1, 1, 0, 1, 1, -1, -1, 0, -1, -1, 1, -1, -1, -1, -1, 1, -1, -1, -1, -1, 1, -1, -1, -1, -1, -1, -1, -1, -1, -1, 0, -1, -1, -1, -1, -1, -1, -1, -1, -1, -1, -1, -1], [0, 1, -1, 1, -1, -1, -1, 1, -1, -1, -1, -1, 1, -1, -1, 0, 1, -1, -1, -1, -1, -1, -1, -1, 1, -1, -1, -1, 0, -1, -1, -1, -1, -1, -1, -1, -1, -1, -1, -1, -1, -1, -1, -1, -1], [-1, -1, -1, 1, -1, -1, 1, -1, 1, -1, -1, -1, 1, 0, -1, -1, -1, 1, -1, -1, 0, 0, -1, -1, -1, 0, -1, -1, -1, -1, -1, -1, -1, -1, -1, -1, -1, -1, -1, -1, -1, -1, -1, -1, -1], [0, 1, -1, -1, 0, 1, -1, -1, -1, -1, 1, 1, 1, -1, -1, -1, -1, -1, -1, -1, -1, -1, -1, -1, 1, -1, -1, -1, 0, -1, -1, -1, -1, -1, -1, -1, -1, -1, -1, -1, -1, -1, -1, -1, -1], [0, 1, -1, -1, -1, 1, -1, -1, -1, -1, 1, 1, -1, -1, -1, 0, -1, -1, 1, -1, -1, -1, -1, -1, 1, -1, -1, -1, 0, -1, -1, -1, -1, -1, -1, -1, -1, -1, -1, -1, -1, -1, -1, -1, -1], [0, 1, -1, -1, 0, -1, -1, 1, -1, -1, -1, -1, -1, -1, -1, -1, 1, -1, 1, 1, -1, -1, -1, -1, 1, -1, -1, -1, 0, -1, -1, -1, -1, -1, -1, -1, -1, -1, -1, -1, -1, -1, -1, -1, -1], [-1, -1, 1, -1, 0, -1, 1, -1, -1, 0, -1, -1, -1, -1, -1, -1, 1, 1, -1, 1, -1, -1, 1, -1, -1, -1, -1, -1, -1, -1, -1, -1, 0, -1, -1, -1, -1, -1, -1, -1, -1, -1, -1, -1, -1], [0, 1, -1, -1, -1, -1, -1, 1, 1, -1, -1, 1, 1, -1, -1, 0, -1, -1, -1, -1, -1, -1, -1, -1, 1, -1, -1, -1, 0, -1, -1, -1, -1, -1, -1, -1, -1, -1, -1, -1, -1, -1, -1, -1, -1], [0, 1, -1, -1, 0, -1, -1, 1, -1, -1, -1, 1, -1, -1, 1, -1, 1, -1, 1, -1, -1, -1, -1, -1, -1, -1, -1, -1, -1, -1, -1, -1, -1, 0, -1, -1, -1, -1, -1, -1, -1, -1, -1, -1, -1]]\n",
      "[0, 0.625, 0.6617647058823529, 0.6923076923076923, 0, 0.7894736842105263, 0.8035714285714286, 0.8181818181818182, 0.8333333333333334, 0, 0.8490566037735849, 0.8823529411764706, 0.9, 0, 1.0, 0, 1.25, 1.3235294117647058, 1.6666666666666667, 2.0454545454545454, 0, 0, 1.3636363636363635, 2.8125, 1.3235294117647058, 0, 0, 3.4615384615384617, 0, 0, 0, 6.428571428571429, 0, 0, 0, 9.0, 7.5, 6.428571428571429, 11.25, 15.0, 15.0, 0, 22.5, 15.0, 15.0]\n",
      "[0.6164383561643836, 0.625, 0.6617647058823529, 0.6923076923076923, 0.7377049180327869, 0.7894736842105263, 0.8035714285714286, 0.8181818181818182, 0.8333333333333334, 0.8490566037735849, 0.8490566037735849, 0.8823529411764706, 0.9, 1.1538461538461537, 1.0, 1.25, 1.25, 1.3235294117647058, 1.6666666666666667, 2.0454545454545454, 1.5517241379310345, 1.9565217391304348, 1.3636363636363635, 2.8125, 1.3235294117647058, 2.142857142857143, 3.4615384615384617, 3.4615384615384617, 1.3235294117647058, 4.5, 5.0, 6.428571428571429, 1.3636363636363635, 1.0, 9.0, 9.0, 7.5, 6.428571428571429, 11.25, 15.0, 15.0, 9.0, 22.5, 15.0, 15.0]\n",
      "1.0\n",
      "45\n",
      "[1, 1, 1, 1, 1, 1, 1, 1, 1, 1, 1, 1, 1, 1, 1, 1, 1, 1, 1, 1, 1, 1, 1, 1, 1, 2, 1, 1, 1, 1, 1, 1, 1, 1, 1, 1, 1, 2, 1, 1, 1, 2, 1, 1, 1]\n"
     ]
    }
   ],
   "source": [
    "import re\n",
    "featureDict= {'Pregnancies':0, 'Glucose':1, 'BloodPressure':2, 'SkinThickness':3, 'Insulin':4,\n",
    "       'BMI':5, 'DiabetesPedigreeFunction':6, 'Age':7}\n",
    "\n",
    "rulesList =discr_rules[\"itemset\"].to_list()\n",
    "rulesList = [set(frozenset) for frozenset in rulesList]\n",
    "\n",
    "labelList_rules = discr_rules[\"label\"].apply(lambda x: ', '.join(list(x))).astype(\"unicode\")\n",
    "labelList_rules = [set(frozenset).pop() for frozenset in labelList_rules]\n",
    "\n",
    "# Regular expression pattern\n",
    "pattern = r\"([+-]?\\d+\\.\\d+)(<\\w+<=)([+-]?\\d+\\.\\d+)\"\n",
    "\n",
    "#bounds = re.findall(r\"([+-]?\\d+\\.\\d+)([<=>])([+-]?\\d+\\.\\d+)\", set_item)  # Extract bounds and category\n",
    "\n",
    "\n",
    "# Filter out upper bound, lower bound, and category for each set\n",
    "filtered_list = []\n",
    "for set_item in rulesList:\n",
    "    set_filtered = []\n",
    "    for item in set_item:\n",
    "        matches = re.findall(pattern, item)\n",
    "        if matches:\n",
    "            lower_bound, feature, upper_bound = matches[0]\n",
    "            set_filtered.append((lower_bound, feature[1:-2], upper_bound))\n",
    "    filtered_list.append(set_filtered)\n",
    "\n",
    "print(filtered_list)\n",
    "\n",
    "# meeeheeesrse\n",
    "X_testList = []\n",
    "y_testList = [] \n",
    "#print(testData[1])\n",
    "for inputs, lables in testloader:\n",
    "    X_testList.extend(inputs)\n",
    "    y_testList.extend(lables)\n",
    "\n",
    "pred = model.predict(X_test.to(\"cuda:0\"))\n",
    "\n",
    "def applyRulesOnData(data,predictions, rules, rulesLables, featureDict):\n",
    "    \"\"\"\n",
    "    data: List\n",
    "    predictions: List\n",
    "    rules : List \n",
    "    rulesLables : List\n",
    "\n",
    "    \"\"\"\n",
    "    predictionList = []  \n",
    "    \n",
    "    for j in range(len(data)):\n",
    "        tempPredictionList = []  \n",
    "        rulesComplexityList = []\n",
    "        for i in range(len(rules)): \n",
    "            # for all rules per sample # num samples * num rules\n",
    "                                            # only works for one \n",
    "            #print(filtered_list[i][0])\n",
    "\n",
    "            conditionsAreMet = False\n",
    "            rulesComplexityList.append(len(rules[i]))\n",
    "            for k in range(len(rules[i])):\n",
    "                #print(\"K:\")\n",
    "                #print(k)\n",
    "                \n",
    "                \n",
    "                lowerBound, feature, upperBound = rules[i][k]\n",
    "                #print(feature)\n",
    "                #print()\n",
    "                #print(X_testList[i][featureDict[feature]])\n",
    "                if float(lowerBound) < data[j][featureDict[feature]] <= float(upperBound):\n",
    "                    conditionsAreMet = True\n",
    "                    # Rule is apicable\n",
    "\n",
    "                else:\n",
    "                    # rules is not aplicable      \n",
    "                    tempPredictionList.append(-1)\n",
    "                    conditionsAreMet = False\n",
    "                    break\n",
    "            #print(\"k END\")  \n",
    "            if conditionsAreMet == True:\n",
    "                if predictions[j] ==  int(rulesLables[i]):\n",
    "                    # explaination model prediction is the same as trained Model prediction\n",
    "                    tempPredictionList.append(1)\n",
    "                elif predictions[j] != int(rulesLables[i]):\n",
    "                    # explaination model prediction not the same as trained Model prediction\n",
    "                    tempPredictionList.append(0)\n",
    "\n",
    "        predictionList.append(tempPredictionList)\n",
    "    return predictionList, rulesComplexityList\n",
    "\n",
    "predictionList, rulesComplexityList = applyRulesOnData(X_testList,pred, filtered_list, labelList_rules, featureDict)\n",
    "predictionList\n",
    "\n",
    "def metricCalc(predictionList):\n",
    "    \n",
    "    isCoverdList = []\n",
    "    correctPredictedList = [] \n",
    "    for i in predictionList:\n",
    "        isCovered = False\n",
    "        for j in i:\n",
    "            if j == 0 or j ==1:\n",
    "                isCovered = True\n",
    "                isCoverdList.append(1) # wird von einer Rule abgedeckt\n",
    "                break\n",
    "        if not isCovered:\n",
    "           isCoverdList.append(-1)\n",
    "    return isCoverdList\n",
    "isCoverdList = metricCalc(predictionList)\n",
    "\n",
    "coverage = isCoverdList.count(1) /len(isCoverdList) # instances covered by global explanation set  \n",
    "\n",
    "\n",
    "def rulePrecisionAndSupport(predictionList): \n",
    "    \n",
    "    # recision of an applicable rule on test instances(precision)\n",
    "    # AND how many instances does a rule cover (Support)\n",
    "    \n",
    "    predictionList_transposed =  np.array(predictionList).transpose()\n",
    "    rulePrecisionList = [] \n",
    "    ruleSupportList = [] \n",
    "    for i in predictionList_transposed:\n",
    "        tempCorrectClassified = list(i).count(1)\n",
    "        tempFalseClassified =   list(i).count(0)\n",
    "        #tempNotAplicable =     list(i).count(0) \n",
    "\n",
    "        try:\n",
    "            rulePrecisionList.append(len(predictionList_transposed) / tempCorrectClassified)\n",
    "        except ZeroDivisionError:\n",
    "            #print(\"ZeroDivisionError\")\n",
    "            rulePrecisionList.append(0)\n",
    "        try:\n",
    "            ruleSupportList.append(len(predictionList_transposed)/ (tempCorrectClassified + tempFalseClassified))\n",
    "        except ZeroDivisionError:\n",
    "            #print(\"ZeroDivisionError\")\n",
    "            rulePrecisionList.append(0)\n",
    "        \n",
    "    \n",
    "    return rulePrecisionList, ruleSupportList\n",
    "rulePrecisionList, ruleSupportList = rulePrecisionAndSupport(predictionList)\n",
    "\n",
    "generatedRules = (len(rulesList))\n",
    "\n",
    "print(predictionList)\n",
    "print(rulePrecisionList)\n",
    "print(ruleSupportList)\n",
    "print(coverage)\n",
    "print(generatedRules)\n",
    "print(rulesComplexityList)\n"
   ]
  },
  {
   "cell_type": "code",
   "execution_count": null,
   "id": "98afd23e",
   "metadata": {},
   "outputs": [],
   "source": []
  }
 ],
 "metadata": {
  "kernelspec": {
   "display_name": "Python 3",
   "language": "python",
   "name": "python3"
  },
  "language_info": {
   "codemirror_mode": {
    "name": "ipython",
    "version": 3
   },
   "file_extension": ".py",
   "mimetype": "text/x-python",
   "name": "python",
   "nbconvert_exporter": "python",
   "pygments_lexer": "ipython3",
   "version": "3.10.12"
  },
  "vscode": {
   "interpreter": {
    "hash": "916dbcbb3f70747c44a77c7bcd40155683ae19c65e1c03b4aa3499c5328201f1"
   }
  }
 },
 "nbformat": 4,
 "nbformat_minor": 5
}
